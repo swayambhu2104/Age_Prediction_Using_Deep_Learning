{
  "nbformat": 4,
  "nbformat_minor": 0,
  "metadata": {
    "colab": {
      "provenance": []
    },
    "kernelspec": {
      "name": "python3",
      "display_name": "Python 3"
    },
    "language_info": {
      "name": "python"
    }
  },
  "cells": [
    {
      "cell_type": "markdown",
      "source": [
        "# Age Detection Using Deep Neural Networks\n",
        "\n",
        "The original dataset can be accessed by clicking [here](https://drive.google.com/drive/folders/1E9m9dZYLga9kc9NGPHfZa75JNJgpgv3M)"
      ],
      "metadata": {
        "id": "KSSWKO_EQxlA"
      }
    },
    {
      "cell_type": "code",
      "source": [
        "import zipfile\n",
        "import os\n",
        "import shutil\n",
        "import random"
      ],
      "metadata": {
        "id": "ChWymt-_anUA"
      },
      "execution_count": 1,
      "outputs": []
    },
    {
      "cell_type": "markdown",
      "source": [
        "Let's mount our google drive with colab to access our dataset"
      ],
      "metadata": {
        "id": "gaM9dVWo7v-Q"
      }
    },
    {
      "cell_type": "code",
      "source": [
        "from google.colab import drive\n",
        "drive.mount('/content/drive')"
      ],
      "metadata": {
        "colab": {
          "base_uri": "https://localhost:8080/"
        },
        "id": "dxA8LdAt7oPm",
        "outputId": "9e18e379-d244-4bad-f2f7-a116995a6269"
      },
      "execution_count": 2,
      "outputs": [
        {
          "output_type": "stream",
          "name": "stdout",
          "text": [
            "Mounted at /content/drive\n"
          ]
        }
      ]
    },
    {
      "cell_type": "code",
      "source": [
        "# Unzip the downloaded file\n",
        "zip_ref = zipfile.ZipFile(\"/content/drive/MyDrive/face_age.zip\", \"r\")\n",
        "zip_ref.extractall()\n",
        "zip_ref.close()"
      ],
      "metadata": {
        "id": "N8BMM-F_cQcu"
      },
      "execution_count": 3,
      "outputs": []
    },
    {
      "cell_type": "code",
      "source": [
        "# Walk through face_age directory and list number of files\n",
        "for dirpath, dirnames, filenames in os.walk(\"face_age\"):\n",
        "  print(f\"There are {len(dirnames)} directories and {len(filenames)} images in '{dirpath}'.\")"
      ],
      "metadata": {
        "colab": {
          "base_uri": "https://localhost:8080/"
        },
        "id": "iCTxqypvcoNz",
        "outputId": "03241176-e4af-4921-ffdc-2b829203fd53"
      },
      "execution_count": 4,
      "outputs": [
        {
          "output_type": "stream",
          "name": "stdout",
          "text": [
            "There are 94 directories and 0 images in 'face_age'.\n",
            "There are 0 directories and 76 images in 'face_age/062'.\n",
            "There are 0 directories and 279 images in 'face_age/026'.\n",
            "There are 0 directories and 1 images in 'face_age/091'.\n",
            "There are 0 directories and 22 images in 'face_age/071'.\n",
            "There are 0 directories and 212 images in 'face_age/016'.\n",
            "There are 0 directories and 132 images in 'face_age/056'.\n",
            "There are 0 directories and 143 images in 'face_age/015'.\n",
            "There are 0 directories and 77 images in 'face_age/045'.\n",
            "There are 0 directories and 1112 images in 'face_age/001'.\n",
            "There are 0 directories and 85 images in 'face_age/040'.\n",
            "There are 0 directories and 70 images in 'face_age/047'.\n",
            "There are 0 directories and 126 images in 'face_age/027'.\n",
            "There are 0 directories and 47 images in 'face_age/063'.\n",
            "There are 0 directories and 29 images in 'face_age/082'.\n",
            "There are 0 directories and 87 images in 'face_age/075'.\n",
            "There are 0 directories and 130 images in 'face_age/085'.\n",
            "There are 0 directories and 139 images in 'face_age/022'.\n",
            "There are 0 directories and 105 images in 'face_age/050'.\n",
            "There are 0 directories and 60 images in 'face_age/057'.\n",
            "There are 0 directories and 284 images in 'face_age/003'.\n",
            "There are 0 directories and 13 images in 'face_age/092'.\n",
            "There are 0 directories and 29 images in 'face_age/064'.\n",
            "There are 0 directories and 17 images in 'face_age/088'.\n",
            "There are 0 directories and 109 images in 'face_age/030'.\n",
            "There are 0 directories and 137 images in 'face_age/060'.\n",
            "There are 0 directories and 113 images in 'face_age/065'.\n",
            "There are 0 directories and 45 images in 'face_age/069'.\n",
            "There are 0 directories and 55 images in 'face_age/090'.\n",
            "There are 0 directories and 27 images in 'face_age/044'.\n",
            "There are 0 directories and 236 images in 'face_age/008'.\n",
            "There are 0 directories and 106 images in 'face_age/054'.\n",
            "There are 0 directories and 133 images in 'face_age/053'.\n",
            "There are 0 directories and 16 images in 'face_age/079'.\n",
            "There are 0 directories and 159 images in 'face_age/009'.\n",
            "There are 0 directories and 145 images in 'face_age/028'.\n",
            "There are 0 directories and 16 images in 'face_age/089'.\n",
            "There are 0 directories and 103 images in 'face_age/017'.\n",
            "There are 0 directories and 59 images in 'face_age/059'.\n",
            "There are 0 directories and 99 images in 'face_age/049'.\n",
            "There are 0 directories and 126 images in 'face_age/007'.\n",
            "There are 0 directories and 22 images in 'face_age/086'.\n",
            "There are 0 directories and 56 images in 'face_age/041'.\n",
            "There are 0 directories and 53 images in 'face_age/070'.\n",
            "There are 0 directories and 47 images in 'face_age/067'.\n",
            "There are 0 directories and 11 images in 'face_age/084'.\n",
            "There are 0 directories and 92 images in 'face_age/023'.\n",
            "There are 0 directories and 137 images in 'face_age/014'.\n",
            "There are 0 directories and 141 images in 'face_age/032'.\n",
            "There are 0 directories and 58 images in 'face_age/019'.\n",
            "There are 0 directories and 61 images in 'face_age/046'.\n",
            "There are 0 directories and 3 images in 'face_age/093'.\n",
            "There are 0 directories and 54 images in 'face_age/066'.\n",
            "There are 0 directories and 84 images in 'face_age/042'.\n",
            "There are 0 directories and 75 images in 'face_age/013'.\n",
            "There are 0 directories and 62 images in 'face_age/051'.\n",
            "There are 0 directories and 3 images in 'face_age/095'.\n",
            "There are 0 directories and 150 images in 'face_age/029'.\n",
            "There are 0 directories and 63 images in 'face_age/011'.\n",
            "There are 0 directories and 260 images in 'face_age/004'.\n",
            "There are 0 directories and 121 images in 'face_age/035'.\n",
            "There are 0 directories and 4 images in 'face_age/087'.\n",
            "There are 0 directories and 156 images in 'face_age/025'.\n",
            "There are 0 directories and 71 images in 'face_age/080'.\n",
            "There are 0 directories and 106 images in 'face_age/012'.\n",
            "There are 0 directories and 70 images in 'face_age/072'.\n",
            "There are 0 directories and 94 images in 'face_age/037'.\n",
            "There are 0 directories and 191 images in 'face_age/024'.\n",
            "There are 0 directories and 181 images in 'face_age/018'.\n",
            "There are 0 directories and 114 images in 'face_age/006'.\n",
            "There are 0 directories and 50 images in 'face_age/061'.\n",
            "There are 0 directories and 30 images in 'face_age/078'.\n",
            "There are 0 directories and 31 images in 'face_age/073'.\n",
            "There are 0 directories and 52 images in 'face_age/043'.\n",
            "There are 0 directories and 91 images in 'face_age/038'.\n",
            "There are 0 directories and 52 images in 'face_age/055'.\n",
            "There are 0 directories and 112 images in 'face_age/036'.\n",
            "There are 0 directories and 16 images in 'face_age/074'.\n",
            "There are 0 directories and 7 images in 'face_age/083'.\n",
            "There are 0 directories and 96 images in 'face_age/058'.\n",
            "There are 0 directories and 58 images in 'face_age/068'.\n",
            "There are 0 directories and 103 images in 'face_age/020'.\n",
            "There are 0 directories and 97 images in 'face_age/031'.\n",
            "There are 0 directories and 475 images in 'face_age/002'.\n",
            "There are 0 directories and 64 images in 'face_age/048'.\n",
            "There are 0 directories and 87 images in 'face_age/034'.\n",
            "There are 0 directories and 19 images in 'face_age/077'.\n",
            "There are 0 directories and 136 images in 'face_age/039'.\n",
            "There are 0 directories and 140 images in 'face_age/010'.\n",
            "There are 0 directories and 10 images in 'face_age/081'.\n",
            "There are 0 directories and 133 images in 'face_age/052'.\n",
            "There are 0 directories and 136 images in 'face_age/021'.\n",
            "There are 0 directories and 46 images in 'face_age/033'.\n",
            "There are 0 directories and 180 images in 'face_age/005'.\n",
            "There are 0 directories and 35 images in 'face_age/076'.\n"
          ]
        }
      ]
    },
    {
      "cell_type": "markdown",
      "source": [
        "There are no train or test directories. So let's create one"
      ],
      "metadata": {
        "id": "Q8f9t9qae7hg"
      }
    },
    {
      "cell_type": "markdown",
      "source": [
        "## Creating Train and Test Directories"
      ],
      "metadata": {
        "id": "Ontu6Xui9R39"
      }
    },
    {
      "cell_type": "code",
      "source": [
        "# Define the paths\n",
        "data_dir = '/content/face_age'\n",
        "local_dataset_dir = '/content/new_dataset'  # Local directory to save the split dataset\n",
        "\n",
        "# Create a local directory to save the split dataset\n",
        "os.makedirs(local_dataset_dir, exist_ok=True)\n",
        "\n",
        "# Create train and test subdirectories in the local dataset directory\n",
        "os.makedirs(os.path.join(local_dataset_dir, 'train'), exist_ok=True)\n",
        "os.makedirs(os.path.join(local_dataset_dir, 'test'), exist_ok=True)\n",
        "\n",
        "# Define the split ratio\n",
        "split_ratio = 0.8\n",
        "\n",
        "for class_folder in os.listdir(data_dir):\n",
        "    class_folder_path = os.path.join(data_dir, class_folder)\n",
        "    if os.path.isdir(class_folder_path):\n",
        "        # Create train and test sub directroies\n",
        "        os.makedirs(os.path.join(local_dataset_dir, 'train', class_folder), exist_ok=True)\n",
        "        os.makedirs(os.path.join(local_dataset_dir, 'test', class_folder), exist_ok=True)\n",
        "\n",
        "        # Iterating through image files\n",
        "        for filename in os.listdir(class_folder_path):\n",
        "            source_file_path = os.path.join(class_folder_path, filename)\n",
        "            if os.path.isfile(source_file_path):\n",
        "                if random.random() < split_ratio:\n",
        "                    # Move to the train folder\n",
        "                    destination_file_path = os.path.join(local_dataset_dir, 'train', class_folder, filename)\n",
        "                else:\n",
        "                    # Move to the test folder\n",
        "                    destination_file_path = os.path.join(local_dataset_dir, 'test', class_folder, filename)\n",
        "\n",
        "                try:\n",
        "                    # Copy the file to the split folder\n",
        "                    shutil.copy(source_file_path, destination_file_path)\n",
        "                except Exception as e:\n",
        "                    print(f\"Error copying {filename}: {str(e)}\")\n"
      ],
      "metadata": {
        "id": "7QAL6EiUdIB6"
      },
      "execution_count": 5,
      "outputs": []
    },
    {
      "cell_type": "markdown",
      "source": [
        "Let's save the zip file in our drive for easier access"
      ],
      "metadata": {
        "id": "5pWgZLHv9I76"
      }
    },
    {
      "cell_type": "code",
      "source": [
        "# Create a zip file containing the split dataset\n",
        "shutil.make_archive('/content/split_dataset', 'zip', local_dataset_dir)\n",
        "\n",
        "# Move the zip file to Google Drive (change the destination path as needed)\n",
        "shutil.move('/content/split_dataset.zip', '/content/drive/My Drive/split_dataset.zip')"
      ],
      "metadata": {
        "id": "LOshwiseeUqc",
        "colab": {
          "base_uri": "https://localhost:8080/",
          "height": 36
        },
        "outputId": "2ce8de72-d480-4985-ca63-075ad4d8b032"
      },
      "execution_count": 6,
      "outputs": [
        {
          "output_type": "execute_result",
          "data": {
            "text/plain": [
              "'/content/drive/My Drive/split_dataset.zip'"
            ],
            "application/vnd.google.colaboratory.intrinsic+json": {
              "type": "string"
            }
          },
          "metadata": {},
          "execution_count": 6
        }
      ]
    },
    {
      "cell_type": "code",
      "source": [],
      "metadata": {
        "id": "IRA5aEcXimHA"
      },
      "execution_count": null,
      "outputs": []
    }
  ]
}