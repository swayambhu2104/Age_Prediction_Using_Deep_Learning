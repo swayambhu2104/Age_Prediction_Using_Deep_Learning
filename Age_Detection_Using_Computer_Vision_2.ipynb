{
  "cells": [
    {
      "cell_type": "markdown",
      "metadata": {
        "id": "PQv80Pbhfmzh"
      },
      "source": [
        "# Age_Detection_Using_Computer_Vision\n",
        "\n",
        "* Become one with the data (visualize, visualize, visualize...)\n",
        "* Preprocess the data (prepare it for a model)\n",
        "* Create a model (start with a baseline)\n",
        "* Fit the model\n",
        "* Evaluate the model\n",
        "* Adjust different parameters and improve model (try to beat your baseline)\n",
        "* Repeat until satisfied"
      ]
    },
    {
      "cell_type": "markdown",
      "metadata": {
        "id": "HVqxQ3WogLQH"
      },
      "source": [
        "## 1. Import the Data"
      ]
    },
    {
      "cell_type": "code",
      "execution_count": null,
      "metadata": {
        "id": "zw8pWGcVgP42"
      },
      "outputs": [],
      "source": [
        "import zipfile\n",
        "import pathlib\n",
        "import os\n",
        "import random\n",
        "import numpy as np\n",
        "import pandas as pd\n",
        "import matplotlib.pyplot as plt\n",
        "import matplotlib.image as mpimg\n",
        "import tensorflow as tf\n",
        "from tensorflow.keras.layers import Dense, Conv2D, Flatten, MaxPool2D\n",
        "from tensorflow.keras.models import Sequential\n",
        "from tensorflow.keras.preprocessing.image import ImageDataGenerator\n",
        "from imblearn.over_sampling import RandomOverSampler"
      ]
    },
    {
      "cell_type": "code",
      "execution_count": null,
      "metadata": {
        "id": "9as_y_amgV85",
        "colab": {
          "base_uri": "https://localhost:8080/",
          "height": 349
        },
        "outputId": "49b76bb3-1ff5-4d71-af6b-42e9b723b921"
      },
      "outputs": [
        {
          "output_type": "error",
          "ename": "FileNotFoundError",
          "evalue": "ignored",
          "traceback": [
            "\u001b[0;31m---------------------------------------------------------------------------\u001b[0m",
            "\u001b[0;31mFileNotFoundError\u001b[0m                         Traceback (most recent call last)",
            "\u001b[0;32m<ipython-input-2-86530b2378d9>\u001b[0m in \u001b[0;36m<cell line: 2>\u001b[0;34m()\u001b[0m\n\u001b[1;32m      1\u001b[0m \u001b[0;31m# Let's unzip the file\u001b[0m\u001b[0;34m\u001b[0m\u001b[0;34m\u001b[0m\u001b[0m\n\u001b[0;32m----> 2\u001b[0;31m \u001b[0mzip_ref\u001b[0m \u001b[0;34m=\u001b[0m \u001b[0mzipfile\u001b[0m\u001b[0;34m.\u001b[0m\u001b[0mZipFile\u001b[0m\u001b[0;34m(\u001b[0m\u001b[0;34m\"/content/drive/MyDrive/split_dataset.zip\"\u001b[0m\u001b[0;34m,\u001b[0m\u001b[0;34m\"r\"\u001b[0m\u001b[0;34m)\u001b[0m\u001b[0;34m\u001b[0m\u001b[0;34m\u001b[0m\u001b[0m\n\u001b[0m\u001b[1;32m      3\u001b[0m \u001b[0mzip_ref\u001b[0m\u001b[0;34m.\u001b[0m\u001b[0mextractall\u001b[0m\u001b[0;34m(\u001b[0m\u001b[0;34m)\u001b[0m\u001b[0;34m\u001b[0m\u001b[0;34m\u001b[0m\u001b[0m\n\u001b[1;32m      4\u001b[0m \u001b[0mzip_ref\u001b[0m\u001b[0;34m.\u001b[0m\u001b[0mclose\u001b[0m\u001b[0;34m(\u001b[0m\u001b[0;34m)\u001b[0m\u001b[0;34m\u001b[0m\u001b[0;34m\u001b[0m\u001b[0m\n",
            "\u001b[0;32m/usr/lib/python3.10/zipfile.py\u001b[0m in \u001b[0;36m__init__\u001b[0;34m(self, file, mode, compression, allowZip64, compresslevel, strict_timestamps)\u001b[0m\n\u001b[1;32m   1249\u001b[0m             \u001b[0;32mwhile\u001b[0m \u001b[0;32mTrue\u001b[0m\u001b[0;34m:\u001b[0m\u001b[0;34m\u001b[0m\u001b[0;34m\u001b[0m\u001b[0m\n\u001b[1;32m   1250\u001b[0m                 \u001b[0;32mtry\u001b[0m\u001b[0;34m:\u001b[0m\u001b[0;34m\u001b[0m\u001b[0;34m\u001b[0m\u001b[0m\n\u001b[0;32m-> 1251\u001b[0;31m                     \u001b[0mself\u001b[0m\u001b[0;34m.\u001b[0m\u001b[0mfp\u001b[0m \u001b[0;34m=\u001b[0m \u001b[0mio\u001b[0m\u001b[0;34m.\u001b[0m\u001b[0mopen\u001b[0m\u001b[0;34m(\u001b[0m\u001b[0mfile\u001b[0m\u001b[0;34m,\u001b[0m \u001b[0mfilemode\u001b[0m\u001b[0;34m)\u001b[0m\u001b[0;34m\u001b[0m\u001b[0;34m\u001b[0m\u001b[0m\n\u001b[0m\u001b[1;32m   1252\u001b[0m                 \u001b[0;32mexcept\u001b[0m \u001b[0mOSError\u001b[0m\u001b[0;34m:\u001b[0m\u001b[0;34m\u001b[0m\u001b[0;34m\u001b[0m\u001b[0m\n\u001b[1;32m   1253\u001b[0m                     \u001b[0;32mif\u001b[0m \u001b[0mfilemode\u001b[0m \u001b[0;32min\u001b[0m \u001b[0mmodeDict\u001b[0m\u001b[0;34m:\u001b[0m\u001b[0;34m\u001b[0m\u001b[0;34m\u001b[0m\u001b[0m\n",
            "\u001b[0;31mFileNotFoundError\u001b[0m: [Errno 2] No such file or directory: '/content/drive/MyDrive/split_dataset.zip'"
          ]
        }
      ],
      "source": [
        "# Let's unzip the file\n",
        "zip_ref = zipfile.ZipFile(\"/content/drive/MyDrive/split_dataset.zip\",\"r\")\n",
        "zip_ref.extractall()\n",
        "zip_ref.close()"
      ]
    },
    {
      "cell_type": "code",
      "execution_count": null,
      "metadata": {
        "colab": {
          "base_uri": "https://localhost:8080/"
        },
        "id": "3upLVyaRgjD0",
        "outputId": "97e2b040-17ba-48b5-e50e-1fb94d12f94a"
      },
      "outputs": [
        {
          "output_type": "stream",
          "name": "stdout",
          "text": [
            "There are 94 directories and 0 images in 'train'.\n",
            "There are 0 directories and 81 images in 'train/012'.\n",
            "There are 0 directories and 17 images in 'train/071'.\n",
            "There are 0 directories and 53 images in 'train/072'.\n",
            "There are 0 directories and 117 images in 'train/053'.\n",
            "There are 0 directories and 115 images in 'train/029'.\n",
            "There are 0 directories and 80 images in 'train/031'.\n",
            "There are 0 directories and 39 images in 'train/070'.\n",
            "There are 0 directories and 46 images in 'train/090'.\n",
            "There are 0 directories and 884 images in 'train/001'.\n",
            "There are 0 directories and 1 images in 'train/093'.\n",
            "There are 0 directories and 35 images in 'train/033'.\n",
            "There are 0 directories and 9 images in 'train/081'.\n",
            "There are 0 directories and 214 images in 'train/026'.\n",
            "There are 0 directories and 45 images in 'train/046'.\n",
            "There are 0 directories and 108 images in 'train/010'.\n",
            "There are 0 directories and 73 images in 'train/037'.\n",
            "There are 0 directories and 94 images in 'train/006'.\n",
            "There are 0 directories and 61 images in 'train/045'.\n",
            "There are 0 directories and 105 images in 'train/014'.\n",
            "There are 0 directories and 194 images in 'train/008'.\n",
            "There are 0 directories and 69 images in 'train/038'.\n",
            "There are 0 directories and 90 images in 'train/020'.\n",
            "There are 0 directories and 90 images in 'train/065'.\n",
            "There are 0 directories and 101 images in 'train/021'.\n",
            "There are 0 directories and 57 images in 'train/047'.\n",
            "There are 0 directories and 113 images in 'train/060'.\n",
            "There are 0 directories and 69 images in 'train/034'.\n",
            "There are 0 directories and 48 images in 'train/059'.\n",
            "There are 0 directories and 23 images in 'train/082'.\n",
            "There are 0 directories and 36 images in 'train/069'.\n",
            "There are 0 directories and 16 images in 'train/086'.\n",
            "There are 0 directories and 92 images in 'train/027'.\n",
            "There are 0 directories and 38 images in 'train/063'.\n",
            "There are 0 directories and 77 images in 'train/050'.\n",
            "There are 0 directories and 1 images in 'train/095'.\n",
            "There are 0 directories and 53 images in 'train/051'.\n",
            "There are 0 directories and 47 images in 'train/011'.\n",
            "There are 0 directories and 37 images in 'train/066'.\n",
            "There are 0 directories and 21 images in 'train/064'.\n",
            "There are 0 directories and 32 images in 'train/055'.\n",
            "There are 0 directories and 41 images in 'train/068'.\n",
            "There are 0 directories and 59 images in 'train/062'.\n",
            "There are 0 directories and 44 images in 'train/043'.\n",
            "There are 0 directories and 48 images in 'train/019'.\n",
            "There are 0 directories and 13 images in 'train/074'.\n",
            "There are 0 directories and 89 images in 'train/054'.\n",
            "There are 0 directories and 83 images in 'train/058'.\n",
            "There are 0 directories and 14 images in 'train/077'.\n",
            "There are 0 directories and 232 images in 'train/003'.\n",
            "There are 0 directories and 39 images in 'train/061'.\n",
            "There are 0 directories and 134 images in 'train/009'.\n",
            "There are 0 directories and 106 images in 'train/085'.\n",
            "There are 0 directories and 28 images in 'train/073'.\n",
            "There are 0 directories and 60 images in 'train/013'.\n",
            "There are 0 directories and 126 images in 'train/028'.\n",
            "There are 0 directories and 44 images in 'train/041'.\n",
            "There are 0 directories and 89 images in 'train/030'.\n",
            "There are 0 directories and 60 images in 'train/040'.\n",
            "There are 0 directories and 31 images in 'train/076'.\n",
            "There are 0 directories and 107 images in 'train/056'.\n",
            "There are 0 directories and 150 images in 'train/024'.\n",
            "There are 0 directories and 124 images in 'train/025'.\n",
            "There are 0 directories and 85 images in 'train/049'.\n",
            "There are 0 directories and 22 images in 'train/078'.\n",
            "There are 0 directories and 1 images in 'train/091'.\n",
            "There are 0 directories and 72 images in 'train/023'.\n",
            "There are 0 directories and 373 images in 'train/002'.\n",
            "There are 0 directories and 105 images in 'train/039'.\n",
            "There are 0 directories and 105 images in 'train/032'.\n",
            "There are 0 directories and 149 images in 'train/005'.\n",
            "There are 0 directories and 66 images in 'train/075'.\n",
            "There are 0 directories and 10 images in 'train/088'.\n",
            "There are 0 directories and 172 images in 'train/016'.\n",
            "There are 0 directories and 85 images in 'train/017'.\n",
            "There are 0 directories and 7 images in 'train/084'.\n",
            "There are 0 directories and 4 images in 'train/087'.\n",
            "There are 0 directories and 11 images in 'train/079'.\n",
            "There are 0 directories and 68 images in 'train/042'.\n",
            "There are 0 directories and 102 images in 'train/007'.\n",
            "There are 0 directories and 40 images in 'train/067'.\n",
            "There are 0 directories and 24 images in 'train/044'.\n",
            "There are 0 directories and 48 images in 'train/057'.\n",
            "There are 0 directories and 108 images in 'train/052'.\n",
            "There are 0 directories and 102 images in 'train/022'.\n",
            "There are 0 directories and 11 images in 'train/092'.\n",
            "There are 0 directories and 141 images in 'train/018'.\n",
            "There are 0 directories and 50 images in 'train/048'.\n",
            "There are 0 directories and 3 images in 'train/083'.\n",
            "There are 0 directories and 87 images in 'train/036'.\n",
            "There are 0 directories and 13 images in 'train/089'.\n",
            "There are 0 directories and 60 images in 'train/080'.\n",
            "There are 0 directories and 214 images in 'train/004'.\n",
            "There are 0 directories and 100 images in 'train/035'.\n",
            "There are 0 directories and 106 images in 'train/015'.\n"
          ]
        }
      ],
      "source": [
        "# Walk through train directory and list number of files\n",
        "for dirpath, dirnames, filenames in os.walk(\"train\"):\n",
        "  print(f\"There are {len(dirnames)} directories and {len(filenames)} images in '{dirpath}'.\")"
      ]
    },
    {
      "cell_type": "code",
      "execution_count": null,
      "metadata": {
        "colab": {
          "base_uri": "https://localhost:8080/"
        },
        "id": "7AdkSRWJkTol",
        "outputId": "8f63f2a2-ea02-4000-ef53-cbaeecaa71fb"
      },
      "outputs": [
        {
          "output_type": "stream",
          "name": "stdout",
          "text": [
            "There are 94 directories and 0 images in 'test'.\n",
            "There are 0 directories and 25 images in 'test/012'.\n",
            "There are 0 directories and 5 images in 'test/071'.\n",
            "There are 0 directories and 17 images in 'test/072'.\n",
            "There are 0 directories and 16 images in 'test/053'.\n",
            "There are 0 directories and 35 images in 'test/029'.\n",
            "There are 0 directories and 17 images in 'test/031'.\n",
            "There are 0 directories and 14 images in 'test/070'.\n",
            "There are 0 directories and 9 images in 'test/090'.\n",
            "There are 0 directories and 228 images in 'test/001'.\n",
            "There are 0 directories and 2 images in 'test/093'.\n",
            "There are 0 directories and 11 images in 'test/033'.\n",
            "There are 0 directories and 1 images in 'test/081'.\n",
            "There are 0 directories and 65 images in 'test/026'.\n",
            "There are 0 directories and 16 images in 'test/046'.\n",
            "There are 0 directories and 32 images in 'test/010'.\n",
            "There are 0 directories and 21 images in 'test/037'.\n",
            "There are 0 directories and 20 images in 'test/006'.\n",
            "There are 0 directories and 16 images in 'test/045'.\n",
            "There are 0 directories and 32 images in 'test/014'.\n",
            "There are 0 directories and 42 images in 'test/008'.\n",
            "There are 0 directories and 22 images in 'test/038'.\n",
            "There are 0 directories and 13 images in 'test/020'.\n",
            "There are 0 directories and 23 images in 'test/065'.\n",
            "There are 0 directories and 35 images in 'test/021'.\n",
            "There are 0 directories and 13 images in 'test/047'.\n",
            "There are 0 directories and 24 images in 'test/060'.\n",
            "There are 0 directories and 18 images in 'test/034'.\n",
            "There are 0 directories and 11 images in 'test/059'.\n",
            "There are 0 directories and 6 images in 'test/082'.\n",
            "There are 0 directories and 9 images in 'test/069'.\n",
            "There are 0 directories and 6 images in 'test/086'.\n",
            "There are 0 directories and 34 images in 'test/027'.\n",
            "There are 0 directories and 9 images in 'test/063'.\n",
            "There are 0 directories and 28 images in 'test/050'.\n",
            "There are 0 directories and 2 images in 'test/095'.\n",
            "There are 0 directories and 9 images in 'test/051'.\n",
            "There are 0 directories and 16 images in 'test/011'.\n",
            "There are 0 directories and 17 images in 'test/066'.\n",
            "There are 0 directories and 8 images in 'test/064'.\n",
            "There are 0 directories and 20 images in 'test/055'.\n",
            "There are 0 directories and 17 images in 'test/068'.\n",
            "There are 0 directories and 17 images in 'test/062'.\n",
            "There are 0 directories and 8 images in 'test/043'.\n",
            "There are 0 directories and 10 images in 'test/019'.\n",
            "There are 0 directories and 3 images in 'test/074'.\n",
            "There are 0 directories and 17 images in 'test/054'.\n",
            "There are 0 directories and 13 images in 'test/058'.\n",
            "There are 0 directories and 5 images in 'test/077'.\n",
            "There are 0 directories and 52 images in 'test/003'.\n",
            "There are 0 directories and 11 images in 'test/061'.\n",
            "There are 0 directories and 25 images in 'test/009'.\n",
            "There are 0 directories and 24 images in 'test/085'.\n",
            "There are 0 directories and 3 images in 'test/073'.\n",
            "There are 0 directories and 15 images in 'test/013'.\n",
            "There are 0 directories and 19 images in 'test/028'.\n",
            "There are 0 directories and 12 images in 'test/041'.\n",
            "There are 0 directories and 20 images in 'test/030'.\n",
            "There are 0 directories and 25 images in 'test/040'.\n",
            "There are 0 directories and 4 images in 'test/076'.\n",
            "There are 0 directories and 25 images in 'test/056'.\n",
            "There are 0 directories and 41 images in 'test/024'.\n",
            "There are 0 directories and 32 images in 'test/025'.\n",
            "There are 0 directories and 14 images in 'test/049'.\n",
            "There are 0 directories and 8 images in 'test/078'.\n",
            "There are 0 directories and 0 images in 'test/091'.\n",
            "There are 0 directories and 20 images in 'test/023'.\n",
            "There are 0 directories and 102 images in 'test/002'.\n",
            "There are 0 directories and 31 images in 'test/039'.\n",
            "There are 0 directories and 36 images in 'test/032'.\n",
            "There are 0 directories and 31 images in 'test/005'.\n",
            "There are 0 directories and 21 images in 'test/075'.\n",
            "There are 0 directories and 7 images in 'test/088'.\n",
            "There are 0 directories and 40 images in 'test/016'.\n",
            "There are 0 directories and 18 images in 'test/017'.\n",
            "There are 0 directories and 4 images in 'test/084'.\n",
            "There are 0 directories and 0 images in 'test/087'.\n",
            "There are 0 directories and 5 images in 'test/079'.\n",
            "There are 0 directories and 16 images in 'test/042'.\n",
            "There are 0 directories and 24 images in 'test/007'.\n",
            "There are 0 directories and 7 images in 'test/067'.\n",
            "There are 0 directories and 3 images in 'test/044'.\n",
            "There are 0 directories and 12 images in 'test/057'.\n",
            "There are 0 directories and 25 images in 'test/052'.\n",
            "There are 0 directories and 37 images in 'test/022'.\n",
            "There are 0 directories and 2 images in 'test/092'.\n",
            "There are 0 directories and 40 images in 'test/018'.\n",
            "There are 0 directories and 14 images in 'test/048'.\n",
            "There are 0 directories and 4 images in 'test/083'.\n",
            "There are 0 directories and 25 images in 'test/036'.\n",
            "There are 0 directories and 3 images in 'test/089'.\n",
            "There are 0 directories and 11 images in 'test/080'.\n",
            "There are 0 directories and 46 images in 'test/004'.\n",
            "There are 0 directories and 21 images in 'test/035'.\n",
            "There are 0 directories and 37 images in 'test/015'.\n"
          ]
        }
      ],
      "source": [
        "# Walk through test directory and list number of files\n",
        "for dirpath, dirnames, filenames in os.walk(\"test\"):\n",
        "  print(f\"There are {len(dirnames)} directories and {len(filenames)} images in '{dirpath}'.\")"
      ]
    },
    {
      "cell_type": "code",
      "execution_count": null,
      "metadata": {
        "id": "meCQiT85hCB-"
      },
      "outputs": [],
      "source": [
        "train_dir = \"train\"\n",
        "test_dir = \"test\""
      ]
    },
    {
      "cell_type": "code",
      "source": [],
      "metadata": {
        "id": "LcXm2mrzmYh_"
      },
      "execution_count": null,
      "outputs": []
    },
    {
      "cell_type": "code",
      "execution_count": null,
      "metadata": {
        "colab": {
          "base_uri": "https://localhost:8080/"
        },
        "id": "h9ig8Ahkk2xK",
        "outputId": "08bc2a88-78ce-44b9-d2dd-5349bc058566"
      },
      "outputs": [
        {
          "output_type": "stream",
          "name": "stdout",
          "text": [
            "['001' '002' '003' '004' '005' '006' '007' '008' '009' '010' '011' '012'\n",
            " '013' '014' '015' '016' '017' '018' '019' '020' '021' '022' '023' '024'\n",
            " '025' '026' '027' '028' '029' '030' '031' '032' '033' '034' '035' '036'\n",
            " '037' '038' '039' '040' '041' '042' '043' '044' '045' '046' '047' '048'\n",
            " '049' '050' '051' '052' '053' '054' '055' '056' '057' '058' '059' '060'\n",
            " '061' '062' '063' '064' '065' '066' '067' '068' '069' '070' '071' '072'\n",
            " '073' '074' '075' '076' '077' '078' '079' '080' '081' '082' '083' '084'\n",
            " '085' '086' '087' '088' '089' '090' '091' '092' '093' '095']\n"
          ]
        }
      ],
      "source": [
        "data_dir = pathlib.Path(train_dir)\n",
        "class_names = np.array(sorted([item.name for item in data_dir.glob('*')]))\n",
        "print(class_names)"
      ]
    },
    {
      "cell_type": "code",
      "execution_count": null,
      "metadata": {
        "colab": {
          "base_uri": "https://localhost:8080/"
        },
        "id": "nriDvEZHk7GS",
        "outputId": "0e2aec02-2e36-49a0-ecb3-a279b482f39c"
      },
      "outputs": [
        {
          "output_type": "execute_result",
          "data": {
            "text/plain": [
              "94"
            ]
          },
          "metadata": {},
          "execution_count": 9
        }
      ],
      "source": [
        "len(class_names)"
      ]
    },
    {
      "cell_type": "code",
      "execution_count": null,
      "metadata": {
        "id": "B6f5NHXXld9m"
      },
      "outputs": [],
      "source": [
        "def view_random_image(target_dir, target_class):\n",
        "  # Setup target directory (we'll view images from here)\n",
        "  target_folder = target_dir + '/' + target_class\n",
        "\n",
        "  # Get a random image path\n",
        "  random_image = random.sample(os.listdir(target_folder), 1)\n",
        "\n",
        "  # Read in the image and plot it using matplotlib\n",
        "  img = mpimg.imread(target_folder + \"/\" + random_image[0])\n",
        "  plt.imshow(img)\n",
        "  plt.title(target_class)\n",
        "  plt.axis(\"off\");\n",
        "\n",
        "  print(f\"Image shape: {img.shape}\") # show the shape of the image\n",
        "\n",
        "  return img"
      ]
    },
    {
      "cell_type": "code",
      "execution_count": null,
      "metadata": {
        "colab": {
          "base_uri": "https://localhost:8080/",
          "height": 445
        },
        "id": "51E7q1-Kl6js",
        "outputId": "1c13ea35-7a78-4a50-fbc5-c755a4687510"
      },
      "outputs": [
        {
          "output_type": "stream",
          "name": "stdout",
          "text": [
            "Image shape: (200, 200, 3)\n"
          ]
        },
        {
          "output_type": "display_data",
          "data": {
            "text/plain": [
              "<Figure size 640x480 with 1 Axes>"
            ],
            "image/png": "[encoded data removed]"
          },
          "metadata": {}
        }
      ],
      "source": [
        "img = view_random_image(target_dir=\"train\",\n",
        "                  target_class=random.choice(class_names))\n"
      ]
    },
    {
      "cell_type": "markdown",
      "metadata": {
        "id": "tqZZcDX-mMAw"
      },
      "source": [
        "## 2. Preprocess the data"
      ]
    },
    {
      "cell_type": "code",
      "execution_count": null,
      "metadata": {
        "colab": {
          "base_uri": "https://localhost:8080/"
        },
        "id": "l5fPweZfmqng",
        "outputId": "6a350bac-2282-4913-849c-da0de277e41b"
      },
      "outputs": [
        {
          "output_type": "stream",
          "name": "stdout",
          "text": [
            "Found 7746 images belonging to 94 classes.\n",
            "Found 2009 images belonging to 94 classes.\n"
          ]
        }
      ],
      "source": [
        "train_datagen = ImageDataGenerator(rescale=1/255.)\n",
        "test_datagen = ImageDataGenerator(rescale=1/255.)\n",
        "\n",
        "train_data = train_datagen.flow_from_directory(train_dir,\n",
        "                                               target_size=(200, 200),\n",
        "                                               batch_size=16,\n",
        "                                               class_mode='categorical')\n",
        "\n",
        "test_data = train_datagen.flow_from_directory(test_dir,\n",
        "                                              target_size=(200, 200),\n",
        "                                              batch_size=16,\n",
        "                                              class_mode='categorical')"
      ]
    },
    {
      "cell_type": "code",
      "execution_count": null,
      "metadata": {
        "colab": {
          "base_uri": "https://localhost:8080/"
        },
        "id": "IisUGPAvnddY",
        "outputId": "42dc8da3-4e0c-4bb1-b687-1204bd90c525"
      },
      "outputs": [
        {
          "name": "stdout",
          "output_type": "stream",
          "text": [
            "Epoch 1/10\n",
            "485/485 [==============================] - 67s 107ms/step - loss: 4.0856 - accuracy: 0.1177 - val_loss: 3.9217 - val_accuracy: 0.1249\n",
            "Epoch 2/10\n",
            "485/485 [==============================] - 51s 105ms/step - loss: 3.5605 - accuracy: 0.1615 - val_loss: 3.7521 - val_accuracy: 0.1603\n",
            "Epoch 3/10\n",
            "485/485 [==============================] - 46s 95ms/step - loss: 2.9147 - accuracy: 0.2573 - val_loss: 3.8827 - val_accuracy: 0.1588\n",
            "Epoch 4/10\n",
            "485/485 [==============================] - 46s 94ms/step - loss: 2.1909 - accuracy: 0.4096 - val_loss: 4.2177 - val_accuracy: 0.1508\n",
            "Epoch 5/10\n",
            "485/485 [==============================] - 51s 104ms/step - loss: 1.5081 - accuracy: 0.5784 - val_loss: 5.2776 - val_accuracy: 0.1558\n",
            "Epoch 6/10\n",
            "485/485 [==============================] - 46s 94ms/step - loss: 0.9278 - accuracy: 0.7364 - val_loss: 6.4931 - val_accuracy: 0.1414\n",
            "Epoch 7/10\n",
            "485/485 [==============================] - 46s 95ms/step - loss: 0.5333 - accuracy: 0.8568 - val_loss: 7.7868 - val_accuracy: 0.1533\n",
            "Epoch 8/10\n",
            "485/485 [==============================] - 46s 94ms/step - loss: 0.3138 - accuracy: 0.9282 - val_loss: 9.5704 - val_accuracy: 0.1448\n",
            "Epoch 9/10\n",
            "485/485 [==============================] - 46s 95ms/step - loss: 0.2331 - accuracy: 0.9516 - val_loss: 11.4398 - val_accuracy: 0.1389\n",
            "Epoch 10/10\n",
            "485/485 [==============================] - 46s 94ms/step - loss: 0.1996 - accuracy: 0.9620 - val_loss: 10.7792 - val_accuracy: 0.1439\n"
          ]
        },
        {
          "data": {
            "text/plain": [
              "<keras.src.callbacks.History at 0x781fc017e170>"
            ]
          },
          "execution_count": 11,
          "metadata": {},
          "output_type": "execute_result"
        }
      ],
      "source": [
        "# Create a model\n",
        "model_1 = Sequential([\n",
        "    Conv2D(64,5,activation=\"relu\",input_shape=(200,200,3)),\n",
        "    Conv2D(64,5,activation=\"relu\"),\n",
        "    MaxPool2D(),\n",
        "    Conv2D(64,5,activation=\"relu\"),\n",
        "    Conv2D(64,5,activation=\"relu\"),\n",
        "    MaxPool2D(),\n",
        "    Flatten(),\n",
        "    Dense(94,activation = \"softmax\")\n",
        "])\n",
        "\n",
        "# Compile the model\n",
        "model_1.compile(loss=\"categorical_crossentropy\",\n",
        "                optimizer=tf.keras.optimizers.Adam(),\n",
        "                metrics=[\"accuracy\"])\n",
        "\n",
        "# Fit the model\n",
        "model_1.fit(train_data,\n",
        "            epochs=10,\n",
        "            steps_per_epoch=len(train_data),\n",
        "            validation_data=test_data,\n",
        "            validation_steps=len(test_data))\n"
      ]
    },
    {
      "cell_type": "markdown",
      "metadata": {
        "id": "lquVCW3dqT0A"
      },
      "source": [
        "The model is overfitting the data too much....Let's reduce the overfitting by decreasing the number of filters and augmentind the data"
      ]
    },
    {
      "cell_type": "code",
      "execution_count": null,
      "metadata": {
        "colab": {
          "base_uri": "https://localhost:8080/"
        },
        "id": "BVJP16w9qblp",
        "outputId": "a6a4adcc-0af7-4dc3-e93e-5d19c0edbf49"
      },
      "outputs": [
        {
          "name": "stdout",
          "output_type": "stream",
          "text": [
            "Found 7746 images belonging to 94 classes.\n"
          ]
        }
      ],
      "source": [
        "train_datagen_augmented = ImageDataGenerator(rescale=1/255.,\n",
        "                                             rotation_range=20, # note: this is an int not a float\n",
        "                                             width_shift_range=0.2,\n",
        "                                             height_shift_range=0.2,\n",
        "                                             zoom_range=0.2,\n",
        "                                             horizontal_flip=True)\n",
        "\n",
        "train_data_augmented = train_datagen_augmented.flow_from_directory(train_dir,\n",
        "                                              target_size=(200, 200),\n",
        "                                              batch_size=16,\n",
        "                                              class_mode='categorical')"
      ]
    },
    {
      "cell_type": "code",
      "execution_count": null,
      "metadata": {
        "colab": {
          "base_uri": "https://localhost:8080/",
          "height": 772
        },
        "id": "l8ZDOdyuq8mb",
        "outputId": "6c23408a-3968-49fd-d953-f482e8efe905"
      },
      "outputs": [
        {
          "name": "stdout",
          "output_type": "stream",
          "text": [
            "Epoch 1/20\n",
            "485/485 [==============================] - 109s 218ms/step - loss: 4.1303 - accuracy: 0.1149 - val_loss: 4.0655 - val_accuracy: 0.1200\n",
            "Epoch 2/20\n",
            "485/485 [==============================] - 103s 213ms/step - loss: 4.0204 - accuracy: 0.1219 - val_loss: 4.0408 - val_accuracy: 0.1249\n",
            "Epoch 3/20\n",
            "485/485 [==============================] - 108s 223ms/step - loss: 4.0056 - accuracy: 0.1214 - val_loss: 3.9954 - val_accuracy: 0.1264\n",
            "Epoch 4/20\n",
            "485/485 [==============================] - 104s 213ms/step - loss: 3.9688 - accuracy: 0.1228 - val_loss: 3.9848 - val_accuracy: 0.1190\n",
            "Epoch 5/20\n",
            "485/485 [==============================] - 104s 215ms/step - loss: 3.9425 - accuracy: 0.1252 - val_loss: 3.9934 - val_accuracy: 0.1279\n",
            "Epoch 6/20\n",
            "485/485 [==============================] - 104s 213ms/step - loss: 3.9233 - accuracy: 0.1278 - val_loss: 3.9761 - val_accuracy: 0.1215\n",
            "Epoch 7/20\n",
            "485/485 [==============================] - 103s 212ms/step - loss: 3.9160 - accuracy: 0.1263 - val_loss: 3.9270 - val_accuracy: 0.1279\n",
            "Epoch 8/20\n",
            "485/485 [==============================] - 104s 213ms/step - loss: 3.8807 - accuracy: 0.1285 - val_loss: 3.9388 - val_accuracy: 0.1289\n",
            "Epoch 9/20\n",
            "485/485 [==============================] - 102s 211ms/step - loss: 3.8687 - accuracy: 0.1286 - val_loss: 3.8888 - val_accuracy: 0.1234\n",
            "Epoch 10/20\n",
            "485/485 [==============================] - 104s 215ms/step - loss: 3.8550 - accuracy: 0.1274 - val_loss: 3.9790 - val_accuracy: 0.1264\n",
            "Epoch 11/20\n",
            " 30/485 [>.............................] - ETA: 1:20 - loss: 3.8349 - accuracy: 0.1292"
          ]
        },
        {
          "ename": "KeyboardInterrupt",
          "evalue": "ignored",
          "output_type": "error",
          "traceback": [
            "\u001b[0;31m---------------------------------------------------------------------------\u001b[0m",
            "\u001b[0;31mKeyboardInterrupt\u001b[0m                         Traceback (most recent call last)",
            "\u001b[0;32m<ipython-input-18-50268d206480>\u001b[0m in \u001b[0;36m<cell line: 19>\u001b[0;34m()\u001b[0m\n\u001b[1;32m     17\u001b[0m \u001b[0;34m\u001b[0m\u001b[0m\n\u001b[1;32m     18\u001b[0m \u001b[0;31m# Fit the model\u001b[0m\u001b[0;34m\u001b[0m\u001b[0;34m\u001b[0m\u001b[0m\n\u001b[0;32m---> 19\u001b[0;31m history_2 = model_2.fit(train_data_augmented,\n\u001b[0m\u001b[1;32m     20\u001b[0m             \u001b[0mepochs\u001b[0m\u001b[0;34m=\u001b[0m\u001b[0;36m20\u001b[0m\u001b[0;34m,\u001b[0m\u001b[0;34m\u001b[0m\u001b[0;34m\u001b[0m\u001b[0m\n\u001b[1;32m     21\u001b[0m             \u001b[0msteps_per_epoch\u001b[0m\u001b[0;34m=\u001b[0m\u001b[0mlen\u001b[0m\u001b[0;34m(\u001b[0m\u001b[0mtrain_data_augmented\u001b[0m\u001b[0;34m)\u001b[0m\u001b[0;34m,\u001b[0m\u001b[0;34m\u001b[0m\u001b[0;34m\u001b[0m\u001b[0m\n",
            "\u001b[0;32m/usr/local/lib/python3.10/dist-packages/keras/src/utils/traceback_utils.py\u001b[0m in \u001b[0;36merror_handler\u001b[0;34m(*args, **kwargs)\u001b[0m\n\u001b[1;32m     63\u001b[0m         \u001b[0mfiltered_tb\u001b[0m \u001b[0;34m=\u001b[0m \u001b[0;32mNone\u001b[0m\u001b[0;34m\u001b[0m\u001b[0;34m\u001b[0m\u001b[0m\n\u001b[1;32m     64\u001b[0m         \u001b[0;32mtry\u001b[0m\u001b[0;34m:\u001b[0m\u001b[0;34m\u001b[0m\u001b[0;34m\u001b[0m\u001b[0m\n\u001b[0;32m---> 65\u001b[0;31m             \u001b[0;32mreturn\u001b[0m \u001b[0mfn\u001b[0m\u001b[0;34m(\u001b[0m\u001b[0;34m*\u001b[0m\u001b[0margs\u001b[0m\u001b[0;34m,\u001b[0m \u001b[0;34m**\u001b[0m\u001b[0mkwargs\u001b[0m\u001b[0;34m)\u001b[0m\u001b[0;34m\u001b[0m\u001b[0;34m\u001b[0m\u001b[0m\n\u001b[0m\u001b[1;32m     66\u001b[0m         \u001b[0;32mexcept\u001b[0m \u001b[0mException\u001b[0m \u001b[0;32mas\u001b[0m \u001b[0me\u001b[0m\u001b[0;34m:\u001b[0m\u001b[0;34m\u001b[0m\u001b[0;34m\u001b[0m\u001b[0m\n\u001b[1;32m     67\u001b[0m             \u001b[0mfiltered_tb\u001b[0m \u001b[0;34m=\u001b[0m \u001b[0m_process_traceback_frames\u001b[0m\u001b[0;34m(\u001b[0m\u001b[0me\u001b[0m\u001b[0;34m.\u001b[0m\u001b[0m__traceback__\u001b[0m\u001b[0;34m)\u001b[0m\u001b[0;34m\u001b[0m\u001b[0;34m\u001b[0m\u001b[0m\n",
            "\u001b[0;32m/usr/local/lib/python3.10/dist-packages/keras/src/engine/training.py\u001b[0m in \u001b[0;36mfit\u001b[0;34m(self, x, y, batch_size, epochs, verbose, callbacks, validation_split, validation_data, shuffle, class_weight, sample_weight, initial_epoch, steps_per_epoch, validation_steps, validation_batch_size, validation_freq, max_queue_size, workers, use_multiprocessing)\u001b[0m\n\u001b[1;32m   1740\u001b[0m                         ):\n\u001b[1;32m   1741\u001b[0m                             \u001b[0mcallbacks\u001b[0m\u001b[0;34m.\u001b[0m\u001b[0mon_train_batch_begin\u001b[0m\u001b[0;34m(\u001b[0m\u001b[0mstep\u001b[0m\u001b[0;34m)\u001b[0m\u001b[0;34m\u001b[0m\u001b[0;34m\u001b[0m\u001b[0m\n\u001b[0;32m-> 1742\u001b[0;31m                             \u001b[0mtmp_logs\u001b[0m \u001b[0;34m=\u001b[0m \u001b[0mself\u001b[0m\u001b[0;34m.\u001b[0m\u001b[0mtrain_function\u001b[0m\u001b[0;34m(\u001b[0m\u001b[0miterator\u001b[0m\u001b[0;34m)\u001b[0m\u001b[0;34m\u001b[0m\u001b[0;34m\u001b[0m\u001b[0m\n\u001b[0m\u001b[1;32m   1743\u001b[0m                             \u001b[0;32mif\u001b[0m \u001b[0mdata_handler\u001b[0m\u001b[0;34m.\u001b[0m\u001b[0mshould_sync\u001b[0m\u001b[0;34m:\u001b[0m\u001b[0;34m\u001b[0m\u001b[0;34m\u001b[0m\u001b[0m\n\u001b[1;32m   1744\u001b[0m                                 \u001b[0mcontext\u001b[0m\u001b[0;34m.\u001b[0m\u001b[0masync_wait\u001b[0m\u001b[0;34m(\u001b[0m\u001b[0;34m)\u001b[0m\u001b[0;34m\u001b[0m\u001b[0;34m\u001b[0m\u001b[0m\n",
            "\u001b[0;32m/usr/local/lib/python3.10/dist-packages/tensorflow/python/util/traceback_utils.py\u001b[0m in \u001b[0;36merror_handler\u001b[0;34m(*args, **kwargs)\u001b[0m\n\u001b[1;32m    148\u001b[0m     \u001b[0mfiltered_tb\u001b[0m \u001b[0;34m=\u001b[0m \u001b[0;32mNone\u001b[0m\u001b[0;34m\u001b[0m\u001b[0;34m\u001b[0m\u001b[0m\n\u001b[1;32m    149\u001b[0m     \u001b[0;32mtry\u001b[0m\u001b[0;34m:\u001b[0m\u001b[0;34m\u001b[0m\u001b[0;34m\u001b[0m\u001b[0m\n\u001b[0;32m--> 150\u001b[0;31m       \u001b[0;32mreturn\u001b[0m \u001b[0mfn\u001b[0m\u001b[0;34m(\u001b[0m\u001b[0;34m*\u001b[0m\u001b[0margs\u001b[0m\u001b[0;34m,\u001b[0m \u001b[0;34m**\u001b[0m\u001b[0mkwargs\u001b[0m\u001b[0;34m)\u001b[0m\u001b[0;34m\u001b[0m\u001b[0;34m\u001b[0m\u001b[0m\n\u001b[0m\u001b[1;32m    151\u001b[0m     \u001b[0;32mexcept\u001b[0m \u001b[0mException\u001b[0m \u001b[0;32mas\u001b[0m \u001b[0me\u001b[0m\u001b[0;34m:\u001b[0m\u001b[0;34m\u001b[0m\u001b[0;34m\u001b[0m\u001b[0m\n\u001b[1;32m    152\u001b[0m       \u001b[0mfiltered_tb\u001b[0m \u001b[0;34m=\u001b[0m \u001b[0m_process_traceback_frames\u001b[0m\u001b[0;34m(\u001b[0m\u001b[0me\u001b[0m\u001b[0;34m.\u001b[0m\u001b[0m__traceback__\u001b[0m\u001b[0;34m)\u001b[0m\u001b[0;34m\u001b[0m\u001b[0;34m\u001b[0m\u001b[0m\n",
            "\u001b[0;32m/usr/local/lib/python3.10/dist-packages/tensorflow/python/eager/polymorphic_function/polymorphic_function.py\u001b[0m in \u001b[0;36m__call__\u001b[0;34m(self, *args, **kwds)\u001b[0m\n\u001b[1;32m    823\u001b[0m \u001b[0;34m\u001b[0m\u001b[0m\n\u001b[1;32m    824\u001b[0m       \u001b[0;32mwith\u001b[0m \u001b[0mOptionalXlaContext\u001b[0m\u001b[0;34m(\u001b[0m\u001b[0mself\u001b[0m\u001b[0;34m.\u001b[0m\u001b[0m_jit_compile\u001b[0m\u001b[0;34m)\u001b[0m\u001b[0;34m:\u001b[0m\u001b[0;34m\u001b[0m\u001b[0;34m\u001b[0m\u001b[0m\n\u001b[0;32m--> 825\u001b[0;31m         \u001b[0mresult\u001b[0m \u001b[0;34m=\u001b[0m \u001b[0mself\u001b[0m\u001b[0;34m.\u001b[0m\u001b[0m_call\u001b[0m\u001b[0;34m(\u001b[0m\u001b[0;34m*\u001b[0m\u001b[0margs\u001b[0m\u001b[0;34m,\u001b[0m \u001b[0;34m**\u001b[0m\u001b[0mkwds\u001b[0m\u001b[0;34m)\u001b[0m\u001b[0;34m\u001b[0m\u001b[0;34m\u001b[0m\u001b[0m\n\u001b[0m\u001b[1;32m    826\u001b[0m \u001b[0;34m\u001b[0m\u001b[0m\n\u001b[1;32m    827\u001b[0m       \u001b[0mnew_tracing_count\u001b[0m \u001b[0;34m=\u001b[0m \u001b[0mself\u001b[0m\u001b[0;34m.\u001b[0m\u001b[0mexperimental_get_tracing_count\u001b[0m\u001b[0;34m(\u001b[0m\u001b[0;34m)\u001b[0m\u001b[0;34m\u001b[0m\u001b[0;34m\u001b[0m\u001b[0m\n",
            "\u001b[0;32m/usr/local/lib/python3.10/dist-packages/tensorflow/python/eager/polymorphic_function/polymorphic_function.py\u001b[0m in \u001b[0;36m_call\u001b[0;34m(self, *args, **kwds)\u001b[0m\n\u001b[1;32m    855\u001b[0m       \u001b[0;31m# In this case we have created variables on the first call, so we run the\u001b[0m\u001b[0;34m\u001b[0m\u001b[0;34m\u001b[0m\u001b[0m\n\u001b[1;32m    856\u001b[0m       \u001b[0;31m# defunned version which is guaranteed to never create variables.\u001b[0m\u001b[0;34m\u001b[0m\u001b[0;34m\u001b[0m\u001b[0m\n\u001b[0;32m--> 857\u001b[0;31m       \u001b[0;32mreturn\u001b[0m \u001b[0mself\u001b[0m\u001b[0;34m.\u001b[0m\u001b[0m_no_variable_creation_fn\u001b[0m\u001b[0;34m(\u001b[0m\u001b[0;34m*\u001b[0m\u001b[0margs\u001b[0m\u001b[0;34m,\u001b[0m \u001b[0;34m**\u001b[0m\u001b[0mkwds\u001b[0m\u001b[0;34m)\u001b[0m  \u001b[0;31m# pylint: disable=not-callable\u001b[0m\u001b[0;34m\u001b[0m\u001b[0;34m\u001b[0m\u001b[0m\n\u001b[0m\u001b[1;32m    858\u001b[0m     \u001b[0;32melif\u001b[0m \u001b[0mself\u001b[0m\u001b[0;34m.\u001b[0m\u001b[0m_variable_creation_fn\u001b[0m \u001b[0;32mis\u001b[0m \u001b[0;32mnot\u001b[0m \u001b[0;32mNone\u001b[0m\u001b[0;34m:\u001b[0m\u001b[0;34m\u001b[0m\u001b[0;34m\u001b[0m\u001b[0m\n\u001b[1;32m    859\u001b[0m       \u001b[0;31m# Release the lock early so that multiple threads can perform the call\u001b[0m\u001b[0;34m\u001b[0m\u001b[0;34m\u001b[0m\u001b[0m\n",
            "\u001b[0;32m/usr/local/lib/python3.10/dist-packages/tensorflow/python/eager/polymorphic_function/tracing_compiler.py\u001b[0m in \u001b[0;36m__call__\u001b[0;34m(self, *args, **kwargs)\u001b[0m\n\u001b[1;32m    146\u001b[0m       (concrete_function,\n\u001b[1;32m    147\u001b[0m        filtered_flat_args) = self._maybe_define_function(args, kwargs)\n\u001b[0;32m--> 148\u001b[0;31m     return concrete_function._call_flat(\n\u001b[0m\u001b[1;32m    149\u001b[0m         filtered_flat_args, captured_inputs=concrete_function.captured_inputs)  # pylint: disable=protected-access\n\u001b[1;32m    150\u001b[0m \u001b[0;34m\u001b[0m\u001b[0m\n",
            "\u001b[0;32m/usr/local/lib/python3.10/dist-packages/tensorflow/python/eager/polymorphic_function/monomorphic_function.py\u001b[0m in \u001b[0;36m_call_flat\u001b[0;34m(self, args, captured_inputs)\u001b[0m\n\u001b[1;32m   1347\u001b[0m         and executing_eagerly):\n\u001b[1;32m   1348\u001b[0m       \u001b[0;31m# No tape is watching; skip to running the function.\u001b[0m\u001b[0;34m\u001b[0m\u001b[0;34m\u001b[0m\u001b[0m\n\u001b[0;32m-> 1349\u001b[0;31m       \u001b[0;32mreturn\u001b[0m \u001b[0mself\u001b[0m\u001b[0;34m.\u001b[0m\u001b[0m_build_call_outputs\u001b[0m\u001b[0;34m(\u001b[0m\u001b[0mself\u001b[0m\u001b[0;34m.\u001b[0m\u001b[0m_inference_function\u001b[0m\u001b[0;34m(\u001b[0m\u001b[0;34m*\u001b[0m\u001b[0margs\u001b[0m\u001b[0;34m)\u001b[0m\u001b[0;34m)\u001b[0m\u001b[0;34m\u001b[0m\u001b[0;34m\u001b[0m\u001b[0m\n\u001b[0m\u001b[1;32m   1350\u001b[0m     forward_backward = self._select_forward_and_backward_functions(\n\u001b[1;32m   1351\u001b[0m         \u001b[0margs\u001b[0m\u001b[0;34m,\u001b[0m\u001b[0;34m\u001b[0m\u001b[0;34m\u001b[0m\u001b[0m\n",
            "\u001b[0;32m/usr/local/lib/python3.10/dist-packages/tensorflow/python/eager/polymorphic_function/atomic_function.py\u001b[0m in \u001b[0;36m__call__\u001b[0;34m(self, *args)\u001b[0m\n\u001b[1;32m    194\u001b[0m         \u001b[0;32mwith\u001b[0m \u001b[0mrecord\u001b[0m\u001b[0;34m.\u001b[0m\u001b[0mstop_recording\u001b[0m\u001b[0;34m(\u001b[0m\u001b[0;34m)\u001b[0m\u001b[0;34m:\u001b[0m\u001b[0;34m\u001b[0m\u001b[0;34m\u001b[0m\u001b[0m\n\u001b[1;32m    195\u001b[0m           \u001b[0;32mif\u001b[0m \u001b[0mself\u001b[0m\u001b[0;34m.\u001b[0m\u001b[0m_bound_context\u001b[0m\u001b[0;34m.\u001b[0m\u001b[0mexecuting_eagerly\u001b[0m\u001b[0;34m(\u001b[0m\u001b[0;34m)\u001b[0m\u001b[0;34m:\u001b[0m\u001b[0;34m\u001b[0m\u001b[0;34m\u001b[0m\u001b[0m\n\u001b[0;32m--> 196\u001b[0;31m             outputs = self._bound_context.call_function(\n\u001b[0m\u001b[1;32m    197\u001b[0m                 \u001b[0mself\u001b[0m\u001b[0;34m.\u001b[0m\u001b[0mname\u001b[0m\u001b[0;34m,\u001b[0m\u001b[0;34m\u001b[0m\u001b[0;34m\u001b[0m\u001b[0m\n\u001b[1;32m    198\u001b[0m                 \u001b[0mlist\u001b[0m\u001b[0;34m(\u001b[0m\u001b[0margs\u001b[0m\u001b[0;34m)\u001b[0m\u001b[0;34m,\u001b[0m\u001b[0;34m\u001b[0m\u001b[0;34m\u001b[0m\u001b[0m\n",
            "\u001b[0;32m/usr/local/lib/python3.10/dist-packages/tensorflow/python/eager/context.py\u001b[0m in \u001b[0;36mcall_function\u001b[0;34m(self, name, tensor_inputs, num_outputs)\u001b[0m\n\u001b[1;32m   1455\u001b[0m     \u001b[0mcancellation_context\u001b[0m \u001b[0;34m=\u001b[0m \u001b[0mcancellation\u001b[0m\u001b[0;34m.\u001b[0m\u001b[0mcontext\u001b[0m\u001b[0;34m(\u001b[0m\u001b[0;34m)\u001b[0m\u001b[0;34m\u001b[0m\u001b[0;34m\u001b[0m\u001b[0m\n\u001b[1;32m   1456\u001b[0m     \u001b[0;32mif\u001b[0m \u001b[0mcancellation_context\u001b[0m \u001b[0;32mis\u001b[0m \u001b[0;32mNone\u001b[0m\u001b[0;34m:\u001b[0m\u001b[0;34m\u001b[0m\u001b[0;34m\u001b[0m\u001b[0m\n\u001b[0;32m-> 1457\u001b[0;31m       outputs = execute.execute(\n\u001b[0m\u001b[1;32m   1458\u001b[0m           \u001b[0mname\u001b[0m\u001b[0;34m.\u001b[0m\u001b[0mdecode\u001b[0m\u001b[0;34m(\u001b[0m\u001b[0;34m\"utf-8\"\u001b[0m\u001b[0;34m)\u001b[0m\u001b[0;34m,\u001b[0m\u001b[0;34m\u001b[0m\u001b[0;34m\u001b[0m\u001b[0m\n\u001b[1;32m   1459\u001b[0m           \u001b[0mnum_outputs\u001b[0m\u001b[0;34m=\u001b[0m\u001b[0mnum_outputs\u001b[0m\u001b[0;34m,\u001b[0m\u001b[0;34m\u001b[0m\u001b[0;34m\u001b[0m\u001b[0m\n",
            "\u001b[0;32m/usr/local/lib/python3.10/dist-packages/tensorflow/python/eager/execute.py\u001b[0m in \u001b[0;36mquick_execute\u001b[0;34m(op_name, num_outputs, inputs, attrs, ctx, name)\u001b[0m\n\u001b[1;32m     51\u001b[0m   \u001b[0;32mtry\u001b[0m\u001b[0;34m:\u001b[0m\u001b[0;34m\u001b[0m\u001b[0;34m\u001b[0m\u001b[0m\n\u001b[1;32m     52\u001b[0m     \u001b[0mctx\u001b[0m\u001b[0;34m.\u001b[0m\u001b[0mensure_initialized\u001b[0m\u001b[0;34m(\u001b[0m\u001b[0;34m)\u001b[0m\u001b[0;34m\u001b[0m\u001b[0;34m\u001b[0m\u001b[0m\n\u001b[0;32m---> 53\u001b[0;31m     tensors = pywrap_tfe.TFE_Py_Execute(ctx._handle, device_name, op_name,\n\u001b[0m\u001b[1;32m     54\u001b[0m                                         inputs, attrs, num_outputs)\n\u001b[1;32m     55\u001b[0m   \u001b[0;32mexcept\u001b[0m \u001b[0mcore\u001b[0m\u001b[0;34m.\u001b[0m\u001b[0m_NotOkStatusException\u001b[0m \u001b[0;32mas\u001b[0m \u001b[0me\u001b[0m\u001b[0;34m:\u001b[0m\u001b[0;34m\u001b[0m\u001b[0;34m\u001b[0m\u001b[0m\n",
            "\u001b[0;31mKeyboardInterrupt\u001b[0m: "
          ]
        }
      ],
      "source": [
        "# Create a model\n",
        "model_2 = Sequential([\n",
        "    Conv2D(32,3,activation=\"relu\",input_shape=(200,200,3)),\n",
        "    Conv2D(32,3,activation=\"relu\"),\n",
        "    MaxPool2D(),\n",
        "    Conv2D(32,3,activation=\"relu\"),\n",
        "    Conv2D(32,3,activation=\"relu\"),\n",
        "    MaxPool2D(),\n",
        "    Flatten(),\n",
        "    Dense(94,activation = \"softmax\")\n",
        "])\n",
        "\n",
        "# Compile the model\n",
        "model_2.compile(loss=\"categorical_crossentropy\",\n",
        "                optimizer=tf.keras.optimizers.Adam(),\n",
        "                metrics=[\"accuracy\"])\n",
        "\n",
        "# Fit the model\n",
        "history_2 = model_2.fit(train_data_augmented,\n",
        "            epochs=20,\n",
        "            steps_per_epoch=len(train_data_augmented),\n",
        "            validation_data=test_data,\n",
        "            validation_steps=len(test_data))\n"
      ]
    },
    {
      "cell_type": "code",
      "execution_count": null,
      "metadata": {
        "id": "N5rtuzeBsht0"
      },
      "outputs": [],
      "source": [
        "minority_class = [\"061\",\"077\",\"078\",\"082\",\"069\",\"086\",\"089\",\"046\",\"091\",\"074\",\"063\",\"070\",\"088\",\"044\",\"055\",\"081\",\"083\",\"092\",\"066\",\"084\",\"076\",\"067\",\"064\",\"071\",\"093\",\"079\",\"095\",\"087\",\"033\",\"073\"]"
      ]
    },
    {
      "cell_type": "code",
      "execution_count": null,
      "metadata": {
        "colab": {
          "base_uri": "https://localhost:8080/",
          "height": 383
        },
        "id": "74VAcyKpoD7d",
        "outputId": "e2c76940-6651-4872-807a-391cb1beee70"
      },
      "outputs": [
        {
          "name": "stdout",
          "output_type": "stream",
          "text": [
            "Found 7746 images belonging to 94 classes.\n"
          ]
        },
        {
          "ename": "IndexError",
          "evalue": "ignored",
          "output_type": "error",
          "traceback": [
            "\u001b[0;31m---------------------------------------------------------------------------\u001b[0m",
            "\u001b[0;31mIndexError\u001b[0m                                Traceback (most recent call last)",
            "\u001b[0;32m<ipython-input-17-77abfab6d278>\u001b[0m in \u001b[0;36m<cell line: 23>\u001b[0;34m()\u001b[0m\n\u001b[1;32m     21\u001b[0m \u001b[0;34m\u001b[0m\u001b[0m\n\u001b[1;32m     22\u001b[0m \u001b[0;31m# Get the minority class samples\u001b[0m\u001b[0;34m\u001b[0m\u001b[0;34m\u001b[0m\u001b[0m\n\u001b[0;32m---> 23\u001b[0;31m \u001b[0mminority_class_samples\u001b[0m \u001b[0;34m=\u001b[0m \u001b[0;34m[\u001b[0m\u001b[0mx\u001b[0m \u001b[0;32mfor\u001b[0m \u001b[0mx\u001b[0m\u001b[0;34m,\u001b[0m \u001b[0my\u001b[0m \u001b[0;32min\u001b[0m \u001b[0mzip\u001b[0m\u001b[0;34m(\u001b[0m\u001b[0mtrain_generator\u001b[0m\u001b[0;34m.\u001b[0m\u001b[0mfilenames\u001b[0m\u001b[0;34m,\u001b[0m \u001b[0mtrain_generator\u001b[0m\u001b[0;34m.\u001b[0m\u001b[0mlabels\u001b[0m\u001b[0;34m)\u001b[0m \u001b[0;32mif\u001b[0m \u001b[0my\u001b[0m\u001b[0;34m[\u001b[0m\u001b[0;36m1\u001b[0m\u001b[0;34m]\u001b[0m \u001b[0;34m==\u001b[0m \u001b[0;36m1\u001b[0m\u001b[0;34m]\u001b[0m  \u001b[0;31m# Assuming binary classification\u001b[0m\u001b[0;34m\u001b[0m\u001b[0;34m\u001b[0m\u001b[0m\n\u001b[0m\u001b[1;32m     24\u001b[0m \u001b[0;34m\u001b[0m\u001b[0m\n\u001b[1;32m     25\u001b[0m \u001b[0;31m# Oversample the minority class\u001b[0m\u001b[0;34m\u001b[0m\u001b[0;34m\u001b[0m\u001b[0m\n",
            "\u001b[0;32m<ipython-input-17-77abfab6d278>\u001b[0m in \u001b[0;36m<listcomp>\u001b[0;34m(.0)\u001b[0m\n\u001b[1;32m     21\u001b[0m \u001b[0;34m\u001b[0m\u001b[0m\n\u001b[1;32m     22\u001b[0m \u001b[0;31m# Get the minority class samples\u001b[0m\u001b[0;34m\u001b[0m\u001b[0;34m\u001b[0m\u001b[0m\n\u001b[0;32m---> 23\u001b[0;31m \u001b[0mminority_class_samples\u001b[0m \u001b[0;34m=\u001b[0m \u001b[0;34m[\u001b[0m\u001b[0mx\u001b[0m \u001b[0;32mfor\u001b[0m \u001b[0mx\u001b[0m\u001b[0;34m,\u001b[0m \u001b[0my\u001b[0m \u001b[0;32min\u001b[0m \u001b[0mzip\u001b[0m\u001b[0;34m(\u001b[0m\u001b[0mtrain_generator\u001b[0m\u001b[0;34m.\u001b[0m\u001b[0mfilenames\u001b[0m\u001b[0;34m,\u001b[0m \u001b[0mtrain_generator\u001b[0m\u001b[0;34m.\u001b[0m\u001b[0mlabels\u001b[0m\u001b[0;34m)\u001b[0m \u001b[0;32mif\u001b[0m \u001b[0my\u001b[0m\u001b[0;34m[\u001b[0m\u001b[0;36m1\u001b[0m\u001b[0;34m]\u001b[0m \u001b[0;34m==\u001b[0m \u001b[0;36m1\u001b[0m\u001b[0;34m]\u001b[0m  \u001b[0;31m# Assuming binary classification\u001b[0m\u001b[0;34m\u001b[0m\u001b[0;34m\u001b[0m\u001b[0m\n\u001b[0m\u001b[1;32m     24\u001b[0m \u001b[0;34m\u001b[0m\u001b[0m\n\u001b[1;32m     25\u001b[0m \u001b[0;31m# Oversample the minority class\u001b[0m\u001b[0;34m\u001b[0m\u001b[0;34m\u001b[0m\u001b[0m\n",
            "\u001b[0;31mIndexError\u001b[0m: invalid index to scalar variable."
          ]
        }
      ],
      "source": [
        "from tensorflow.keras.preprocessing.image import ImageDataGenerator\n",
        "from imblearn.over_sampling import RandomOverSampler\n",
        "\n",
        "# Create an ImageDataGenerator for your training data\n",
        "train_datagen = ImageDataGenerator(\n",
        "    rescale=1/255.,\n",
        "    rotation_range=20,\n",
        "    width_shift_range=0.2,\n",
        "    height_shift_range=0.2,\n",
        "    horizontal_flip=True\n",
        ")\n",
        "\n",
        "# Create a generator for your original training data\n",
        "train_generator = train_datagen.flow_from_directory(\n",
        "    directory=train_dir,\n",
        "    target_size=(224, 224),\n",
        "    batch_size=32,\n",
        "    class_mode='categorical',  # or 'binary', depending on your task\n",
        "    shuffle=True\n",
        ")\n",
        "\n",
        "# Get the minority class samples\n",
        "minority_class_samples = [x for x, y in zip(train_generator.filenames, train_generator.labels) if y[1] == 1]  # Assuming binary classification\n",
        "\n",
        "# Oversample the minority class\n",
        "ros = RandomOverSampler(sampling_strategy='auto', random_state=42)\n",
        "oversampled_samples, oversampled_labels = ros.fit_resample(minority_class_samples, [1] * len(minority_class_samples))\n",
        "\n",
        "# Combine oversampled data with original data\n",
        "combined_samples = train_generator.filenames + oversampled_samples\n",
        "combined_labels = train_generator.labels + oversampled_labels\n",
        "\n",
        "# Create a new generator with the combined data\n",
        "combined_generator = train_datagen.flow_from_directory(\n",
        "    directory=train_dir,\n",
        "    target_size=(224, 224),\n",
        "    batch_size=32,\n",
        "    class_mode='categorical',  # or 'binary', depending on your task\n",
        "    shuffle=True\n",
        ")\n"
      ]
    },
    {
      "cell_type": "code",
      "source": [
        "!pip install opencv-python-headless\n",
        "!pip install Augmentor"
      ],
      "metadata": {
        "colab": {
          "base_uri": "https://localhost:8080/"
        },
        "id": "PO9ZZaqYjPTV",
        "outputId": "0c81585a-2021-4155-ba38-fa4bc17cdc66"
      },
      "execution_count": null,
      "outputs": [
        {
          "output_type": "stream",
          "name": "stdout",
          "text": [
            "Requirement already satisfied: opencv-python-headless in /usr/local/lib/python3.10/dist-packages (4.8.0.76)\n",
            "Requirement already satisfied: numpy>=1.21.2 in /usr/local/lib/python3.10/dist-packages (from opencv-python-headless) (1.23.5)\n",
            "Collecting Augmentor\n",
            "  Downloading Augmentor-0.2.12-py2.py3-none-any.whl (38 kB)\n",
            "Requirement already satisfied: Pillow>=5.2.0 in /usr/local/lib/python3.10/dist-packages (from Augmentor) (9.4.0)\n",
            "Requirement already satisfied: tqdm>=4.9.0 in /usr/local/lib/python3.10/dist-packages (from Augmentor) (4.66.1)\n",
            "Requirement already satisfied: numpy>=1.11.0 in /usr/local/lib/python3.10/dist-packages (from Augmentor) (1.23.5)\n",
            "Installing collected packages: Augmentor\n",
            "Successfully installed Augmentor-0.2.12\n"
          ]
        }
      ]
    },
    {
      "cell_type": "code",
      "source": [
        "import os\n",
        "import random\n",
        "import shutil\n",
        "import Augmentor\n",
        "\n",
        "# Define the input directory containing subdirectories for each class\n",
        "input_directory = \"/content/train\"\n",
        "output_root_directory = \"/content/drive/MyDrive/Final Project\"\n",
        "target_num_images_per_class = 150  # Desired number of images per class\n",
        "\n",
        "# Create the output root directory if it doesn't exist\n",
        "os.makedirs(output_root_directory, exist_ok=True)\n",
        "\n",
        "# List all class directories in the input directory\n",
        "class_directories = os.listdir(input_directory)\n",
        "\n",
        "# Iterate through each class directory\n",
        "for class_dir in class_directories:\n",
        "    class_path = os.path.join(input_directory, class_dir)\n",
        "\n",
        "    # List all image files in the class directory\n",
        "    image_files = [os.path.join(class_path, filename) for filename in os.listdir(class_path) if filename.endswith(\".jpg\")]\n",
        "\n",
        "    # Calculate the number of images in this class\n",
        "    num_images_in_class = len(image_files)\n",
        "\n",
        "    # Determine how many images to sample or augment to reach the target count\n",
        "    if num_images_in_class < target_num_images_per_class:\n",
        "        # Create an Augmentor pipeline for this class\n",
        "        p = Augmentor.Pipeline(class_path, output_directory=os.path.join(output_root_directory, class_dir))\n",
        "\n",
        "        # Define your augmentation operations here\n",
        "        p.rotate(probability=0.7, max_left_rotation=25, max_right_rotation=25)\n",
        "        p.flip_left_right(probability=0.5)\n",
        "        p.zoom_random(probability=0.5, percentage_area=0.8)\n",
        "        p.random_contrast(probability=0.5, min_factor=0.7, max_factor=1.3)\n",
        "\n",
        "        # Calculate how many augmented images are needed\n",
        "        num_augmented_images = target_num_images_per_class - num_images_in_class\n",
        "\n",
        "        # Sample from the pipeline to generate augmented images\n",
        "        p.sample(num_augmented_images)\n",
        "\n",
        "# Your balanced dataset with exactly 150 images per class is now in the 'output_root_directory',\n",
        "# with subdirectories corresponding to their class.\n"
      ],
      "metadata": {
        "colab": {
          "base_uri": "https://localhost:8080/"
        },
        "id": "_tk4Hm7MwAHd",
        "outputId": "61966213-e987-4c9e-87c4-29602f05eefb"
      },
      "execution_count": null,
      "outputs": [
        {
          "output_type": "stream",
          "name": "stdout",
          "text": [
            "Initialised with 14 image(s) found.\n",
            "Output directory set to /content/drive/MyDrive/Final Project/077."
          ]
        },
        {
          "output_type": "stream",
          "name": "stderr",
          "text": [
            "Processing <PIL.Image.Image image mode=RGB size=200x200 at 0x793432E36BF0>: 100%|██████████| 150/150 [00:04<00:00, 33.46 Samples/s]\n"
          ]
        },
        {
          "output_type": "stream",
          "name": "stdout",
          "text": [
            "Initialised with 90 image(s) found.\n",
            "Output directory set to /content/drive/MyDrive/Final Project/065."
          ]
        },
        {
          "output_type": "stream",
          "name": "stderr",
          "text": [
            "Processing <PIL.Image.Image image mode=RGB size=200x200 at 0x7934D1E6E110>: 100%|██████████| 150/150 [00:05<00:00, 29.18 Samples/s]\n"
          ]
        },
        {
          "output_type": "stream",
          "name": "stdout",
          "text": [
            "Initialised with 16 image(s) found.\n",
            "Output directory set to /content/drive/MyDrive/Final Project/086."
          ]
        },
        {
          "output_type": "stream",
          "name": "stderr",
          "text": [
            "Processing <PIL.Image.Image image mode=RGB size=200x200 at 0x7934D04B5A20>: 100%|██████████| 150/150 [00:03<00:00, 39.43 Samples/s]\n"
          ]
        },
        {
          "output_type": "stream",
          "name": "stdout",
          "text": [
            "Initialised with 38 image(s) found.\n",
            "Output directory set to /content/drive/MyDrive/Final Project/063."
          ]
        },
        {
          "output_type": "stream",
          "name": "stderr",
          "text": [
            "Processing <PIL.Image.Image image mode=RGB size=200x200 at 0x793432E37B50>: 100%|██████████| 150/150 [00:03<00:00, 42.44 Samples/s]\n"
          ]
        },
        {
          "output_type": "stream",
          "name": "stdout",
          "text": [
            "Initialised with 89 image(s) found.\n",
            "Output directory set to /content/drive/MyDrive/Final Project/054."
          ]
        },
        {
          "output_type": "stream",
          "name": "stderr",
          "text": [
            "Processing <PIL.PngImagePlugin.PngImageFile image mode=RGB size=200x200 at 0x7934D03B72B0>: 100%|██████████| 150/150 [00:03<00:00, 42.79 Samples/s]\n"
          ]
        },
        {
          "output_type": "stream",
          "name": "stdout",
          "text": [
            "Initialised with 13 image(s) found.\n",
            "Output directory set to /content/drive/MyDrive/Final Project/074."
          ]
        },
        {
          "output_type": "stream",
          "name": "stderr",
          "text": [
            "Processing <PIL.Image.Image image mode=RGB size=200x200 at 0x79342C241DE0>: 100%|██████████| 150/150 [00:05<00:00, 27.76 Samples/s]\n"
          ]
        },
        {
          "output_type": "stream",
          "name": "stdout",
          "text": [
            "Initialised with 141 image(s) found.\n",
            "Output directory set to /content/drive/MyDrive/Final Project/018."
          ]
        },
        {
          "output_type": "stream",
          "name": "stderr",
          "text": [
            "Processing <PIL.Image.Image image mode=RGB size=200x200 at 0x793432E6FE20>: 100%|██████████| 150/150 [00:03<00:00, 43.33 Samples/s]\n"
          ]
        },
        {
          "output_type": "stream",
          "name": "stdout",
          "text": [
            "Initialised with 72 image(s) found.\n",
            "Output directory set to /content/drive/MyDrive/Final Project/023."
          ]
        },
        {
          "output_type": "stream",
          "name": "stderr",
          "text": [
            "Processing <PIL.Image.Image image mode=RGB size=200x200 at 0x793432F73520>: 100%|██████████| 150/150 [00:03<00:00, 40.03 Samples/s]\n"
          ]
        },
        {
          "output_type": "stream",
          "name": "stdout",
          "text": [
            "Initialised with 69 image(s) found.\n",
            "Output directory set to /content/drive/MyDrive/Final Project/034."
          ]
        },
        {
          "output_type": "stream",
          "name": "stderr",
          "text": [
            "Processing <PIL.Image.Image image mode=RGB size=200x200 at 0x79342C2B92D0>: 100%|██████████| 150/150 [00:04<00:00, 36.16 Samples/s]\n"
          ]
        },
        {
          "output_type": "stream",
          "name": "stdout",
          "text": [
            "Initialised with 102 image(s) found.\n",
            "Output directory set to /content/drive/MyDrive/Final Project/007."
          ]
        },
        {
          "output_type": "stream",
          "name": "stderr",
          "text": [
            "Processing <PIL.Image.Image image mode=RGB size=200x200 at 0x793432E35090>: 100%|██████████| 150/150 [00:04<00:00, 31.86 Samples/s]\n"
          ]
        },
        {
          "output_type": "stream",
          "name": "stdout",
          "text": [
            "Initialised with 100 image(s) found.\n",
            "Output directory set to /content/drive/MyDrive/Final Project/035."
          ]
        },
        {
          "output_type": "stream",
          "name": "stderr",
          "text": [
            "Processing <PIL.Image.Image image mode=RGB size=200x200 at 0x7934362CA560>: 100%|██████████| 150/150 [00:03<00:00, 43.62 Samples/s]\n"
          ]
        },
        {
          "output_type": "stream",
          "name": "stdout",
          "text": [
            "Initialised with 194 image(s) found.\n",
            "Output directory set to /content/drive/MyDrive/Final Project/008."
          ]
        },
        {
          "output_type": "stream",
          "name": "stderr",
          "text": [
            "Processing <PIL.Image.Image image mode=RGB size=200x200 at 0x793432E7FF40>: 100%|██████████| 150/150 [00:03<00:00, 42.10 Samples/s]\n"
          ]
        },
        {
          "output_type": "stream",
          "name": "stdout",
          "text": [
            "Initialised with 134 image(s) found.\n",
            "Output directory set to /content/drive/MyDrive/Final Project/009."
          ]
        },
        {
          "output_type": "stream",
          "name": "stderr",
          "text": [
            "Processing <PIL.Image.Image image mode=RGB size=200x200 at 0x7934D36FBF40>: 100%|██████████| 150/150 [00:05<00:00, 28.71 Samples/s]\n"
          ]
        },
        {
          "output_type": "stream",
          "name": "stdout",
          "text": [
            "Initialised with 11 image(s) found.\n",
            "Output directory set to /content/drive/MyDrive/Final Project/092."
          ]
        },
        {
          "output_type": "stream",
          "name": "stderr",
          "text": [
            "Processing <PIL.Image.Image image mode=RGB size=200x200 at 0x7934D1DEDF90>: 100%|██████████| 150/150 [00:04<00:00, 37.04 Samples/s]\n"
          ]
        },
        {
          "output_type": "stream",
          "name": "stdout",
          "text": [
            "Initialised with 48 image(s) found.\n",
            "Output directory set to /content/drive/MyDrive/Final Project/059."
          ]
        },
        {
          "output_type": "stream",
          "name": "stderr",
          "text": [
            "Processing <PIL.Image.Image image mode=RGB size=200x200 at 0x7934D1DB5780>: 100%|██████████| 150/150 [00:03<00:00, 42.62 Samples/s]\n"
          ]
        },
        {
          "output_type": "stream",
          "name": "stdout",
          "text": [
            "Initialised with 108 image(s) found.\n",
            "Output directory set to /content/drive/MyDrive/Final Project/010."
          ]
        },
        {
          "output_type": "stream",
          "name": "stderr",
          "text": [
            "Processing <PIL.Image.Image image mode=RGB size=200x200 at 0x7934310230D0>: 100%|██████████| 150/150 [00:03<00:00, 41.37 Samples/s]\n"
          ]
        },
        {
          "output_type": "stream",
          "name": "stdout",
          "text": [
            "Initialised with 80 image(s) found.\n",
            "Output directory set to /content/drive/MyDrive/Final Project/031."
          ]
        },
        {
          "output_type": "stream",
          "name": "stderr",
          "text": [
            "Processing <PIL.Image.Image image mode=RGB size=200x200 at 0x79343163A3E0>: 100%|██████████| 150/150 [00:05<00:00, 27.58 Samples/s]\n"
          ]
        },
        {
          "output_type": "stream",
          "name": "stdout",
          "text": [
            "Initialised with 87 image(s) found.\n",
            "Output directory set to /content/drive/MyDrive/Final Project/036."
          ]
        },
        {
          "output_type": "stream",
          "name": "stderr",
          "text": [
            "Processing <PIL.Image.Image image mode=RGB size=200x200 at 0x793430D49E40>: 100%|██████████| 150/150 [00:03<00:00, 42.07 Samples/s]\n"
          ]
        },
        {
          "output_type": "stream",
          "name": "stdout",
          "text": [
            "Initialised with 28 image(s) found.\n",
            "Output directory set to /content/drive/MyDrive/Final Project/073."
          ]
        },
        {
          "output_type": "stream",
          "name": "stderr",
          "text": [
            "Processing <PIL.Image.Image image mode=RGB size=200x200 at 0x793431765A50>: 100%|██████████| 150/150 [00:03<00:00, 42.98 Samples/s]\n"
          ]
        },
        {
          "output_type": "stream",
          "name": "stdout",
          "text": [
            "Initialised with 40 image(s) found.\n",
            "Output directory set to /content/drive/MyDrive/Final Project/067."
          ]
        },
        {
          "output_type": "stream",
          "name": "stderr",
          "text": [
            "Processing <PIL.Image.Image image mode=RGB size=200x200 at 0x7934D03E4B80>: 100%|██████████| 150/150 [00:04<00:00, 35.50 Samples/s]\n"
          ]
        },
        {
          "output_type": "stream",
          "name": "stdout",
          "text": [
            "Initialised with 149 image(s) found.\n",
            "Output directory set to /content/drive/MyDrive/Final Project/005."
          ]
        },
        {
          "output_type": "stream",
          "name": "stderr",
          "text": [
            "Processing <PIL.Image.Image image mode=RGB size=200x200 at 0x7934D04E3EB0>: 100%|██████████| 150/150 [00:04<00:00, 31.65 Samples/s]\n"
          ]
        },
        {
          "output_type": "stream",
          "name": "stdout",
          "text": [
            "Initialised with 60 image(s) found.\n",
            "Output directory set to /content/drive/MyDrive/Final Project/040."
          ]
        },
        {
          "output_type": "stream",
          "name": "stderr",
          "text": [
            "Processing <PIL.Image.Image image mode=RGB size=200x200 at 0x7934D04AB4C0>: 100%|██████████| 150/150 [00:03<00:00, 42.89 Samples/s]\n"
          ]
        },
        {
          "output_type": "stream",
          "name": "stdout",
          "text": [
            "Initialised with 44 image(s) found.\n",
            "Output directory set to /content/drive/MyDrive/Final Project/043."
          ]
        },
        {
          "output_type": "stream",
          "name": "stderr",
          "text": [
            "Processing <PIL.Image.Image image mode=RGB size=200x200 at 0x7934D1DEE350>: 100%|██████████| 150/150 [00:03<00:00, 41.46 Samples/s]\n"
          ]
        },
        {
          "output_type": "stream",
          "name": "stdout",
          "text": [
            "Initialised with 107 image(s) found.\n",
            "Output directory set to /content/drive/MyDrive/Final Project/056."
          ]
        },
        {
          "output_type": "stream",
          "name": "stderr",
          "text": [
            "Processing <PIL.PngImagePlugin.PngImageFile image mode=RGB size=200x200 at 0x7934D1E6D540>: 100%|██████████| 150/150 [00:04<00:00, 30.22 Samples/s]\n"
          ]
        },
        {
          "output_type": "stream",
          "name": "stdout",
          "text": [
            "Initialised with 59 image(s) found.\n",
            "Output directory set to /content/drive/MyDrive/Final Project/062."
          ]
        },
        {
          "output_type": "stream",
          "name": "stderr",
          "text": [
            "Processing <PIL.Image.Image image mode=RGB size=200x200 at 0x7934311C7BB0>: 100%|██████████| 150/150 [00:04<00:00, 36.98 Samples/s]\n"
          ]
        },
        {
          "output_type": "stream",
          "name": "stdout",
          "text": [
            "Initialised with 39 image(s) found.\n",
            "Output directory set to /content/drive/MyDrive/Final Project/061."
          ]
        },
        {
          "output_type": "stream",
          "name": "stderr",
          "text": [
            "Processing <PIL.Image.Image image mode=RGB size=200x200 at 0x793430D49C90>: 100%|██████████| 150/150 [00:03<00:00, 41.66 Samples/s]\n"
          ]
        },
        {
          "output_type": "stream",
          "name": "stdout",
          "text": [
            "Initialised with 105 image(s) found.\n",
            "Output directory set to /content/drive/MyDrive/Final Project/039."
          ]
        },
        {
          "output_type": "stream",
          "name": "stderr",
          "text": [
            "Processing <PIL.PngImagePlugin.PngImageFile image mode=RGB size=200x200 at 0x7934D36FB3A0>: 100%|██████████| 150/150 [00:04<00:00, 32.04 Samples/s]\n"
          ]
        },
        {
          "output_type": "stream",
          "name": "stdout",
          "text": [
            "Initialised with 106 image(s) found.\n",
            "Output directory set to /content/drive/MyDrive/Final Project/085."
          ]
        },
        {
          "output_type": "stream",
          "name": "stderr",
          "text": [
            "Processing <PIL.Image.Image image mode=RGB size=200x200 at 0x7934D36FBAF0>: 100%|██████████| 150/150 [00:05<00:00, 28.66 Samples/s]\n"
          ]
        },
        {
          "output_type": "stream",
          "name": "stdout",
          "text": [
            "Initialised with 884 image(s) found.\n",
            "Output directory set to /content/drive/MyDrive/Final Project/001."
          ]
        },
        {
          "output_type": "stream",
          "name": "stderr",
          "text": [
            "Processing <PIL.Image.Image image mode=RGB size=200x200 at 0x7934D36FBF40>: 100%|██████████| 150/150 [00:03<00:00, 38.33 Samples/s]\n"
          ]
        },
        {
          "output_type": "stream",
          "name": "stdout",
          "text": [
            "Initialised with 48 image(s) found.\n",
            "Output directory set to /content/drive/MyDrive/Final Project/019."
          ]
        },
        {
          "output_type": "stream",
          "name": "stderr",
          "text": [
            "Processing <PIL.Image.Image image mode=RGB size=200x200 at 0x79342C241DE0>: 100%|██████████| 150/150 [00:03<00:00, 40.69 Samples/s]\n"
          ]
        },
        {
          "output_type": "stream",
          "name": "stdout",
          "text": [
            "Initialised with 44 image(s) found.\n",
            "Output directory set to /content/drive/MyDrive/Final Project/041."
          ]
        },
        {
          "output_type": "stream",
          "name": "stderr",
          "text": [
            "Processing <PIL.Image.Image image mode=RGB size=200x200 at 0x7934311C7E20>: 100%|██████████| 150/150 [00:05<00:00, 29.78 Samples/s]\n"
          ]
        },
        {
          "output_type": "stream",
          "name": "stdout",
          "text": [
            "Initialised with 37 image(s) found.\n",
            "Output directory set to /content/drive/MyDrive/Final Project/066."
          ]
        },
        {
          "output_type": "stream",
          "name": "stderr",
          "text": [
            "Processing <PIL.Image.Image image mode=RGB size=200x200 at 0x793431021A50>: 100%|██████████| 150/150 [00:04<00:00, 36.00 Samples/s]\n"
          ]
        },
        {
          "output_type": "stream",
          "name": "stdout",
          "text": [
            "Initialised with 106 image(s) found.\n",
            "Output directory set to /content/drive/MyDrive/Final Project/015."
          ]
        },
        {
          "output_type": "stream",
          "name": "stderr",
          "text": [
            "Processing <PIL.Image.Image image mode=RGB size=200x200 at 0x7934D03E69B0>: 100%|██████████| 150/150 [00:03<00:00, 41.45 Samples/s]\n"
          ]
        },
        {
          "output_type": "stream",
          "name": "stdout",
          "text": [
            "Initialised with 373 image(s) found.\n",
            "Output directory set to /content/drive/MyDrive/Final Project/002."
          ]
        },
        {
          "output_type": "stream",
          "name": "stderr",
          "text": [
            "Processing <PIL.Image.Image image mode=RGB size=200x200 at 0x7934D04A65F0>: 100%|██████████| 150/150 [00:04<00:00, 37.02 Samples/s]\n"
          ]
        },
        {
          "output_type": "stream",
          "name": "stdout",
          "text": [
            "Initialised with 53 image(s) found.\n",
            "Output directory set to /content/drive/MyDrive/Final Project/072."
          ]
        },
        {
          "output_type": "stream",
          "name": "stderr",
          "text": [
            "Processing <PIL.Image.Image image mode=RGB size=200x200 at 0x793557B36560>: 100%|██████████| 150/150 [00:05<00:00, 28.07 Samples/s]\n"
          ]
        },
        {
          "output_type": "stream",
          "name": "stdout",
          "text": [
            "Initialised with 150 image(s) found.\n",
            "Output directory set to /content/drive/MyDrive/Final Project/024."
          ]
        },
        {
          "output_type": "stream",
          "name": "stderr",
          "text": [
            "Processing <PIL.Image.Image image mode=RGB size=200x200 at 0x793451B982B0>: 100%|██████████| 150/150 [00:03<00:00, 42.56 Samples/s]\n"
          ]
        },
        {
          "output_type": "stream",
          "name": "stdout",
          "text": [
            "Initialised with 94 image(s) found.\n",
            "Output directory set to /content/drive/MyDrive/Final Project/006."
          ]
        },
        {
          "output_type": "stream",
          "name": "stderr",
          "text": [
            "Processing <PIL.Image.Image image mode=RGB size=200x200 at 0x7934400F2E00>: 100%|██████████| 150/150 [00:03<00:00, 44.05 Samples/s]\n"
          ]
        },
        {
          "output_type": "stream",
          "name": "stdout",
          "text": [
            "Initialised with 53 image(s) found.\n",
            "Output directory set to /content/drive/MyDrive/Final Project/051."
          ]
        },
        {
          "output_type": "stream",
          "name": "stderr",
          "text": [
            "Processing <PIL.Image.Image image mode=RGB size=200x200 at 0x7934D04E34F0>: 100%|██████████| 150/150 [00:05<00:00, 25.53 Samples/s]\n"
          ]
        },
        {
          "output_type": "stream",
          "name": "stdout",
          "text": [
            "Initialised with 172 image(s) found.\n",
            "Output directory set to /content/drive/MyDrive/Final Project/016."
          ]
        },
        {
          "output_type": "stream",
          "name": "stderr",
          "text": [
            "Processing <PIL.Image.Image image mode=RGB size=200x200 at 0x79346A9A7F40>: 100%|██████████| 150/150 [00:05<00:00, 27.28 Samples/s]\n"
          ]
        },
        {
          "output_type": "stream",
          "name": "stdout",
          "text": [
            "Initialised with 11 image(s) found.\n",
            "Output directory set to /content/drive/MyDrive/Final Project/079."
          ]
        },
        {
          "output_type": "stream",
          "name": "stderr",
          "text": [
            "Processing <PIL.Image.Image image mode=RGB size=200x200 at 0x793436422410>: 100%|██████████| 150/150 [00:03<00:00, 40.08 Samples/s]\n"
          ]
        },
        {
          "output_type": "stream",
          "name": "stdout",
          "text": [
            "Initialised with 23 image(s) found.\n",
            "Output directory set to /content/drive/MyDrive/Final Project/082."
          ]
        },
        {
          "output_type": "stream",
          "name": "stderr",
          "text": [
            "Processing <PIL.Image.Image image mode=RGB size=200x200 at 0x7934D04AB4C0>: 100%|██████████| 150/150 [00:03<00:00, 40.95 Samples/s]\n"
          ]
        },
        {
          "output_type": "stream",
          "name": "stdout",
          "text": [
            "Initialised with 102 image(s) found.\n",
            "Output directory set to /content/drive/MyDrive/Final Project/022."
          ]
        },
        {
          "output_type": "stream",
          "name": "stderr",
          "text": [
            "Processing <PIL.Image.Image image mode=RGB size=200x200 at 0x7933E84C65C0>: 100%|██████████| 150/150 [00:04<00:00, 34.65 Samples/s]\n"
          ]
        },
        {
          "output_type": "stream",
          "name": "stdout",
          "text": [
            "Initialised with 10 image(s) found.\n",
            "Output directory set to /content/drive/MyDrive/Final Project/088."
          ]
        },
        {
          "output_type": "stream",
          "name": "stderr",
          "text": [
            "Processing <PIL.Image.Image image mode=RGB size=200x200 at 0x7934D04E3EB0>: 100%|██████████| 150/150 [00:04<00:00, 31.22 Samples/s]\n"
          ]
        },
        {
          "output_type": "stream",
          "name": "stdout",
          "text": [
            "Initialised with 108 image(s) found.\n",
            "Output directory set to /content/drive/MyDrive/Final Project/052."
          ]
        },
        {
          "output_type": "stream",
          "name": "stderr",
          "text": [
            "Processing <PIL.Image.Image image mode=RGB size=200x200 at 0x7934D1DCF280>: 100%|██████████| 150/150 [00:03<00:00, 40.62 Samples/s]\n"
          ]
        },
        {
          "output_type": "stream",
          "name": "stdout",
          "text": [
            "Initialised with 60 image(s) found.\n",
            "Output directory set to /content/drive/MyDrive/Final Project/013."
          ]
        },
        {
          "output_type": "stream",
          "name": "stderr",
          "text": [
            "Processing <PIL.Image.Image image mode=RGB size=200x200 at 0x793432F70E20>: 100%|██████████| 150/150 [00:03<00:00, 42.14 Samples/s]\n"
          ]
        },
        {
          "output_type": "stream",
          "name": "stdout",
          "text": [
            "Initialised with 77 image(s) found.\n",
            "Output directory set to /content/drive/MyDrive/Final Project/050."
          ]
        },
        {
          "output_type": "stream",
          "name": "stderr",
          "text": [
            "Processing <PIL.Image.Image image mode=RGB size=200x200 at 0x7933E8549BD0>: 100%|██████████| 150/150 [00:05<00:00, 28.44 Samples/s]\n"
          ]
        },
        {
          "output_type": "stream",
          "name": "stdout",
          "text": [
            "Initialised with 73 image(s) found.\n",
            "Output directory set to /content/drive/MyDrive/Final Project/037."
          ]
        },
        {
          "output_type": "stream",
          "name": "stderr",
          "text": [
            "Processing <PIL.Image.Image image mode=RGB size=200x200 at 0x79343163B340>: 100%|██████████| 150/150 [00:03<00:00, 38.88 Samples/s]\n"
          ]
        },
        {
          "output_type": "stream",
          "name": "stdout",
          "text": [
            "Initialised with 124 image(s) found.\n",
            "Output directory set to /content/drive/MyDrive/Final Project/025."
          ]
        },
        {
          "output_type": "stream",
          "name": "stderr",
          "text": [
            "Processing <PIL.Image.Image image mode=RGB size=200x200 at 0x79343637E860>: 100%|██████████| 150/150 [00:03<00:00, 42.24 Samples/s]\n"
          ]
        },
        {
          "output_type": "stream",
          "name": "stdout",
          "text": [
            "Initialised with 92 image(s) found.\n",
            "Output directory set to /content/drive/MyDrive/Final Project/027."
          ]
        },
        {
          "output_type": "stream",
          "name": "stderr",
          "text": [
            "Processing <PIL.Image.Image image mode=RGB size=200x200 at 0x7934310D4520>: 100%|██████████| 150/150 [00:03<00:00, 41.94 Samples/s]\n"
          ]
        },
        {
          "output_type": "stream",
          "name": "stdout",
          "text": [
            "Initialised with 47 image(s) found.\n",
            "Output directory set to /content/drive/MyDrive/Final Project/011."
          ]
        },
        {
          "output_type": "stream",
          "name": "stderr",
          "text": [
            "Processing <PIL.Image.Image image mode=RGB size=200x200 at 0x7934D04B4EE0>: 100%|██████████| 150/150 [00:05<00:00, 27.50 Samples/s]\n"
          ]
        },
        {
          "output_type": "stream",
          "name": "stdout",
          "text": [
            "Initialised with 232 image(s) found.\n",
            "Output directory set to /content/drive/MyDrive/Final Project/003."
          ]
        },
        {
          "output_type": "stream",
          "name": "stderr",
          "text": [
            "Processing <PIL.Image.Image image mode=RGB size=200x200 at 0x7934D0511630>: 100%|██████████| 150/150 [00:03<00:00, 42.51 Samples/s]\n"
          ]
        },
        {
          "output_type": "stream",
          "name": "stdout",
          "text": [
            "Initialised with 4 image(s) found.\n",
            "Output directory set to /content/drive/MyDrive/Final Project/087."
          ]
        },
        {
          "output_type": "stream",
          "name": "stderr",
          "text": [
            "Processing <PIL.Image.Image image mode=RGB size=200x200 at 0x793432E6E470>: 100%|██████████| 150/150 [00:04<00:00, 33.99 Samples/s]\n"
          ]
        },
        {
          "output_type": "stream",
          "name": "stdout",
          "text": [
            "Initialised with 90 image(s) found.\n",
            "Output directory set to /content/drive/MyDrive/Final Project/020."
          ]
        },
        {
          "output_type": "stream",
          "name": "stderr",
          "text": [
            "Processing <PIL.Image.Image image mode=RGB size=200x200 at 0x79343157DF30>: 100%|██████████| 150/150 [00:04<00:00, 34.09 Samples/s]\n"
          ]
        },
        {
          "output_type": "stream",
          "name": "stdout",
          "text": [
            "Initialised with 9 image(s) found.\n",
            "Output directory set to /content/drive/MyDrive/Final Project/081."
          ]
        },
        {
          "output_type": "stream",
          "name": "stderr",
          "text": [
            "Processing <PIL.Image.Image image mode=RGB size=200x200 at 0x793436423910>: 100%|██████████| 150/150 [00:04<00:00, 31.97 Samples/s]\n"
          ]
        },
        {
          "output_type": "stream",
          "name": "stdout",
          "text": [
            "Initialised with 1 image(s) found.\n",
            "Output directory set to /content/drive/MyDrive/Final Project/091."
          ]
        },
        {
          "output_type": "stream",
          "name": "stderr",
          "text": [
            "Processing <PIL.Image.Image image mode=RGB size=200x200 at 0x793451B994E0>: 100%|██████████| 150/150 [00:03<00:00, 40.50 Samples/s]\n"
          ]
        },
        {
          "output_type": "stream",
          "name": "stdout",
          "text": [
            "Initialised with 36 image(s) found.\n",
            "Output directory set to /content/drive/MyDrive/Final Project/069."
          ]
        },
        {
          "output_type": "stream",
          "name": "stderr",
          "text": [
            "Processing <PIL.Image.Image image mode=RGB size=200x200 at 0x7934D36FB3A0>: 100%|██████████| 150/150 [00:03<00:00, 41.57 Samples/s]\n"
          ]
        },
        {
          "output_type": "stream",
          "name": "stdout",
          "text": [
            "Initialised with 126 image(s) found.\n",
            "Output directory set to /content/drive/MyDrive/Final Project/028."
          ]
        },
        {
          "output_type": "stream",
          "name": "stderr",
          "text": [
            "Processing <PIL.Image.Image image mode=RGB size=200x200 at 0x7933E84C7580>: 100%|██████████| 150/150 [00:04<00:00, 30.34 Samples/s]\n"
          ]
        },
        {
          "output_type": "stream",
          "name": "stdout",
          "text": [
            "Initialised with 48 image(s) found.\n",
            "Output directory set to /content/drive/MyDrive/Final Project/057."
          ]
        },
        {
          "output_type": "stream",
          "name": "stderr",
          "text": [
            "Processing <PIL.Image.Image image mode=RGB size=200x200 at 0x7934310230D0>: 100%|██████████| 150/150 [00:04<00:00, 36.46 Samples/s]\n"
          ]
        },
        {
          "output_type": "stream",
          "name": "stdout",
          "text": [
            "Initialised with 17 image(s) found.\n",
            "Output directory set to /content/drive/MyDrive/Final Project/071."
          ]
        },
        {
          "output_type": "stream",
          "name": "stderr",
          "text": [
            "Processing <PIL.Image.Image image mode=RGB size=200x200 at 0x79346A9A7F40>: 100%|██████████| 150/150 [00:03<00:00, 39.37 Samples/s]\n"
          ]
        },
        {
          "output_type": "stream",
          "name": "stdout",
          "text": [
            "Initialised with 61 image(s) found.\n",
            "Output directory set to /content/drive/MyDrive/Final Project/045."
          ]
        },
        {
          "output_type": "stream",
          "name": "stderr",
          "text": [
            "Processing <PIL.PngImagePlugin.PngImageFile image mode=RGB size=200x200 at 0x793432E6E650>: 100%|██████████| 150/150 [00:04<00:00, 37.00 Samples/s]\n"
          ]
        },
        {
          "output_type": "stream",
          "name": "stdout",
          "text": [
            "Initialised with 113 image(s) found.\n",
            "Output directory set to /content/drive/MyDrive/Final Project/060."
          ]
        },
        {
          "output_type": "stream",
          "name": "stderr",
          "text": [
            "Processing <PIL.Image.Image image mode=RGB size=200x200 at 0x793436171FF0>: 100%|██████████| 150/150 [00:06<00:00, 24.06 Samples/s]\n"
          ]
        },
        {
          "output_type": "stream",
          "name": "stdout",
          "text": [
            "Initialised with 83 image(s) found.\n",
            "Output directory set to /content/drive/MyDrive/Final Project/058."
          ]
        },
        {
          "output_type": "stream",
          "name": "stderr",
          "text": [
            "Processing <PIL.Image.Image image mode=RGB size=200x200 at 0x79343163B340>: 100%|██████████| 150/150 [00:04<00:00, 31.08 Samples/s]\n"
          ]
        },
        {
          "output_type": "stream",
          "name": "stdout",
          "text": [
            "Initialised with 66 image(s) found.\n",
            "Output directory set to /content/drive/MyDrive/Final Project/075."
          ]
        },
        {
          "output_type": "stream",
          "name": "stderr",
          "text": [
            "Processing <PIL.Image.Image image mode=RGB size=200x200 at 0x793432E358D0>: 100%|██████████| 150/150 [00:03<00:00, 42.10 Samples/s]\n"
          ]
        },
        {
          "output_type": "stream",
          "name": "stdout",
          "text": [
            "Initialised with 39 image(s) found.\n",
            "Output directory set to /content/drive/MyDrive/Final Project/070."
          ]
        },
        {
          "output_type": "stream",
          "name": "stderr",
          "text": [
            "Processing <PIL.Image.Image image mode=RGB size=200x200 at 0x793431666260>: 100%|██████████| 150/150 [00:03<00:00, 41.72 Samples/s]\n"
          ]
        },
        {
          "output_type": "stream",
          "name": "stdout",
          "text": [
            "Initialised with 13 image(s) found.\n",
            "Output directory set to /content/drive/MyDrive/Final Project/089."
          ]
        },
        {
          "output_type": "stream",
          "name": "stderr",
          "text": [
            "Processing <PIL.Image.Image image mode=RGB size=200x200 at 0x793430FCD720>: 100%|██████████| 150/150 [00:05<00:00, 27.60 Samples/s]\n"
          ]
        },
        {
          "output_type": "stream",
          "name": "stdout",
          "text": [
            "Initialised with 214 image(s) found.\n",
            "Output directory set to /content/drive/MyDrive/Final Project/026."
          ]
        },
        {
          "output_type": "stream",
          "name": "stderr",
          "text": [
            "Processing <PIL.Image.Image image mode=RGB size=200x200 at 0x793432ED7E80>: 100%|██████████| 150/150 [00:03<00:00, 39.84 Samples/s]\n"
          ]
        },
        {
          "output_type": "stream",
          "name": "stdout",
          "text": [
            "Initialised with 115 image(s) found.\n",
            "Output directory set to /content/drive/MyDrive/Final Project/029."
          ]
        },
        {
          "output_type": "stream",
          "name": "stderr",
          "text": [
            "Processing <PIL.Image.Image image mode=RGB size=200x200 at 0x793432EDF370>: 100%|██████████| 150/150 [00:03<00:00, 41.94 Samples/s]\n"
          ]
        },
        {
          "output_type": "stream",
          "name": "stdout",
          "text": [
            "Initialised with 85 image(s) found.\n",
            "Output directory set to /content/drive/MyDrive/Final Project/017."
          ]
        },
        {
          "output_type": "stream",
          "name": "stderr",
          "text": [
            "Processing <PIL.Image.Image image mode=RGB size=200x200 at 0x7934361703A0>: 100%|██████████| 150/150 [00:03<00:00, 39.92 Samples/s]\n"
          ]
        },
        {
          "output_type": "stream",
          "name": "stdout",
          "text": [
            "Initialised with 7 image(s) found.\n",
            "Output directory set to /content/drive/MyDrive/Final Project/084."
          ]
        },
        {
          "output_type": "stream",
          "name": "stderr",
          "text": [
            "Processing <PIL.Image.Image image mode=RGB size=200x200 at 0x7934362C8640>: 100%|██████████| 150/150 [00:05<00:00, 26.23 Samples/s]\n"
          ]
        },
        {
          "output_type": "stream",
          "name": "stdout",
          "text": [
            "Initialised with 101 image(s) found.\n",
            "Output directory set to /content/drive/MyDrive/Final Project/021."
          ]
        },
        {
          "output_type": "stream",
          "name": "stderr",
          "text": [
            "Processing <PIL.Image.Image image mode=RGB size=200x200 at 0x79342C431570>: 100%|██████████| 150/150 [00:03<00:00, 42.45 Samples/s]\n"
          ]
        },
        {
          "output_type": "stream",
          "name": "stdout",
          "text": [
            "Initialised with 3 image(s) found.\n",
            "Output directory set to /content/drive/MyDrive/Final Project/083."
          ]
        },
        {
          "output_type": "stream",
          "name": "stderr",
          "text": [
            "Processing <PIL.Image.Image image mode=RGB size=200x200 at 0x7934362C8640>: 100%|██████████| 150/150 [00:03<00:00, 41.65 Samples/s]\n"
          ]
        },
        {
          "output_type": "stream",
          "name": "stdout",
          "text": [
            "Initialised with 69 image(s) found.\n",
            "Output directory set to /content/drive/MyDrive/Final Project/038."
          ]
        },
        {
          "output_type": "stream",
          "name": "stderr",
          "text": [
            "Processing <PIL.Image.Image image mode=RGB size=200x200 at 0x7934D03E6DD0>: 100%|██████████| 150/150 [00:04<00:00, 34.81 Samples/s]\n"
          ]
        },
        {
          "output_type": "stream",
          "name": "stdout",
          "text": [
            "Initialised with 68 image(s) found.\n",
            "Output directory set to /content/drive/MyDrive/Final Project/042."
          ]
        },
        {
          "output_type": "stream",
          "name": "stderr",
          "text": [
            "Processing <PIL.Image.Image image mode=RGB size=200x200 at 0x7934310D7550>: 100%|██████████| 150/150 [00:04<00:00, 30.09 Samples/s]\n"
          ]
        },
        {
          "output_type": "stream",
          "name": "stdout",
          "text": [
            "Initialised with 105 image(s) found.\n",
            "Output directory set to /content/drive/MyDrive/Final Project/032."
          ]
        },
        {
          "output_type": "stream",
          "name": "stderr",
          "text": [
            "Processing <PIL.Image.Image image mode=RGB size=200x200 at 0x793432ED70A0>: 100%|██████████| 150/150 [00:03<00:00, 42.22 Samples/s]\n"
          ]
        },
        {
          "output_type": "stream",
          "name": "stdout",
          "text": [
            "Initialised with 31 image(s) found.\n",
            "Output directory set to /content/drive/MyDrive/Final Project/076."
          ]
        },
        {
          "output_type": "stream",
          "name": "stderr",
          "text": [
            "Processing <PIL.Image.Image image mode=RGB size=200x200 at 0x793432EAEB30>: 100%|██████████| 150/150 [00:03<00:00, 41.13 Samples/s]\n"
          ]
        },
        {
          "output_type": "stream",
          "name": "stdout",
          "text": [
            "Initialised with 32 image(s) found.\n",
            "Output directory set to /content/drive/MyDrive/Final Project/055."
          ]
        },
        {
          "output_type": "stream",
          "name": "stderr",
          "text": [
            "Processing <PIL.Image.Image image mode=RGB size=200x200 at 0x793430BCC430>: 100%|██████████| 150/150 [00:04<00:00, 30.21 Samples/s]\n"
          ]
        },
        {
          "output_type": "stream",
          "name": "stdout",
          "text": [
            "Initialised with 46 image(s) found.\n",
            "Output directory set to /content/drive/MyDrive/Final Project/090."
          ]
        },
        {
          "output_type": "stream",
          "name": "stderr",
          "text": [
            "Processing <PIL.Image.Image image mode=RGB size=200x200 at 0x79342C432350>: 100%|██████████| 150/150 [00:04<00:00, 34.17 Samples/s]\n"
          ]
        },
        {
          "output_type": "stream",
          "name": "stdout",
          "text": [
            "Initialised with 105 image(s) found.\n",
            "Output directory set to /content/drive/MyDrive/Final Project/014."
          ]
        },
        {
          "output_type": "stream",
          "name": "stderr",
          "text": [
            "Processing <PIL.Image.Image image mode=RGB size=200x200 at 0x79343637E860>: 100%|██████████| 150/150 [00:03<00:00, 41.96 Samples/s]\n"
          ]
        },
        {
          "output_type": "stream",
          "name": "stdout",
          "text": [
            "Initialised with 117 image(s) found.\n",
            "Output directory set to /content/drive/MyDrive/Final Project/053."
          ]
        },
        {
          "output_type": "stream",
          "name": "stderr",
          "text": [
            "Processing <PIL.Image.Image image mode=RGB size=200x200 at 0x793432E2F9A0>: 100%|██████████| 150/150 [00:03<00:00, 42.77 Samples/s]\n"
          ]
        },
        {
          "output_type": "stream",
          "name": "stdout",
          "text": [
            "Initialised with 22 image(s) found.\n",
            "Output directory set to /content/drive/MyDrive/Final Project/078."
          ]
        },
        {
          "output_type": "stream",
          "name": "stderr",
          "text": [
            "Processing <PIL.Image.Image image mode=RGB size=200x200 at 0x793432F72590>: 100%|██████████| 150/150 [00:05<00:00, 26.92 Samples/s]\n"
          ]
        },
        {
          "output_type": "stream",
          "name": "stdout",
          "text": [
            "Initialised with 60 image(s) found.\n",
            "Output directory set to /content/drive/MyDrive/Final Project/080."
          ]
        },
        {
          "output_type": "stream",
          "name": "stderr",
          "text": [
            "Processing <PIL.Image.Image image mode=RGB size=200x200 at 0x7934D04B5210>: 100%|██████████| 150/150 [00:04<00:00, 36.58 Samples/s]\n"
          ]
        },
        {
          "output_type": "stream",
          "name": "stdout",
          "text": [
            "Initialised with 85 image(s) found.\n",
            "Output directory set to /content/drive/MyDrive/Final Project/049."
          ]
        },
        {
          "output_type": "stream",
          "name": "stderr",
          "text": [
            "Processing <PIL.Image.Image image mode=RGB size=200x200 at 0x7934D03B7A60>: 100%|██████████| 150/150 [00:03<00:00, 40.54 Samples/s]\n"
          ]
        },
        {
          "output_type": "stream",
          "name": "stdout",
          "text": [
            "Initialised with 24 image(s) found.\n",
            "Output directory set to /content/drive/MyDrive/Final Project/044."
          ]
        },
        {
          "output_type": "stream",
          "name": "stderr",
          "text": [
            "Processing <PIL.Image.Image image mode=RGB size=200x200 at 0x793432E2DAB0>: 100%|██████████| 150/150 [00:04<00:00, 30.45 Samples/s]\n"
          ]
        },
        {
          "output_type": "stream",
          "name": "stdout",
          "text": [
            "Initialised with 1 image(s) found.\n",
            "Output directory set to /content/drive/MyDrive/Final Project/093."
          ]
        },
        {
          "output_type": "stream",
          "name": "stderr",
          "text": [
            "Processing <PIL.Image.Image image mode=RGB size=200x200 at 0x793432EE7670>: 100%|██████████| 150/150 [00:05<00:00, 29.31 Samples/s]\n"
          ]
        },
        {
          "output_type": "stream",
          "name": "stdout",
          "text": [
            "Initialised with 45 image(s) found.\n",
            "Output directory set to /content/drive/MyDrive/Final Project/046."
          ]
        },
        {
          "output_type": "stream",
          "name": "stderr",
          "text": [
            "Processing <PIL.Image.Image image mode=RGB size=200x200 at 0x7934317433D0>: 100%|██████████| 150/150 [00:03<00:00, 40.15 Samples/s]\n"
          ]
        },
        {
          "output_type": "stream",
          "name": "stdout",
          "text": [
            "Initialised with 1 image(s) found.\n",
            "Output directory set to /content/drive/MyDrive/Final Project/095."
          ]
        },
        {
          "output_type": "stream",
          "name": "stderr",
          "text": [
            "Processing <PIL.Image.Image image mode=RGB size=200x200 at 0x793430FCD8A0>: 100%|██████████| 150/150 [00:03<00:00, 39.55 Samples/s]\n"
          ]
        },
        {
          "output_type": "stream",
          "name": "stdout",
          "text": [
            "Initialised with 21 image(s) found.\n",
            "Output directory set to /content/drive/MyDrive/Final Project/064."
          ]
        },
        {
          "output_type": "stream",
          "name": "stderr",
          "text": [
            "Processing <PIL.Image.Image image mode=RGB size=200x200 at 0x793432EC76A0>: 100%|██████████| 150/150 [00:04<00:00, 31.31 Samples/s]\n"
          ]
        },
        {
          "output_type": "stream",
          "name": "stdout",
          "text": [
            "Initialised with 214 image(s) found.\n",
            "Output directory set to /content/drive/MyDrive/Final Project/004."
          ]
        },
        {
          "output_type": "stream",
          "name": "stderr",
          "text": [
            "Processing <PIL.Image.Image image mode=RGB size=200x200 at 0x79343637E860>: 100%|██████████| 150/150 [00:04<00:00, 33.63 Samples/s]\n"
          ]
        },
        {
          "output_type": "stream",
          "name": "stdout",
          "text": [
            "Initialised with 50 image(s) found.\n",
            "Output directory set to /content/drive/MyDrive/Final Project/048."
          ]
        },
        {
          "output_type": "stream",
          "name": "stderr",
          "text": [
            "Processing <PIL.Image.Image image mode=RGB size=200x200 at 0x793432EAC760>: 100%|██████████| 150/150 [00:03<00:00, 40.96 Samples/s]\n"
          ]
        },
        {
          "output_type": "stream",
          "name": "stdout",
          "text": [
            "Initialised with 57 image(s) found.\n",
            "Output directory set to /content/drive/MyDrive/Final Project/047."
          ]
        },
        {
          "output_type": "stream",
          "name": "stderr",
          "text": [
            "Processing <PIL.Image.Image image mode=RGB size=200x200 at 0x793432EE51B0>: 100%|██████████| 150/150 [00:03<00:00, 40.37 Samples/s]\n"
          ]
        },
        {
          "output_type": "stream",
          "name": "stdout",
          "text": [
            "Initialised with 35 image(s) found.\n",
            "Output directory set to /content/drive/MyDrive/Final Project/033."
          ]
        },
        {
          "output_type": "stream",
          "name": "stderr",
          "text": [
            "Processing <PIL.Image.Image image mode=RGB size=200x200 at 0x7934D04AA620>: 100%|██████████| 150/150 [00:05<00:00, 27.03 Samples/s]\n"
          ]
        },
        {
          "output_type": "stream",
          "name": "stdout",
          "text": [
            "Initialised with 41 image(s) found.\n",
            "Output directory set to /content/drive/MyDrive/Final Project/068."
          ]
        },
        {
          "output_type": "stream",
          "name": "stderr",
          "text": [
            "Processing <PIL.Image.Image image mode=RGB size=200x200 at 0x793432EC4A00>: 100%|██████████| 150/150 [00:03<00:00, 38.69 Samples/s]\n"
          ]
        },
        {
          "output_type": "stream",
          "name": "stdout",
          "text": [
            "Initialised with 81 image(s) found.\n",
            "Output directory set to /content/drive/MyDrive/Final Project/012."
          ]
        },
        {
          "output_type": "stream",
          "name": "stderr",
          "text": [
            "Processing <PIL.Image.Image image mode=RGB size=200x200 at 0x793432ED6F20>: 100%|██████████| 150/150 [00:03<00:00, 40.51 Samples/s]\n"
          ]
        },
        {
          "output_type": "stream",
          "name": "stdout",
          "text": [
            "Initialised with 89 image(s) found.\n",
            "Output directory set to /content/drive/MyDrive/Final Project/030."
          ]
        },
        {
          "output_type": "stream",
          "name": "stderr",
          "text": [
            "Processing <PIL.Image.Image image mode=RGB size=200x200 at 0x793432EC5DE0>: 100%|██████████| 150/150 [00:04<00:00, 36.65 Samples/s]\n"
          ]
        }
      ]
    },
    {
      "cell_type": "code",
      "source": [
        "# Walk through train directory and list number of files\n",
        "for dirpath, dirnames, filenames in os.walk(\"aug\"):\n",
        "  print(f\"There are {len(dirnames)} directories and {len(filenames)} images in '{dirpath}'.\")"
      ],
      "metadata": {
        "colab": {
          "base_uri": "https://localhost:8080/"
        },
        "id": "gH1j6mv_nkXD",
        "outputId": "44aabf59-37d2-4e39-f3a1-b729887edfe7"
      },
      "execution_count": null,
      "outputs": [
        {
          "output_type": "stream",
          "name": "stdout",
          "text": [
            "There are 94 directories and 0 images in 'aug'.\n",
            "There are 0 directories and 150 images in 'aug/077'.\n",
            "There are 0 directories and 150 images in 'aug/065'.\n",
            "There are 0 directories and 150 images in 'aug/086'.\n",
            "There are 0 directories and 150 images in 'aug/063'.\n",
            "There are 0 directories and 150 images in 'aug/054'.\n",
            "There are 0 directories and 150 images in 'aug/074'.\n",
            "There are 0 directories and 150 images in 'aug/018'.\n",
            "There are 0 directories and 150 images in 'aug/023'.\n",
            "There are 0 directories and 150 images in 'aug/034'.\n",
            "There are 0 directories and 150 images in 'aug/007'.\n",
            "There are 0 directories and 150 images in 'aug/035'.\n",
            "There are 0 directories and 150 images in 'aug/008'.\n",
            "There are 0 directories and 150 images in 'aug/009'.\n",
            "There are 0 directories and 150 images in 'aug/092'.\n",
            "There are 0 directories and 150 images in 'aug/059'.\n",
            "There are 0 directories and 150 images in 'aug/010'.\n",
            "There are 0 directories and 150 images in 'aug/031'.\n",
            "There are 0 directories and 150 images in 'aug/036'.\n",
            "There are 0 directories and 150 images in 'aug/073'.\n",
            "There are 0 directories and 150 images in 'aug/067'.\n",
            "There are 0 directories and 150 images in 'aug/005'.\n",
            "There are 0 directories and 150 images in 'aug/040'.\n",
            "There are 0 directories and 150 images in 'aug/043'.\n",
            "There are 0 directories and 150 images in 'aug/056'.\n",
            "There are 0 directories and 150 images in 'aug/062'.\n",
            "There are 0 directories and 150 images in 'aug/061'.\n",
            "There are 0 directories and 150 images in 'aug/039'.\n",
            "There are 0 directories and 150 images in 'aug/085'.\n",
            "There are 0 directories and 150 images in 'aug/001'.\n",
            "There are 0 directories and 150 images in 'aug/019'.\n",
            "There are 0 directories and 150 images in 'aug/041'.\n",
            "There are 0 directories and 150 images in 'aug/066'.\n",
            "There are 0 directories and 150 images in 'aug/015'.\n",
            "There are 0 directories and 150 images in 'aug/002'.\n",
            "There are 0 directories and 150 images in 'aug/072'.\n",
            "There are 0 directories and 150 images in 'aug/024'.\n",
            "There are 0 directories and 150 images in 'aug/006'.\n",
            "There are 0 directories and 150 images in 'aug/051'.\n",
            "There are 0 directories and 150 images in 'aug/016'.\n",
            "There are 0 directories and 150 images in 'aug/079'.\n",
            "There are 0 directories and 150 images in 'aug/082'.\n",
            "There are 0 directories and 150 images in 'aug/022'.\n",
            "There are 0 directories and 150 images in 'aug/088'.\n",
            "There are 0 directories and 150 images in 'aug/052'.\n",
            "There are 0 directories and 150 images in 'aug/013'.\n",
            "There are 0 directories and 150 images in 'aug/050'.\n",
            "There are 0 directories and 150 images in 'aug/037'.\n",
            "There are 0 directories and 150 images in 'aug/025'.\n",
            "There are 0 directories and 150 images in 'aug/027'.\n",
            "There are 0 directories and 150 images in 'aug/011'.\n",
            "There are 0 directories and 150 images in 'aug/003'.\n",
            "There are 0 directories and 150 images in 'aug/087'.\n",
            "There are 0 directories and 150 images in 'aug/020'.\n",
            "There are 0 directories and 150 images in 'aug/081'.\n",
            "There are 0 directories and 150 images in 'aug/091'.\n",
            "There are 0 directories and 150 images in 'aug/069'.\n",
            "There are 0 directories and 150 images in 'aug/028'.\n",
            "There are 0 directories and 150 images in 'aug/057'.\n",
            "There are 0 directories and 150 images in 'aug/071'.\n",
            "There are 0 directories and 150 images in 'aug/045'.\n",
            "There are 0 directories and 150 images in 'aug/060'.\n",
            "There are 0 directories and 150 images in 'aug/058'.\n",
            "There are 0 directories and 150 images in 'aug/075'.\n",
            "There are 0 directories and 150 images in 'aug/070'.\n",
            "There are 0 directories and 150 images in 'aug/089'.\n",
            "There are 0 directories and 150 images in 'aug/026'.\n",
            "There are 0 directories and 150 images in 'aug/029'.\n",
            "There are 0 directories and 150 images in 'aug/017'.\n",
            "There are 0 directories and 150 images in 'aug/084'.\n",
            "There are 0 directories and 150 images in 'aug/021'.\n",
            "There are 0 directories and 150 images in 'aug/083'.\n",
            "There are 0 directories and 150 images in 'aug/038'.\n",
            "There are 0 directories and 150 images in 'aug/042'.\n",
            "There are 0 directories and 150 images in 'aug/032'.\n",
            "There are 0 directories and 150 images in 'aug/076'.\n",
            "There are 0 directories and 150 images in 'aug/055'.\n",
            "There are 0 directories and 150 images in 'aug/090'.\n",
            "There are 0 directories and 150 images in 'aug/014'.\n",
            "There are 0 directories and 150 images in 'aug/053'.\n",
            "There are 0 directories and 150 images in 'aug/078'.\n",
            "There are 0 directories and 150 images in 'aug/080'.\n",
            "There are 0 directories and 150 images in 'aug/049'.\n",
            "There are 0 directories and 150 images in 'aug/044'.\n",
            "There are 0 directories and 150 images in 'aug/093'.\n",
            "There are 0 directories and 150 images in 'aug/046'.\n",
            "There are 0 directories and 150 images in 'aug/095'.\n",
            "There are 0 directories and 150 images in 'aug/064'.\n",
            "There are 0 directories and 150 images in 'aug/004'.\n",
            "There are 0 directories and 150 images in 'aug/048'.\n",
            "There are 0 directories and 150 images in 'aug/047'.\n",
            "There are 0 directories and 150 images in 'aug/033'.\n",
            "There are 0 directories and 150 images in 'aug/068'.\n",
            "There are 0 directories and 150 images in 'aug/012'.\n",
            "There are 0 directories and 150 images in 'aug/030'.\n"
          ]
        }
      ]
    },
    {
      "cell_type": "code",
      "execution_count": null,
      "metadata": {
        "colab": {
          "base_uri": "https://localhost:8080/"
        },
        "id": "D_WuBIGO9yZv",
        "outputId": "0c698d4d-9cc3-40cc-bd52-39e0c17f1a63"
      },
      "outputs": [
        {
          "name": "stdout",
          "output_type": "stream",
          "text": [
            "Found 8654 images belonging to 94 classes.\n",
            "Found 2009 images belonging to 94 classes.\n"
          ]
        }
      ],
      "source": [
        "train_datagen = ImageDataGenerator(rescale=1/255.)\n",
        "test_datagen = ImageDataGenerator(rescale=1/255.)\n",
        "\n",
        "train_data = train_datagen.flow_from_directory(train_dir,\n",
        "                                               target_size=(200, 200),\n",
        "                                               batch_size=16,\n",
        "                                               class_mode='categorical')\n",
        "\n",
        "test_data = train_datagen.flow_from_directory(test_dir,\n",
        "                                              target_size=(200, 200),\n",
        "                                              batch_size=16,\n",
        "                                              class_mode='categorical')"
      ]
    },
    {
      "cell_type": "code",
      "execution_count": null,
      "metadata": {
        "colab": {
          "base_uri": "https://localhost:8080/"
        },
        "id": "Gx-hQmKT98-8",
        "outputId": "85ebe7ae-5532-407b-8ab3-8758b9d12d23"
      },
      "outputs": [
        {
          "name": "stdout",
          "output_type": "stream",
          "text": [
            "Epoch 1/10\n",
            "541/541 [==============================] - 71s 100ms/step - loss: 4.2778 - accuracy: 0.1054 - val_loss: 4.0396 - val_accuracy: 0.1249\n",
            "Epoch 2/10\n",
            "541/541 [==============================] - 50s 93ms/step - loss: 3.7931 - accuracy: 0.1526 - val_loss: 3.8020 - val_accuracy: 0.1284\n",
            "Epoch 3/10\n",
            "541/541 [==============================] - 50s 93ms/step - loss: 2.9815 - accuracy: 0.2729 - val_loss: 3.9131 - val_accuracy: 0.1448\n",
            "Epoch 4/10\n",
            "541/541 [==============================] - 50s 93ms/step - loss: 1.7792 - accuracy: 0.5257 - val_loss: 4.7148 - val_accuracy: 0.1553\n",
            "Epoch 5/10\n",
            "541/541 [==============================] - 50s 93ms/step - loss: 0.8380 - accuracy: 0.7724 - val_loss: 6.3974 - val_accuracy: 0.1518\n",
            "Epoch 6/10\n",
            "541/541 [==============================] - 51s 94ms/step - loss: 0.3646 - accuracy: 0.9100 - val_loss: 8.4662 - val_accuracy: 0.1483\n",
            "Epoch 7/10\n",
            "541/541 [==============================] - 51s 95ms/step - loss: 0.2192 - accuracy: 0.9569 - val_loss: 7.5584 - val_accuracy: 0.1453\n",
            "Epoch 8/10\n",
            "541/541 [==============================] - 50s 93ms/step - loss: 0.1849 - accuracy: 0.9671 - val_loss: 8.4824 - val_accuracy: 0.1568\n",
            "Epoch 9/10\n",
            "541/541 [==============================] - 51s 95ms/step - loss: 0.1475 - accuracy: 0.9745 - val_loss: 9.1718 - val_accuracy: 0.1458\n",
            "Epoch 10/10\n",
            "541/541 [==============================] - 55s 102ms/step - loss: 0.1383 - accuracy: 0.9782 - val_loss: 8.0339 - val_accuracy: 0.1488\n"
          ]
        }
      ],
      "source": [
        "# Create a model\n",
        "model_3 = Sequential([\n",
        "    Conv2D(64,5,activation=\"relu\",input_shape=(200,200,3)),\n",
        "    Conv2D(64,5,activation=\"relu\"),\n",
        "    MaxPool2D(),\n",
        "    Conv2D(64,5,activation=\"relu\"),\n",
        "    Conv2D(64,5,activation=\"relu\"),\n",
        "    MaxPool2D(),\n",
        "    Flatten(),\n",
        "    Dense(94,activation = \"softmax\")\n",
        "])\n",
        "\n",
        "# Compile the model\n",
        "model_3.compile(loss=\"categorical_crossentropy\",\n",
        "                optimizer=tf.keras.optimizers.Adam(),\n",
        "                metrics=[\"accuracy\"])\n",
        "\n",
        "# Fit the model\n",
        "history_3 = model_3.fit(train_data,\n",
        "            epochs=10,\n",
        "            steps_per_epoch=len(train_data),\n",
        "            validation_data=test_data,\n",
        "            validation_steps=len(test_data))\n"
      ]
    },
    {
      "cell_type": "code",
      "execution_count": null,
      "metadata": {
        "colab": {
          "base_uri": "https://localhost:8080/"
        },
        "id": "EYMOrgFK-p9Z",
        "outputId": "71da2574-8eb1-4abb-d5d7-7afd228c502e"
      },
      "outputs": [
        {
          "name": "stdout",
          "output_type": "stream",
          "text": [
            "Epoch 1/10\n",
            "541/541 [==============================] - 41s 66ms/step - loss: 4.3016 - accuracy: 0.1019 - val_loss: 4.1506 - val_accuracy: 0.1135\n",
            "Epoch 2/10\n",
            "541/541 [==============================] - 33s 61ms/step - loss: 3.8776 - accuracy: 0.1196 - val_loss: 3.6293 - val_accuracy: 0.1369\n",
            "Epoch 3/10\n",
            "541/541 [==============================] - 34s 63ms/step - loss: 3.3958 - accuracy: 0.1609 - val_loss: 3.5292 - val_accuracy: 0.1434\n",
            "Epoch 4/10\n",
            "541/541 [==============================] - 38s 71ms/step - loss: 3.1452 - accuracy: 0.1979 - val_loss: 3.4254 - val_accuracy: 0.1598\n",
            "Epoch 5/10\n",
            "541/541 [==============================] - 33s 61ms/step - loss: 2.9377 - accuracy: 0.2320 - val_loss: 3.3945 - val_accuracy: 0.1583\n",
            "Epoch 6/10\n",
            "541/541 [==============================] - 34s 64ms/step - loss: 2.7527 - accuracy: 0.2646 - val_loss: 3.3489 - val_accuracy: 0.1672\n",
            "Epoch 7/10\n",
            "541/541 [==============================] - 33s 61ms/step - loss: 2.5896 - accuracy: 0.3016 - val_loss: 3.4639 - val_accuracy: 0.1588\n",
            "Epoch 8/10\n",
            "541/541 [==============================] - 31s 58ms/step - loss: 2.4528 - accuracy: 0.3266 - val_loss: 3.5120 - val_accuracy: 0.1528\n",
            "Epoch 9/10\n",
            "541/541 [==============================] - 32s 60ms/step - loss: 2.3057 - accuracy: 0.3578 - val_loss: 3.6189 - val_accuracy: 0.1682\n",
            "Epoch 10/10\n",
            "541/541 [==============================] - 31s 58ms/step - loss: 2.1755 - accuracy: 0.3875 - val_loss: 3.7321 - val_accuracy: 0.1682\n"
          ]
        }
      ],
      "source": [
        "# Create a model\n",
        "model_4 = Sequential([\n",
        "    Conv2D(64,5,activation=\"relu\",input_shape=(200,200,3)),\n",
        "    MaxPool2D(),\n",
        "    Conv2D(64,5,activation=\"relu\"),\n",
        "    MaxPool2D(),\n",
        "    Conv2D(64,5,activation=\"relu\"),\n",
        "    MaxPool2D(),\n",
        "    Conv2D(64,5,activation=\"relu\"),\n",
        "    MaxPool2D(),\n",
        "    Flatten(),\n",
        "    Dense(264,activation=\"relu\"),\n",
        "    Dense(94,activation = \"softmax\")\n",
        "])\n",
        "\n",
        "# Compile the model\n",
        "model_4.compile(loss=\"categorical_crossentropy\",\n",
        "                optimizer=tf.keras.optimizers.Adam(),\n",
        "                metrics=[\"accuracy\"])\n",
        "\n",
        "# Fit the model\n",
        "history_4 = model_4.fit(train_data,\n",
        "            epochs=10,\n",
        "            steps_per_epoch=len(train_data),\n",
        "            validation_data=test_data,\n",
        "            validation_steps=len(test_data))\n"
      ]
    },
    {
      "cell_type": "code",
      "execution_count": null,
      "metadata": {
        "colab": {
          "base_uri": "https://localhost:8080/",
          "height": 447
        },
        "id": "w_yHrVIhBV3y",
        "outputId": "e3257eb6-6282-41f9-faec-d797493a8ae2"
      },
      "outputs": [
        {
          "data": {
            "text/plain": [
              "<Axes: >"
            ]
          },
          "execution_count": 19,
          "metadata": {},
          "output_type": "execute_result"
        },
        {
          "data": {
            "image/png": "[encoded data removed]",
            "text/plain": [
              "<Figure size 640x480 with 1 Axes>"
            ]
          },
          "metadata": {},
          "output_type": "display_data"
        }
      ],
      "source": [
        "pd.DataFrame(history_4.history).plot()"
      ]
    },
    {
      "cell_type": "code",
      "execution_count": null,
      "metadata": {
        "colab": {
          "base_uri": "https://localhost:8080/"
        },
        "id": "_ij5O5P0C2WV",
        "outputId": "ca722789-4a3c-483c-983a-995b081ec414"
      },
      "outputs": [
        {
          "name": "stdout",
          "output_type": "stream",
          "text": [
            "Epoch 1/10\n",
            "541/541 [==============================] - 47s 75ms/step - loss: 4.1388 - accuracy: 0.1123 - val_loss: 3.8256 - val_accuracy: 0.1399\n",
            "Epoch 2/10\n",
            "541/541 [==============================] - 38s 70ms/step - loss: 3.2616 - accuracy: 0.2281 - val_loss: 3.6583 - val_accuracy: 0.1374\n",
            "Epoch 3/10\n",
            "541/541 [==============================] - 38s 70ms/step - loss: 2.3020 - accuracy: 0.4135 - val_loss: 4.2344 - val_accuracy: 0.1483\n",
            "Epoch 4/10\n",
            "541/541 [==============================] - 40s 74ms/step - loss: 1.2943 - accuracy: 0.6502 - val_loss: 4.9135 - val_accuracy: 0.1453\n",
            "Epoch 5/10\n",
            "541/541 [==============================] - 38s 70ms/step - loss: 0.5332 - accuracy: 0.8574 - val_loss: 6.1784 - val_accuracy: 0.1493\n",
            "Epoch 6/10\n",
            "541/541 [==============================] - 39s 73ms/step - loss: 0.2553 - accuracy: 0.9477 - val_loss: 8.0423 - val_accuracy: 0.1488\n",
            "Epoch 7/10\n",
            "541/541 [==============================] - 39s 71ms/step - loss: 0.1743 - accuracy: 0.9713 - val_loss: 8.3727 - val_accuracy: 0.1563\n",
            "Epoch 8/10\n",
            "541/541 [==============================] - 38s 70ms/step - loss: 0.1489 - accuracy: 0.9763 - val_loss: 8.3927 - val_accuracy: 0.1538\n",
            "Epoch 9/10\n",
            "541/541 [==============================] - 42s 78ms/step - loss: 0.1285 - accuracy: 0.9779 - val_loss: 9.3425 - val_accuracy: 0.1588\n",
            "Epoch 10/10\n",
            "541/541 [==============================] - 42s 78ms/step - loss: 0.1231 - accuracy: 0.9813 - val_loss: 7.7620 - val_accuracy: 0.1513\n"
          ]
        }
      ],
      "source": [
        "# Create a model\n",
        "model_3 = Sequential([\n",
        "    Conv2D(32,3,activation=\"relu\",input_shape=(200,200,3)),\n",
        "    Conv2D(32,3,activation=\"relu\"),\n",
        "    Conv2D(32,3,activation=\"relu\"),\n",
        "    MaxPool2D(),\n",
        "    Conv2D(64,5,activation=\"relu\"),\n",
        "    Conv2D(32,3,activation=\"relu\"),\n",
        "    Conv2D(32,3,activation=\"relu\"),\n",
        "    MaxPool2D(),\n",
        "    Flatten(),\n",
        "    Dense(94,activation = \"softmax\")\n",
        "])\n",
        "\n",
        "# Compile the model\n",
        "model_3.compile(loss=\"categorical_crossentropy\",\n",
        "                optimizer=tf.keras.optimizers.Adam(),\n",
        "                metrics=[\"accuracy\"])\n",
        "\n",
        "# Fit the model\n",
        "history_3 = model_3.fit(train_data,\n",
        "            epochs=10,\n",
        "            steps_per_epoch=len(train_data),\n",
        "            validation_data=test_data,\n",
        "            validation_steps=len(test_data))\n"
      ]
    },
    {
      "cell_type": "code",
      "execution_count": null,
      "metadata": {
        "colab": {
          "base_uri": "https://localhost:8080/"
        },
        "id": "cqHEzRwqDJLZ",
        "outputId": "7bfcfb2a-d165-42c9-98d2-0ccabe09f8b0"
      },
      "outputs": [
        {
          "name": "stdout",
          "output_type": "stream",
          "text": [
            "Found 8654 images belonging to 94 classes.\n",
            "Found 2009 images belonging to 94 classes.\n"
          ]
        }
      ],
      "source": [
        "train_datagen = ImageDataGenerator(rescale=1/255.)\n",
        "test_datagen = ImageDataGenerator(rescale=1/255.)\n",
        "\n",
        "train_data = train_datagen.flow_from_directory(train_dir,\n",
        "                                               target_size=(200, 200),\n",
        "                                               batch_size=32,\n",
        "                                               class_mode='categorical')\n",
        "\n",
        "test_data = train_datagen.flow_from_directory(test_dir,\n",
        "                                              target_size=(200, 200),\n",
        "                                              batch_size=32,\n",
        "                                              class_mode='categorical')"
      ]
    },
    {
      "cell_type": "code",
      "execution_count": null,
      "metadata": {
        "colab": {
          "base_uri": "https://localhost:8080/"
        },
        "id": "gs72uzT0E9S5",
        "outputId": "15adface-66ef-46fe-83fb-2fc3e68f1d61"
      },
      "outputs": [
        {
          "name": "stdout",
          "output_type": "stream",
          "text": [
            "Epoch 1/10\n",
            "271/271 [==============================] - 58s 186ms/step - loss: 4.2127 - accuracy: 0.1079 - val_loss: 3.9810 - val_accuracy: 0.1274\n",
            "Epoch 2/10\n",
            "271/271 [==============================] - 46s 169ms/step - loss: 3.6257 - accuracy: 0.1663 - val_loss: 3.7466 - val_accuracy: 0.1473\n",
            "Epoch 3/10\n",
            "271/271 [==============================] - 47s 171ms/step - loss: 3.0780 - accuracy: 0.2484 - val_loss: 3.7364 - val_accuracy: 0.1518\n",
            "Epoch 4/10\n",
            "271/271 [==============================] - 46s 169ms/step - loss: 2.2405 - accuracy: 0.4170 - val_loss: 4.1421 - val_accuracy: 0.1478\n",
            "Epoch 5/10\n",
            "271/271 [==============================] - 45s 167ms/step - loss: 1.3181 - accuracy: 0.6360 - val_loss: 5.4011 - val_accuracy: 0.1508\n",
            "Epoch 6/10\n",
            "271/271 [==============================] - 46s 168ms/step - loss: 0.6704 - accuracy: 0.8214 - val_loss: 7.0417 - val_accuracy: 0.1374\n",
            "Epoch 7/10\n",
            "271/271 [==============================] - 46s 171ms/step - loss: 0.3529 - accuracy: 0.9192 - val_loss: 9.0325 - val_accuracy: 0.1448\n",
            "Epoch 8/10\n",
            "271/271 [==============================] - 46s 169ms/step - loss: 0.2157 - accuracy: 0.9607 - val_loss: 8.8589 - val_accuracy: 0.1538\n",
            "Epoch 9/10\n",
            "271/271 [==============================] - 45s 166ms/step - loss: 0.1644 - accuracy: 0.9747 - val_loss: 8.9668 - val_accuracy: 0.1448\n",
            "Epoch 10/10\n",
            "271/271 [==============================] - 45s 167ms/step - loss: 0.1444 - accuracy: 0.9777 - val_loss: 9.4273 - val_accuracy: 0.1483\n"
          ]
        }
      ],
      "source": [
        "# Create a model\n",
        "model_5 = Sequential([\n",
        "    Conv2D(64,5,activation=\"relu\",input_shape=(200,200,3)),\n",
        "    Conv2D(64,5,activation=\"relu\"),\n",
        "    MaxPool2D(),\n",
        "    Conv2D(64,5,activation=\"relu\"),\n",
        "    Conv2D(64,5,activation=\"relu\"),\n",
        "    MaxPool2D(),\n",
        "    Flatten(),\n",
        "    Dense(94,activation = \"softmax\")\n",
        "])\n",
        "\n",
        "# Compile the model\n",
        "model_5.compile(loss=\"categorical_crossentropy\",\n",
        "                optimizer=tf.keras.optimizers.Adam(),\n",
        "                metrics=[\"accuracy\"])\n",
        "\n",
        "# Fit the model\n",
        "history_5 = model_5.fit(train_data,\n",
        "            epochs=10,\n",
        "            steps_per_epoch=len(train_data),\n",
        "            validation_data=test_data,\n",
        "            validation_steps=len(test_data))\n"
      ]
    },
    {
      "cell_type": "code",
      "execution_count": null,
      "metadata": {
        "colab": {
          "base_uri": "https://localhost:8080/"
        },
        "id": "41CPbKJaFG8N",
        "outputId": "099fa79f-e937-4aa3-f31b-0f2486dd91f4"
      },
      "outputs": [
        {
          "output_type": "stream",
          "name": "stdout",
          "text": [
            "Found 7746 files belonging to 94 classes.\n",
            "Found 2009 files belonging to 94 classes.\n"
          ]
        }
      ],
      "source": [
        "train_data=tf.keras.preprocessing.image_dataset_from_directory(\"train\",\n",
        "                                                               label_mode=\"categorical\",\n",
        "                                                               batch_size=16,\n",
        "                                                               image_size=(200,200))\n",
        "\n",
        "test_data = tf.keras.preprocessing.image_dataset_from_directory(\"test\",\n",
        "                                                               label_mode=\"categorical\",\n",
        "                                                               batch_size=16,\n",
        "                                                               image_size=(200,200))"
      ]
    },
    {
      "cell_type": "code",
      "execution_count": null,
      "metadata": {
        "colab": {
          "base_uri": "https://localhost:8080/"
        },
        "id": "_zkiA843yh50",
        "outputId": "2a14c9be-6686-4989-9b09-339de9efe720"
      },
      "outputs": [
        {
          "output_type": "execute_result",
          "data": {
            "text/plain": [
              "(485, 126)"
            ]
          },
          "metadata": {},
          "execution_count": 15
        }
      ],
      "source": [
        "len(train_data), len(test_data)"
      ]
    },
    {
      "cell_type": "code",
      "execution_count": null,
      "metadata": {
        "colab": {
          "base_uri": "https://localhost:8080/"
        },
        "id": "SU0bfqB_xdeh",
        "outputId": "a9ba5fee-5564-420d-a021-0e50cf2b387e"
      },
      "outputs": [
        {
          "name": "stdout",
          "output_type": "stream",
          "text": [
            "Epoch 1/5\n",
            "485/485 [==============================] - 38s 47ms/step - loss: 3.5070 - accuracy: 0.1677 - val_loss: 3.3666 - val_accuracy: 0.1842\n",
            "Epoch 2/5\n",
            "485/485 [==============================] - 22s 45ms/step - loss: 3.0909 - accuracy: 0.2115 - val_loss: 3.3287 - val_accuracy: 0.1862\n",
            "Epoch 3/5\n",
            "485/485 [==============================] - 22s 44ms/step - loss: 2.9088 - accuracy: 0.2386 - val_loss: 3.3033 - val_accuracy: 0.1906\n",
            "Epoch 4/5\n",
            "485/485 [==============================] - 22s 45ms/step - loss: 2.7703 - accuracy: 0.2645 - val_loss: 3.3047 - val_accuracy: 0.1862\n",
            "Epoch 5/5\n",
            "485/485 [==============================] - 25s 51ms/step - loss: 2.6541 - accuracy: 0.2900 - val_loss: 3.3074 - val_accuracy: 0.1882\n"
          ]
        }
      ],
      "source": [
        "base_model = tf.keras.applications.EfficientNetB0(include_top=False)\n",
        "base_model.trainable = False\n",
        "\n",
        "inputs = tf.keras.layers.Input(shape=(200,200,3))\n",
        "\n",
        "x = base_model(inputs)\n",
        "x = tf.keras.layers.GlobalAveragePooling2D()(x)\n",
        "outputs = tf.keras.layers.Dense(94,activation=\"softmax\")(x)\n",
        "model_0=tf.keras.Model(inputs,outputs)\n",
        "model_0.compile(loss=\"categorical_crossentropy\",\n",
        "                optimizer=tf.keras.optimizers.Adam(),\n",
        "                metrics=[\"accuracy\"])\n",
        "history_0 = model_0.fit(train_data,\n",
        "                        epochs=5,\n",
        "                        steps_per_epoch=len(train_data),\n",
        "                        validation_data=test_data,\n",
        "                        validation_steps=len(test_data))"
      ]
    },
    {
      "cell_type": "code",
      "execution_count": null,
      "metadata": {
        "id": "DYBPhJyEykyi"
      },
      "outputs": [],
      "source": [
        "data_augmentation = tf.keras.Sequential([\n",
        "  tf.keras.layers.RandomFlip(\"horizontal\"),\n",
        "  tf.keras.layers.RandomRotation(0.2),\n",
        "  tf.keras.layers.RandomZoom(0.2),\n",
        "  tf.keras.layers.RandomHeight(0.2),\n",
        "  tf.keras.layers.RandomWidth(0.2),\n",
        "  # preprocessing.Rescaling(1./255) # keep for ResNet50V2, remove for EfficientNet\n",
        "], name =\"data_augmentation\")"
      ]
    },
    {
      "cell_type": "code",
      "execution_count": null,
      "metadata": {
        "colab": {
          "background_save": true,
          "base_uri": "https://localhost:8080/"
        },
        "id": "-EMZdsMpzt4U",
        "outputId": "ee4a5b27-67e9-4c7e-e8ad-d6e3cf94abe8"
      },
      "outputs": [
        {
          "name": "stdout",
          "output_type": "stream",
          "text": [
            "Epoch 1/50\n",
            "485/485 [==============================] - 134s 260ms/step - loss: 3.6942 - accuracy: 0.1467 - val_loss: 3.5754 - val_accuracy: 0.1613\n",
            "Epoch 2/50\n",
            "485/485 [==============================] - 74s 153ms/step - loss: 3.3766 - accuracy: 0.1776 - val_loss: 3.4944 - val_accuracy: 0.1687\n",
            "Epoch 3/50\n",
            "485/485 [==============================] - 57s 117ms/step - loss: 3.2513 - accuracy: 0.1911 - val_loss: 3.4872 - val_accuracy: 0.1523\n",
            "Epoch 4/50\n",
            "485/485 [==============================] - 50s 102ms/step - loss: 3.1710 - accuracy: 0.1982 - val_loss: 3.4460 - val_accuracy: 0.1648\n",
            "Epoch 5/50\n",
            "485/485 [==============================] - 47s 96ms/step - loss: 3.1033 - accuracy: 0.2082 - val_loss: 3.4439 - val_accuracy: 0.1677\n",
            "Epoch 6/50\n",
            "485/485 [==============================] - 41s 84ms/step - loss: 3.0491 - accuracy: 0.2170 - val_loss: 3.4179 - val_accuracy: 0.1633\n",
            "Epoch 7/50\n",
            "485/485 [==============================] - 36s 74ms/step - loss: 3.0018 - accuracy: 0.2236 - val_loss: 3.4490 - val_accuracy: 0.1618\n",
            "Epoch 8/50\n",
            "485/485 [==============================] - 35s 72ms/step - loss: 2.9538 - accuracy: 0.2280 - val_loss: 3.4271 - val_accuracy: 0.1628\n",
            "Epoch 9/50\n",
            "485/485 [==============================] - 36s 74ms/step - loss: 2.9233 - accuracy: 0.2325 - val_loss: 3.4494 - val_accuracy: 0.1608\n",
            "Epoch 10/50\n",
            "485/485 [==============================] - 33s 68ms/step - loss: 2.8995 - accuracy: 0.2359 - val_loss: 3.4388 - val_accuracy: 0.1638\n",
            "Epoch 11/50\n",
            "485/485 [==============================] - 31s 63ms/step - loss: 2.8540 - accuracy: 0.2490 - val_loss: 3.4583 - val_accuracy: 0.1682\n",
            "Epoch 12/50\n",
            "485/485 [==============================] - 29s 60ms/step - loss: 2.8338 - accuracy: 0.2464 - val_loss: 3.4830 - val_accuracy: 0.1558\n",
            "Epoch 13/50\n",
            "485/485 [==============================] - 29s 60ms/step - loss: 2.8048 - accuracy: 0.2590 - val_loss: 3.4561 - val_accuracy: 0.1667\n",
            "Epoch 14/50\n",
            "485/485 [==============================] - 28s 58ms/step - loss: 2.7886 - accuracy: 0.2639 - val_loss: 3.4864 - val_accuracy: 0.1573\n",
            "Epoch 15/50\n",
            "485/485 [==============================] - 27s 56ms/step - loss: 2.7558 - accuracy: 0.2666 - val_loss: 3.4952 - val_accuracy: 0.1558\n",
            "Epoch 16/50\n",
            "485/485 [==============================] - 27s 56ms/step - loss: 2.7380 - accuracy: 0.2745 - val_loss: 3.5241 - val_accuracy: 0.1553\n",
            "Epoch 17/50\n",
            "485/485 [==============================] - 27s 55ms/step - loss: 2.7202 - accuracy: 0.2770 - val_loss: 3.4919 - val_accuracy: 0.1638\n",
            "Epoch 18/50\n",
            "485/485 [==============================] - 26s 54ms/step - loss: 2.7016 - accuracy: 0.2853 - val_loss: 3.4765 - val_accuracy: 0.1672\n",
            "Epoch 19/50\n",
            "485/485 [==============================] - 25s 52ms/step - loss: 2.6851 - accuracy: 0.2774 - val_loss: 3.4931 - val_accuracy: 0.1638\n",
            "Epoch 20/50\n",
            "485/485 [==============================] - 27s 55ms/step - loss: 2.6676 - accuracy: 0.2902 - val_loss: 3.5064 - val_accuracy: 0.1653\n",
            "Epoch 21/50\n",
            "485/485 [==============================] - 27s 55ms/step - loss: 2.6724 - accuracy: 0.2853 - val_loss: 3.4780 - val_accuracy: 0.1608\n",
            "Epoch 22/50\n",
            "485/485 [==============================] - 26s 53ms/step - loss: 2.6277 - accuracy: 0.2929 - val_loss: 3.4778 - val_accuracy: 0.1677\n",
            "Epoch 23/50\n",
            "485/485 [==============================] - 25s 52ms/step - loss: 2.6268 - accuracy: 0.2955 - val_loss: 3.4544 - val_accuracy: 0.1638\n",
            "Epoch 24/50\n",
            "485/485 [==============================] - 25s 51ms/step - loss: 2.6058 - accuracy: 0.3027 - val_loss: 3.5006 - val_accuracy: 0.1583\n",
            "Epoch 25/50\n",
            "485/485 [==============================] - 25s 52ms/step - loss: 2.5881 - accuracy: 0.3049 - val_loss: 3.5170 - val_accuracy: 0.1643\n",
            "Epoch 26/50\n",
            "485/485 [==============================] - 24s 50ms/step - loss: 2.5853 - accuracy: 0.2983 - val_loss: 3.5020 - val_accuracy: 0.1648\n",
            "Epoch 27/50\n",
            "485/485 [==============================] - 24s 49ms/step - loss: 2.5524 - accuracy: 0.3067 - val_loss: 3.5018 - val_accuracy: 0.1618\n",
            "Epoch 28/50\n",
            "485/485 [==============================] - 25s 50ms/step - loss: 2.5652 - accuracy: 0.3027 - val_loss: 3.5390 - val_accuracy: 0.1558\n",
            "Epoch 29/50\n",
            "485/485 [==============================] - 23s 47ms/step - loss: 2.5389 - accuracy: 0.3102 - val_loss: 3.5188 - val_accuracy: 0.1648\n",
            "Epoch 30/50\n",
            "485/485 [==============================] - 24s 49ms/step - loss: 2.5181 - accuracy: 0.3150 - val_loss: 3.5257 - val_accuracy: 0.1638\n",
            "Epoch 31/50\n",
            "485/485 [==============================] - 25s 51ms/step - loss: 2.5192 - accuracy: 0.3212 - val_loss: 3.5321 - val_accuracy: 0.1687\n",
            "Epoch 32/50\n",
            "485/485 [==============================] - 23s 47ms/step - loss: 2.5114 - accuracy: 0.3147 - val_loss: 3.5357 - val_accuracy: 0.1672\n",
            "Epoch 33/50\n",
            "485/485 [==============================] - 23s 47ms/step - loss: 2.4760 - accuracy: 0.3269 - val_loss: 3.5070 - val_accuracy: 0.1667\n",
            "Epoch 34/50\n",
            "485/485 [==============================] - 23s 48ms/step - loss: 2.4573 - accuracy: 0.3332 - val_loss: 3.5267 - val_accuracy: 0.1663\n",
            "Epoch 35/50\n",
            "485/485 [==============================] - 23s 48ms/step - loss: 2.4882 - accuracy: 0.3225 - val_loss: 3.5393 - val_accuracy: 0.1692\n",
            "Epoch 36/50\n",
            "485/485 [==============================] - 22s 45ms/step - loss: 2.4822 - accuracy: 0.3190 - val_loss: 3.5437 - val_accuracy: 0.1677\n",
            "Epoch 37/50\n",
            "485/485 [==============================] - 23s 46ms/step - loss: 2.4540 - accuracy: 0.3324 - val_loss: 3.5190 - val_accuracy: 0.1663\n",
            "Epoch 38/50\n",
            "485/485 [==============================] - 22s 45ms/step - loss: 2.4502 - accuracy: 0.3310 - val_loss: 3.5375 - val_accuracy: 0.1672\n",
            "Epoch 39/50\n",
            "485/485 [==============================] - 22s 44ms/step - loss: 2.4411 - accuracy: 0.3351 - val_loss: 3.5503 - val_accuracy: 0.1687\n",
            "Epoch 40/50\n",
            "485/485 [==============================] - 23s 47ms/step - loss: 2.4337 - accuracy: 0.3336 - val_loss: 3.5386 - val_accuracy: 0.1682\n",
            "Epoch 41/50\n",
            "485/485 [==============================] - 21s 44ms/step - loss: 2.4228 - accuracy: 0.3376 - val_loss: 3.5414 - val_accuracy: 0.1672\n",
            "Epoch 42/50\n",
            "485/485 [==============================] - 23s 47ms/step - loss: 2.4219 - accuracy: 0.3420 - val_loss: 3.5548 - val_accuracy: 0.1598\n",
            "Epoch 43/50\n",
            "485/485 [==============================] - 22s 45ms/step - loss: 2.4146 - accuracy: 0.3395 - val_loss: 3.5364 - val_accuracy: 0.1578\n",
            "Epoch 44/50\n",
            "485/485 [==============================] - 22s 44ms/step - loss: 2.3891 - accuracy: 0.3471 - val_loss: 3.5815 - val_accuracy: 0.1658\n",
            "Epoch 45/50\n",
            "485/485 [==============================] - 23s 47ms/step - loss: 2.3893 - accuracy: 0.3461 - val_loss: 3.5469 - val_accuracy: 0.1677\n",
            "Epoch 46/50\n",
            "485/485 [==============================] - 21s 44ms/step - loss: 2.3885 - accuracy: 0.3536 - val_loss: 3.5648 - val_accuracy: 0.1663\n",
            "Epoch 47/50\n",
            "485/485 [==============================] - 22s 46ms/step - loss: 2.3885 - accuracy: 0.3461 - val_loss: 3.5852 - val_accuracy: 0.1603\n",
            "Epoch 48/50\n",
            "485/485 [==============================] - 23s 48ms/step - loss: 2.3744 - accuracy: 0.3497 - val_loss: 3.5867 - val_accuracy: 0.1603\n",
            "Epoch 49/50\n",
            "485/485 [==============================] - 22s 44ms/step - loss: 2.3758 - accuracy: 0.3495 - val_loss: 3.5773 - val_accuracy: 0.1677\n",
            "Epoch 50/50\n",
            "485/485 [==============================] - 23s 46ms/step - loss: 2.3731 - accuracy: 0.3495 - val_loss: 3.5526 - val_accuracy: 0.1658\n"
          ]
        }
      ],
      "source": [
        "# Setup input shape and base model, freezing the base model layers\n",
        "input_shape = (200, 200, 3)\n",
        "base_model = tf.keras.applications.efficientnet_v2.EfficientNetV2B0(include_top=False)\n",
        "base_model.trainable = False\n",
        "\n",
        "# Create input layer\n",
        "inputs = tf.keras.layers.Input(shape=input_shape, name=\"input_layer\")\n",
        "\n",
        "# Add in data augmentation Sequential model as a layer\n",
        "x = data_augmentation(inputs)\n",
        "\n",
        "# Give base_model inputs (after augmentation) and don't train it\n",
        "x = base_model(x, training=False)\n",
        "\n",
        "# Pool output features of base model\n",
        "x = tf.keras.layers.GlobalAveragePooling2D(name=\"global_average_pooling_layer\")(x)\n",
        "\n",
        "# Put a dense layer on as the output\n",
        "outputs = tf.keras.layers.Dense(94, activation=\"softmax\", name=\"output_layer\")(x)\n",
        "\n",
        "# Make a model with inputs and outputs\n",
        "model_1 = tf.keras.Model(inputs, outputs)\n",
        "\n",
        "# Compile the model\n",
        "model_1.compile(loss=\"categorical_crossentropy\",\n",
        "              optimizer=tf.keras.optimizers.Adam(),\n",
        "              metrics=[\"accuracy\"])\n",
        "\n",
        "history_1_percent = model_1.fit(train_data,\n",
        "                    epochs=50,\n",
        "                    steps_per_epoch=len(train_data),\n",
        "                    validation_data=test_data,\n",
        "                    validation_steps= len(test_data))"
      ]
    },
    {
      "cell_type": "code",
      "execution_count": null,
      "metadata": {
        "id": "WI0ZQoaI0bWd",
        "colab": {
          "base_uri": "https://localhost:8080/"
        },
        "outputId": "5d5d6cb0-1875-4715-c221-7d0f0a88b954"
      },
      "outputs": [
        {
          "output_type": "stream",
          "name": "stdout",
          "text": [
            "Found 14100 files belonging to 94 classes.\n",
            "Found 2009 files belonging to 94 classes.\n"
          ]
        }
      ],
      "source": [
        "train_dataset = tf.keras.preprocessing.image_dataset_from_directory(\"aug\",\n",
        "                                                                    label_mode=\"categorical\",\n",
        "                                                                    batch_size=16,\n",
        "                                                                    image_size=(200,200))\n",
        "test_dataset = tf.keras.preprocessing.image_dataset_from_directory(\"test\",\n",
        "                                                                   label_mode=\"categorical\",\n",
        "                                                                   batch_size=16,\n",
        "                                                                   image_size=(200,200))\n"
      ]
    },
    {
      "cell_type": "code",
      "source": [
        "data_augmentation = tf.keras.models.Sequential([\n",
        "    tf.keras.layers.RandomFlip(\"horizontal\"),\n",
        "    tf.keras.layers.RandomRotation(0.2),\n",
        "    tf.keras.layers.RandomHeight(0.2),\n",
        "    tf.keras.layers.RandomWidth(0.2),\n",
        "    tf.keras.layers.RandomZoom(0.1)\n",
        "], name=\"data_augmentation\")"
      ],
      "metadata": {
        "id": "hv8XQbjnzF0e"
      },
      "execution_count": null,
      "outputs": []
    },
    {
      "cell_type": "code",
      "source": [
        "base_model = tf.keras.applications.efficientnet.EfficientNetB0(include_top=False)\n",
        "base_model.trainable = False\n",
        "\n",
        "inputs = tf.keras.layers.Input(shape=(200,200,3),name=\"input_layer\")\n",
        "x = data_augmentation(inputs)\n",
        "x = base_model(x, training = False)\n",
        "x = tf.keras.layers.GlobalAveragePooling2D(name=\"global_average_pooling_2D\")(x)\n",
        "outputs = tf.keras.layers.Dense(94,activation = \"softmax\",name=\"output_layer\")(x)\n",
        "model = tf.keras.Model(inputs,outputs)"
      ],
      "metadata": {
        "colab": {
          "base_uri": "https://localhost:8080/"
        },
        "id": "Ooak4qzBzcdq",
        "outputId": "2808b0a8-308e-4c53-a615-a278ddcbcb4b"
      },
      "execution_count": null,
      "outputs": [
        {
          "output_type": "stream",
          "name": "stdout",
          "text": [
            "Downloading data from https://storage.googleapis.com/keras-applications/efficientnetb0_notop.h5\n",
            "16705208/16705208 [==============================] - 0s 0us/step\n"
          ]
        }
      ]
    },
    {
      "cell_type": "code",
      "source": [
        "model.compile(loss=\"categorical_crossentropy\",\n",
        "              optimizer=tf.keras.optimizers.Adam(),\n",
        "              metrics=[\"accuracy\"])\n",
        "\n",
        "checkpoint_path = \"age_detection_checkpoint\"\n",
        "model_checkpoint = tf.keras.callbacks.ModelCheckpoint(checkpoint_path,\n",
        "                                                      save_weights_only = True,\n",
        "                                                      monitor = \"val_accuracy\",\n",
        "                                                      save_best_only=True)"
      ],
      "metadata": {
        "id": "wThcdQ0z0TwO"
      },
      "execution_count": null,
      "outputs": []
    },
    {
      "cell_type": "code",
      "source": [
        "history_tl = model.fit(train_dataset,\n",
        "                       epochs=5,\n",
        "                       validation_data=test_dataset,\n",
        "                       validation_steps=len(test_dataset),\n",
        "                       callbacks=[model_checkpoint])"
      ],
      "metadata": {
        "colab": {
          "base_uri": "https://localhost:8080/"
        },
        "id": "X2PTddSo1JtB",
        "outputId": "93be25c7-6a89-4297-d3f8-41b196106cc4"
      },
      "execution_count": null,
      "outputs": [
        {
          "output_type": "stream",
          "name": "stdout",
          "text": [
            "Epoch 1/5\n",
            "882/882 [==============================] - 184s 199ms/step - loss: 3.9233 - accuracy: 0.1115 - val_loss: 3.8370 - val_accuracy: 0.0886\n",
            "Epoch 2/5\n",
            "882/882 [==============================] - 98s 111ms/step - loss: 3.4340 - accuracy: 0.1838 - val_loss: 3.8185 - val_accuracy: 0.0921\n",
            "Epoch 3/5\n",
            "882/882 [==============================] - 96s 109ms/step - loss: 3.2176 - accuracy: 0.2272 - val_loss: 3.8492 - val_accuracy: 0.0886\n",
            "Epoch 4/5\n",
            "882/882 [==============================] - 70s 79ms/step - loss: 3.0681 - accuracy: 0.2599 - val_loss: 3.7941 - val_accuracy: 0.1000\n",
            "Epoch 5/5\n",
            "882/882 [==============================] - 64s 72ms/step - loss: 2.9599 - accuracy: 0.2843 - val_loss: 3.7959 - val_accuracy: 0.1100\n"
          ]
        }
      ]
    },
    {
      "cell_type": "code",
      "source": [
        "!wget https://raw.githubusercontent.com/swayambhu2104/Neural_Networks_With_TensorFlow/main/extra/helper_functions.py"
      ],
      "metadata": {
        "colab": {
          "base_uri": "https://localhost:8080/"
        },
        "id": "KHE32LTx1bLp",
        "outputId": "9ce8f5b1-a47d-40bf-fece-20786a4db465"
      },
      "execution_count": null,
      "outputs": [
        {
          "output_type": "stream",
          "name": "stdout",
          "text": [
            "--2023-10-01 11:03:28--  https://raw.githubusercontent.com/swayambhu2104/Neural_Networks_With_TensorFlow/main/extra/helper_functions.py\n",
            "Resolving raw.githubusercontent.com (raw.githubusercontent.com)... 185.199.108.133, 185.199.109.133, 185.199.110.133, ...\n",
            "Connecting to raw.githubusercontent.com (raw.githubusercontent.com)|185.199.108.133|:443... connected.\n",
            "HTTP request sent, awaiting response... 200 OK\n",
            "Length: 10127 (9.9K) [text/plain]\n",
            "Saving to: ‘helper_functions.py’\n",
            "\n",
            "\rhelper_functions.py   0%[                    ]       0  --.-KB/s               \rhelper_functions.py 100%[===================>]   9.89K  --.-KB/s    in 0s      \n",
            "\n",
            "2023-10-01 11:03:28 (114 MB/s) - ‘helper_functions.py’ saved [10127/10127]\n",
            "\n"
          ]
        }
      ]
    },
    {
      "cell_type": "code",
      "source": [
        "# Import series of helper functions for the notebook (we've created/used these in previous notebooks)\n",
        "from helper_functions import create_tensorboard_callback, plot_loss_curves, unzip_data, compare_historys, walk_through_dir\n"
      ],
      "metadata": {
        "id": "OAALqUdx2dQy"
      },
      "execution_count": null,
      "outputs": []
    },
    {
      "cell_type": "code",
      "source": [
        "plot_loss_curves(history_tl)"
      ],
      "metadata": {
        "colab": {
          "base_uri": "https://localhost:8080/",
          "height": 927
        },
        "id": "zzOFPKYP2kkc",
        "outputId": "12581652-9d7d-4c3b-bbde-bbd9203c4365"
      },
      "execution_count": null,
      "outputs": [
        {
          "output_type": "display_data",
          "data": {
            "text/plain": [
              "<Figure size 640x480 with 1 Axes>"
            ],
            "image/png": "[encoded data removed]"
          },
          "metadata": {}
        },
        {
          "output_type": "display_data",
          "data": {
            "text/plain": [
              "<Figure size 640x480 with 1 Axes>"
            ],
            "image/png": "[encoded data removed]"
          },
          "metadata": {}
        }
      ]
    },
    {
      "cell_type": "code",
      "source": [
        "base_model.trainable = True\n",
        "for layer in base_model.layers[:-10]:\n",
        "  layer.trainable=False"
      ],
      "metadata": {
        "id": "UnvYl2BC2sZa"
      },
      "execution_count": null,
      "outputs": []
    },
    {
      "cell_type": "code",
      "source": [],
      "metadata": {
        "id": "XgJBAGVl3ISd"
      },
      "execution_count": null,
      "outputs": []
    },
    {
      "cell_type": "code",
      "source": [
        "model.compile(loss=\"categorical_crossentropy\",\n",
        "              optimizer=tf.keras.optimizers.Adam(learning_rate=0.0001),\n",
        "              metrics=[\"accuracy\"])"
      ],
      "metadata": {
        "id": "98mrCYyb23FR"
      },
      "execution_count": null,
      "outputs": []
    },
    {
      "cell_type": "code",
      "source": [
        "# What layers in the model are trainable?\n",
        "for layer in model.layers:\n",
        "  print(layer.name, layer.trainable)"
      ],
      "metadata": {
        "colab": {
          "base_uri": "https://localhost:8080/"
        },
        "id": "HFaZ3XK33EL8",
        "outputId": "0ffde9fd-bf6c-4542-fbea-23e46bf8f108"
      },
      "execution_count": null,
      "outputs": [
        {
          "output_type": "stream",
          "name": "stdout",
          "text": [
            "input_layer True\n",
            "data_augmentation True\n",
            "efficientnetb0 True\n",
            "global_average_pooling_2D True\n",
            "output_layer True\n"
          ]
        }
      ]
    },
    {
      "cell_type": "code",
      "source": [
        "for layer_number, layer in enumerate(base_model.layers):\n",
        "  print(layer_number, layer.name, layer.trainable)"
      ],
      "metadata": {
        "colab": {
          "base_uri": "https://localhost:8080/"
        },
        "id": "7RZG6GgD3QuC",
        "outputId": "2b370acc-e74f-4c14-f4a7-2735679cf4a8"
      },
      "execution_count": null,
      "outputs": [
        {
          "output_type": "stream",
          "name": "stdout",
          "text": [
            "0 input_1 False\n",
            "1 rescaling False\n",
            "2 normalization False\n",
            "3 rescaling_1 False\n",
            "4 stem_conv_pad False\n",
            "5 stem_conv False\n",
            "6 stem_bn False\n",
            "7 stem_activation False\n",
            "8 block1a_dwconv False\n",
            "9 block1a_bn False\n",
            "10 block1a_activation False\n",
            "11 block1a_se_squeeze False\n",
            "12 block1a_se_reshape False\n",
            "13 block1a_se_reduce False\n",
            "14 block1a_se_expand False\n",
            "15 block1a_se_excite False\n",
            "16 block1a_project_conv False\n",
            "17 block1a_project_bn False\n",
            "18 block2a_expand_conv False\n",
            "19 block2a_expand_bn False\n",
            "20 block2a_expand_activation False\n",
            "21 block2a_dwconv_pad False\n",
            "22 block2a_dwconv False\n",
            "23 block2a_bn False\n",
            "24 block2a_activation False\n",
            "25 block2a_se_squeeze False\n",
            "26 block2a_se_reshape False\n",
            "27 block2a_se_reduce False\n",
            "28 block2a_se_expand False\n",
            "29 block2a_se_excite False\n",
            "30 block2a_project_conv False\n",
            "31 block2a_project_bn False\n",
            "32 block2b_expand_conv False\n",
            "33 block2b_expand_bn False\n",
            "34 block2b_expand_activation False\n",
            "35 block2b_dwconv False\n",
            "36 block2b_bn False\n",
            "37 block2b_activation False\n",
            "38 block2b_se_squeeze False\n",
            "39 block2b_se_reshape False\n",
            "40 block2b_se_reduce False\n",
            "41 block2b_se_expand False\n",
            "42 block2b_se_excite False\n",
            "43 block2b_project_conv False\n",
            "44 block2b_project_bn False\n",
            "45 block2b_drop False\n",
            "46 block2b_add False\n",
            "47 block3a_expand_conv False\n",
            "48 block3a_expand_bn False\n",
            "49 block3a_expand_activation False\n",
            "50 block3a_dwconv_pad False\n",
            "51 block3a_dwconv False\n",
            "52 block3a_bn False\n",
            "53 block3a_activation False\n",
            "54 block3a_se_squeeze False\n",
            "55 block3a_se_reshape False\n",
            "56 block3a_se_reduce False\n",
            "57 block3a_se_expand False\n",
            "58 block3a_se_excite False\n",
            "59 block3a_project_conv False\n",
            "60 block3a_project_bn False\n",
            "61 block3b_expand_conv False\n",
            "62 block3b_expand_bn False\n",
            "63 block3b_expand_activation False\n",
            "64 block3b_dwconv False\n",
            "65 block3b_bn False\n",
            "66 block3b_activation False\n",
            "67 block3b_se_squeeze False\n",
            "68 block3b_se_reshape False\n",
            "69 block3b_se_reduce False\n",
            "70 block3b_se_expand False\n",
            "71 block3b_se_excite False\n",
            "72 block3b_project_conv False\n",
            "73 block3b_project_bn False\n",
            "74 block3b_drop False\n",
            "75 block3b_add False\n",
            "76 block4a_expand_conv False\n",
            "77 block4a_expand_bn False\n",
            "78 block4a_expand_activation False\n",
            "79 block4a_dwconv_pad False\n",
            "80 block4a_dwconv False\n",
            "81 block4a_bn False\n",
            "82 block4a_activation False\n",
            "83 block4a_se_squeeze False\n",
            "84 block4a_se_reshape False\n",
            "85 block4a_se_reduce False\n",
            "86 block4a_se_expand False\n",
            "87 block4a_se_excite False\n",
            "88 block4a_project_conv False\n",
            "89 block4a_project_bn False\n",
            "90 block4b_expand_conv False\n",
            "91 block4b_expand_bn False\n",
            "92 block4b_expand_activation False\n",
            "93 block4b_dwconv False\n",
            "94 block4b_bn False\n",
            "95 block4b_activation False\n",
            "96 block4b_se_squeeze False\n",
            "97 block4b_se_reshape False\n",
            "98 block4b_se_reduce False\n",
            "99 block4b_se_expand False\n",
            "100 block4b_se_excite False\n",
            "101 block4b_project_conv False\n",
            "102 block4b_project_bn False\n",
            "103 block4b_drop False\n",
            "104 block4b_add False\n",
            "105 block4c_expand_conv False\n",
            "106 block4c_expand_bn False\n",
            "107 block4c_expand_activation False\n",
            "108 block4c_dwconv False\n",
            "109 block4c_bn False\n",
            "110 block4c_activation False\n",
            "111 block4c_se_squeeze False\n",
            "112 block4c_se_reshape False\n",
            "113 block4c_se_reduce False\n",
            "114 block4c_se_expand False\n",
            "115 block4c_se_excite False\n",
            "116 block4c_project_conv False\n",
            "117 block4c_project_bn False\n",
            "118 block4c_drop False\n",
            "119 block4c_add False\n",
            "120 block5a_expand_conv False\n",
            "121 block5a_expand_bn False\n",
            "122 block5a_expand_activation False\n",
            "123 block5a_dwconv False\n",
            "124 block5a_bn False\n",
            "125 block5a_activation False\n",
            "126 block5a_se_squeeze False\n",
            "127 block5a_se_reshape False\n",
            "128 block5a_se_reduce False\n",
            "129 block5a_se_expand False\n",
            "130 block5a_se_excite False\n",
            "131 block5a_project_conv False\n",
            "132 block5a_project_bn False\n",
            "133 block5b_expand_conv False\n",
            "134 block5b_expand_bn False\n",
            "135 block5b_expand_activation False\n",
            "136 block5b_dwconv False\n",
            "137 block5b_bn False\n",
            "138 block5b_activation False\n",
            "139 block5b_se_squeeze False\n",
            "140 block5b_se_reshape False\n",
            "141 block5b_se_reduce False\n",
            "142 block5b_se_expand False\n",
            "143 block5b_se_excite False\n",
            "144 block5b_project_conv False\n",
            "145 block5b_project_bn False\n",
            "146 block5b_drop False\n",
            "147 block5b_add False\n",
            "148 block5c_expand_conv False\n",
            "149 block5c_expand_bn False\n",
            "150 block5c_expand_activation False\n",
            "151 block5c_dwconv False\n",
            "152 block5c_bn False\n",
            "153 block5c_activation False\n",
            "154 block5c_se_squeeze False\n",
            "155 block5c_se_reshape False\n",
            "156 block5c_se_reduce False\n",
            "157 block5c_se_expand False\n",
            "158 block5c_se_excite False\n",
            "159 block5c_project_conv False\n",
            "160 block5c_project_bn False\n",
            "161 block5c_drop False\n",
            "162 block5c_add False\n",
            "163 block6a_expand_conv False\n",
            "164 block6a_expand_bn False\n",
            "165 block6a_expand_activation False\n",
            "166 block6a_dwconv_pad False\n",
            "167 block6a_dwconv False\n",
            "168 block6a_bn False\n",
            "169 block6a_activation False\n",
            "170 block6a_se_squeeze False\n",
            "171 block6a_se_reshape False\n",
            "172 block6a_se_reduce False\n",
            "173 block6a_se_expand False\n",
            "174 block6a_se_excite False\n",
            "175 block6a_project_conv False\n",
            "176 block6a_project_bn False\n",
            "177 block6b_expand_conv False\n",
            "178 block6b_expand_bn False\n",
            "179 block6b_expand_activation False\n",
            "180 block6b_dwconv False\n",
            "181 block6b_bn False\n",
            "182 block6b_activation False\n",
            "183 block6b_se_squeeze False\n",
            "184 block6b_se_reshape False\n",
            "185 block6b_se_reduce False\n",
            "186 block6b_se_expand False\n",
            "187 block6b_se_excite False\n",
            "188 block6b_project_conv False\n",
            "189 block6b_project_bn False\n",
            "190 block6b_drop False\n",
            "191 block6b_add False\n",
            "192 block6c_expand_conv False\n",
            "193 block6c_expand_bn False\n",
            "194 block6c_expand_activation False\n",
            "195 block6c_dwconv False\n",
            "196 block6c_bn False\n",
            "197 block6c_activation False\n",
            "198 block6c_se_squeeze False\n",
            "199 block6c_se_reshape False\n",
            "200 block6c_se_reduce False\n",
            "201 block6c_se_expand False\n",
            "202 block6c_se_excite False\n",
            "203 block6c_project_conv False\n",
            "204 block6c_project_bn False\n",
            "205 block6c_drop False\n",
            "206 block6c_add False\n",
            "207 block6d_expand_conv False\n",
            "208 block6d_expand_bn False\n",
            "209 block6d_expand_activation False\n",
            "210 block6d_dwconv False\n",
            "211 block6d_bn False\n",
            "212 block6d_activation False\n",
            "213 block6d_se_squeeze False\n",
            "214 block6d_se_reshape False\n",
            "215 block6d_se_reduce False\n",
            "216 block6d_se_expand False\n",
            "217 block6d_se_excite False\n",
            "218 block6d_project_conv False\n",
            "219 block6d_project_bn False\n",
            "220 block6d_drop False\n",
            "221 block6d_add False\n",
            "222 block7a_expand_conv False\n",
            "223 block7a_expand_bn False\n",
            "224 block7a_expand_activation False\n",
            "225 block7a_dwconv False\n",
            "226 block7a_bn False\n",
            "227 block7a_activation False\n",
            "228 block7a_se_squeeze True\n",
            "229 block7a_se_reshape True\n",
            "230 block7a_se_reduce True\n",
            "231 block7a_se_expand True\n",
            "232 block7a_se_excite True\n",
            "233 block7a_project_conv True\n",
            "234 block7a_project_bn True\n",
            "235 top_conv True\n",
            "236 top_bn True\n",
            "237 top_activation True\n"
          ]
        }
      ]
    },
    {
      "cell_type": "code",
      "source": [
        "fine_tune_epochs = 10\n",
        "history_fine_tune = model.fit(train_dataset,\n",
        "                              epochs=fine_tune_epochs,\n",
        "                              validation_data=test_dataset,\n",
        "                              validation_steps=int(0.25*len(test_dataset)),\n",
        "                              initial_epoch=history_tl.epoch[-1])"
      ],
      "metadata": {
        "colab": {
          "base_uri": "https://localhost:8080/"
        },
        "id": "CcXin7YL3RTn",
        "outputId": "ffe2e1c9-1f27-403a-b7dd-b979d27f9e3c"
      },
      "execution_count": null,
      "outputs": [
        {
          "output_type": "stream",
          "name": "stdout",
          "text": [
            "Epoch 5/10\n",
            "882/882 [==============================] - 88s 81ms/step - loss: 2.6740 - accuracy: 0.3386 - val_loss: 4.0418 - val_accuracy: 0.1169\n",
            "Epoch 6/10\n",
            "882/882 [==============================] - 53s 60ms/step - loss: 2.4896 - accuracy: 0.3807 - val_loss: 3.9772 - val_accuracy: 0.1169\n",
            "Epoch 7/10\n",
            "882/882 [==============================] - 51s 57ms/step - loss: 2.3581 - accuracy: 0.4040 - val_loss: 3.9652 - val_accuracy: 0.0968\n",
            "Epoch 8/10\n",
            "882/882 [==============================] - 48s 54ms/step - loss: 2.2447 - accuracy: 0.4291 - val_loss: 4.0048 - val_accuracy: 0.1028\n",
            "Epoch 9/10\n",
            "882/882 [==============================] - 46s 52ms/step - loss: 2.1407 - accuracy: 0.4557 - val_loss: 3.9706 - val_accuracy: 0.1008\n",
            "Epoch 10/10\n",
            "882/882 [==============================] - 44s 50ms/step - loss: 2.0607 - accuracy: 0.4779 - val_loss: 4.0256 - val_accuracy: 0.1290\n"
          ]
        }
      ]
    },
    {
      "cell_type": "code",
      "source": [
        "compare_historys(history_tl,\n",
        "                 history_fine_tune,\n",
        "                 initial_epochs=5)"
      ],
      "metadata": {
        "colab": {
          "base_uri": "https://localhost:8080/",
          "height": 718
        },
        "id": "vhU3G0AA3n48",
        "outputId": "51bb71b6-1b11-4a2c-864c-3921600f0eec"
      },
      "execution_count": null,
      "outputs": [
        {
          "output_type": "display_data",
          "data": {
            "text/plain": [
              "<Figure size 800x800 with 2 Axes>"
            ],
            "image/png": "[encoded data removed]"
          },
          "metadata": {}
        }
      ]
    },
    {
      "cell_type": "code",
      "source": [
        "model.evaluate(test_dataset)"
      ],
      "metadata": {
        "colab": {
          "base_uri": "https://localhost:8080/"
        },
        "id": "ZeX_Raya6JXX",
        "outputId": "62f49d73-fda4-4691-e710-bd4db31fab6b"
      },
      "execution_count": null,
      "outputs": [
        {
          "output_type": "stream",
          "name": "stdout",
          "text": [
            "126/126 [==============================] - 4s 30ms/step - loss: 3.9756 - accuracy: 0.1180\n"
          ]
        },
        {
          "output_type": "execute_result",
          "data": {
            "text/plain": [
              "[3.975614070892334, 0.11796914041042328]"
            ]
          },
          "metadata": {},
          "execution_count": 22
        }
      ]
    },
    {
      "cell_type": "code",
      "source": [
        "base_model = tf.keras.applications.efficientnet.EfficientNetB0(include_top=False)\n",
        "base_model.trainable = False\n",
        "\n",
        "inputs = tf.keras.layers.Input(shape=(200,200,3),name=\"input_layer\")\n",
        "x = data_augmentation(inputs)\n",
        "x = base_model(x, training = False)\n",
        "x = tf.keras.layers.GlobalAveragePooling2D(name=\"global_average_pooling_2D\")(x)\n",
        "outputs = tf.keras.layers.Dense(94,activation = \"softmax\",name=\"output_layer\")(x)\n",
        "model = tf.keras.Model(inputs,outputs)"
      ],
      "metadata": {
        "id": "WGuY4YMm6RGs"
      },
      "execution_count": null,
      "outputs": []
    },
    {
      "cell_type": "code",
      "source": [
        "base_model.trainable = True\n",
        "for layer in base_model.layers[:-10]:\n",
        "  layer.trainable=False"
      ],
      "metadata": {
        "id": "EYop9WoN83h1"
      },
      "execution_count": null,
      "outputs": []
    },
    {
      "cell_type": "code",
      "source": [
        "model.compile(loss=\"categorical_crossentropy\",\n",
        "              optimizer=tf.keras.optimizers.Adam(learning_rate=0.0001),\n",
        "              metrics=[\"accuracy\"])"
      ],
      "metadata": {
        "id": "WaxG-oKj9QO_"
      },
      "execution_count": null,
      "outputs": []
    },
    {
      "cell_type": "code",
      "source": [
        "history_02 = model.fit(train_data,\n",
        "                       epochs=5,\n",
        "                       validation_data=test_data,\n",
        "                       validation_steps=len(test_dataset))"
      ],
      "metadata": {
        "colab": {
          "base_uri": "https://localhost:8080/"
        },
        "id": "QpbBMv1x9Tgv",
        "outputId": "417d0bd6-a83f-45de-8a8f-9af48a731665"
      },
      "execution_count": null,
      "outputs": [
        {
          "output_type": "stream",
          "name": "stdout",
          "text": [
            "Epoch 1/5\n",
            "485/485 [==============================] - 52s 88ms/step - loss: 4.1700 - accuracy: 0.1135 - val_loss: 4.1679 - val_accuracy: 0.1135\n",
            "Epoch 2/5\n",
            "485/485 [==============================] - 35s 72ms/step - loss: 4.1417 - accuracy: 0.1141 - val_loss: 4.1650 - val_accuracy: 0.1135\n",
            "Epoch 3/5\n",
            "485/485 [==============================] - 34s 71ms/step - loss: 4.1375 - accuracy: 0.1141 - val_loss: 4.1604 - val_accuracy: 0.1135\n",
            "Epoch 4/5\n",
            "485/485 [==============================] - 33s 69ms/step - loss: 4.1363 - accuracy: 0.1141 - val_loss: 4.1615 - val_accuracy: 0.1135\n",
            "Epoch 5/5\n",
            "485/485 [==============================] - 50s 104ms/step - loss: 4.1351 - accuracy: 0.1141 - val_loss: 4.1657 - val_accuracy: 0.1135\n"
          ]
        }
      ]
    },
    {
      "cell_type": "code",
      "source": [
        "model.compile(loss=\"categorical_crossentropy\",\n",
        "              optimizer=tf.keras.optimizers.Adam(learning_rate=0.001),\n",
        "              metrics=[\"accuracy\"])"
      ],
      "metadata": {
        "id": "ncQ-7S2L9dz2"
      },
      "execution_count": null,
      "outputs": []
    },
    {
      "cell_type": "code",
      "source": [
        "history_03 = model.fit(train_data,\n",
        "                       epochs=5,\n",
        "                       validation_data=test_data,\n",
        "                       validation_steps=len(test_dataset))"
      ],
      "metadata": {
        "colab": {
          "base_uri": "https://localhost:8080/"
        },
        "id": "yv4iI_CE-NHf",
        "outputId": "72f8e752-8548-44f9-e01d-f868d04a0f1f"
      },
      "execution_count": null,
      "outputs": [
        {
          "output_type": "stream",
          "name": "stdout",
          "text": [
            "Epoch 1/5\n",
            "485/485 [==============================] - 44s 71ms/step - loss: 4.1639 - accuracy: 0.1141 - val_loss: 4.1835 - val_accuracy: 0.1135\n",
            "Epoch 2/5\n",
            "485/485 [==============================] - 33s 69ms/step - loss: 4.1386 - accuracy: 0.1141 - val_loss: 4.1680 - val_accuracy: 0.1135\n",
            "Epoch 3/5\n",
            "485/485 [==============================] - 34s 70ms/step - loss: 4.1379 - accuracy: 0.1141 - val_loss: 4.1685 - val_accuracy: 0.1135\n",
            "Epoch 4/5\n",
            "485/485 [==============================] - 38s 78ms/step - loss: 4.1328 - accuracy: 0.1141 - val_loss: 4.1743 - val_accuracy: 0.1135\n",
            "Epoch 5/5\n",
            "485/485 [==============================] - 33s 69ms/step - loss: 4.1330 - accuracy: 0.1141 - val_loss: 4.1649 - val_accuracy: 0.1135\n"
          ]
        }
      ]
    },
    {
      "cell_type": "code",
      "source": [
        "train_datagen = ImageDataGenerator(rescale=1/255.)\n",
        "test_datagen = ImageDataGenerator(rescale=1/255.)\n",
        "\n",
        "train_data = train_datagen.flow_from_directory(train_dir,\n",
        "                                               target_size=(200, 200),\n",
        "                                               batch_size=32,\n",
        "                                               class_mode='categorical')\n",
        "\n",
        "test_data = train_datagen.flow_from_directory(test_dir,\n",
        "                                              target_size=(200, 200),\n",
        "                                              batch_size=32,\n",
        "                                              class_mode='categorical')"
      ],
      "metadata": {
        "colab": {
          "base_uri": "https://localhost:8080/"
        },
        "id": "meMV1z0QFfjX",
        "outputId": "9f628008-0695-40b2-b0a4-b37c4177e5c4"
      },
      "execution_count": null,
      "outputs": [
        {
          "output_type": "stream",
          "name": "stdout",
          "text": [
            "Found 7746 images belonging to 94 classes.\n",
            "Found 2009 images belonging to 94 classes.\n"
          ]
        }
      ]
    },
    {
      "cell_type": "code",
      "source": [
        "# Create a model\n",
        "model_3 = Sequential([\n",
        "    Conv2D(64,5,activation=\"relu\",input_shape=(200,200,3)),\n",
        "    Conv2D(64,5,activation=\"relu\"),\n",
        "    MaxPool2D(),\n",
        "    Conv2D(64,5,activation=\"relu\"),\n",
        "    Conv2D(64,5,activation=\"relu\"),\n",
        "    MaxPool2D(),\n",
        "    Flatten(),\n",
        "    Dense(94,activation = \"softmax\")\n",
        "])\n",
        "\n",
        "# Compile the model\n",
        "model_3.compile(loss=\"categorical_crossentropy\",\n",
        "                optimizer=tf.keras.optimizers.Adam(),\n",
        "                metrics=[\"accuracy\"])\n",
        "\n",
        "# Fit the model\n",
        "history_3 = model_3.fit(train_data,\n",
        "            epochs=5,\n",
        "            steps_per_epoch=len(train_data),\n",
        "            validation_data=test_data,\n",
        "            validation_steps=int(0.15*len(test_data)))\n"
      ],
      "metadata": {
        "colab": {
          "base_uri": "https://localhost:8080/"
        },
        "id": "B4wVC0W_F6Ds",
        "outputId": "890f1218-85be-4ef3-fbdc-7ab324c295ac"
      },
      "execution_count": null,
      "outputs": [
        {
          "output_type": "stream",
          "name": "stdout",
          "text": [
            "Epoch 1/5\n",
            "243/243 [==============================] - 61s 178ms/step - loss: 4.1535 - accuracy: 0.1122 - val_loss: 4.0277 - val_accuracy: 0.1215\n",
            "Epoch 2/5\n",
            "243/243 [==============================] - 37s 151ms/step - loss: 3.8371 - accuracy: 0.1352 - val_loss: 3.7709 - val_accuracy: 0.1215\n",
            "Epoch 3/5\n",
            "243/243 [==============================] - 37s 151ms/step - loss: 3.2949 - accuracy: 0.1930 - val_loss: 3.5433 - val_accuracy: 0.1736\n",
            "Epoch 4/5\n",
            "243/243 [==============================] - 37s 150ms/step - loss: 2.5315 - accuracy: 0.3318 - val_loss: 4.0855 - val_accuracy: 0.1250\n",
            "Epoch 5/5\n",
            "243/243 [==============================] - 37s 152ms/step - loss: 1.6008 - accuracy: 0.5684 - val_loss: 4.9825 - val_accuracy: 0.1354\n"
          ]
        }
      ]
    },
    {
      "cell_type": "code",
      "source": [
        "from google.colab import files\n",
        "files.download('aug')"
      ],
      "metadata": {
        "colab": {
          "base_uri": "https://localhost:8080/",
          "height": 34
        },
        "id": "p8D2B1iUGHn-",
        "outputId": "e3196c2e-8164-47ef-fe10-5915c17162fc"
      },
      "execution_count": null,
      "outputs": [
        {
          "output_type": "display_data",
          "data": {
            "text/plain": [
              "<IPython.core.display.Javascript object>"
            ],
            "application/javascript": [
              "\n",
              "    async function download(id, filename, size) {\n",
              "      if (!google.colab.kernel.accessAllowed) {\n",
              "        return;\n",
              "      }\n",
              "      const div = document.createElement('div');\n",
              "      const label = document.createElement('label');\n",
              "      label.textContent = `Downloading \"${filename}\": `;\n",
              "      div.appendChild(label);\n",
              "      const progress = document.createElement('progress');\n",
              "      progress.max = size;\n",
              "      div.appendChild(progress);\n",
              "      document.body.appendChild(div);\n",
              "\n",
              "      const buffers = [];\n",
              "      let downloaded = 0;\n",
              "\n",
              "      const channel = await google.colab.kernel.comms.open(id);\n",
              "      // Send a message to notify the kernel that we're ready.\n",
              "      channel.send({})\n",
              "\n",
              "      for await (const message of channel.messages) {\n",
              "        // Send a message to notify the kernel that we're ready.\n",
              "        channel.send({})\n",
              "        if (message.buffers) {\n",
              "          for (const buffer of message.buffers) {\n",
              "            buffers.push(buffer);\n",
              "            downloaded += buffer.byteLength;\n",
              "            progress.value = downloaded;\n",
              "          }\n",
              "        }\n",
              "      }\n",
              "      const blob = new Blob(buffers, {type: 'application/binary'});\n",
              "      const a = document.createElement('a');\n",
              "      a.href = window.URL.createObjectURL(blob);\n",
              "      a.download = filename;\n",
              "      div.appendChild(a);\n",
              "      a.click();\n",
              "      div.remove();\n",
              "    }\n",
              "  "
            ]
          },
          "metadata": {}
        },
        {
          "output_type": "display_data",
          "data": {
            "text/plain": [
              "<IPython.core.display.Javascript object>"
            ],
            "application/javascript": [
              "download(\"download_9f7317ff-bcbf-4313-985c-e643bf49d089\", \"aug\", 4096)"
            ]
          },
          "metadata": {}
        }
      ]
    },
    {
      "cell_type": "code",
      "source": [
        "model_3.evaluate(test_data)"
      ],
      "metadata": {
        "colab": {
          "base_uri": "https://localhost:8080/"
        },
        "id": "mug2phrTGplr",
        "outputId": "cc2cbd91-8c0c-436b-caee-7b1099029f0a"
      },
      "execution_count": null,
      "outputs": [
        {
          "output_type": "stream",
          "name": "stdout",
          "text": [
            "63/63 [==============================] - 8s 123ms/step - loss: 4.9969 - accuracy: 0.1533\n"
          ]
        },
        {
          "output_type": "execute_result",
          "data": {
            "text/plain": [
              "[4.99686336517334, 0.15331010520458221]"
            ]
          },
          "metadata": {},
          "execution_count": 21
        }
      ]
    },
    {
      "cell_type": "code",
      "source": [],
      "metadata": {
        "id": "IvZTBeUVJ1an"
      },
      "execution_count": null,
      "outputs": []
    }
  ],
  "metadata": {
    "accelerator": "GPU",
    "colab": {
      "provenance": [],
      "gpuType": "T4"
    },
    "kernelspec": {
      "display_name": "Python 3",
      "name": "python3"
    },
    "language_info": {
      "name": "python"
    }
  },
  "nbformat": 4,
  "nbformat_minor": 0
}