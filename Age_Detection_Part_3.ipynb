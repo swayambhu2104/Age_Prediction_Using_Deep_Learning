{
  "cells": [
    {
      "cell_type": "code",
      "execution_count": null,
      "metadata": {
        "id": "uuVjCIptcy6m"
      },
      "outputs": [],
      "source": [
        "import zipfile\n",
        "zip_ref = zipfile.ZipFile(\"/content/drive/MyDrive/split_dataset.zip\")\n",
        "zip_ref.extractall()\n",
        "zip_ref.close()"
      ]
    },
    {
      "cell_type": "code",
      "execution_count": null,
      "metadata": {
        "colab": {
          "base_uri": "https://localhost:8080/"
        },
        "id": "Muu6wU5bRGZQ",
        "outputId": "ade53998-469f-4220-b4c5-7f675bfc7ee0"
      },
      "outputs": [
        {
          "name": "stdout",
          "output_type": "stream",
          "text": [
            "Requirement already satisfied: opencv-python-headless in /usr/local/lib/python3.10/dist-packages (4.8.1.78)\n",
            "Requirement already satisfied: numpy>=1.21.2 in /usr/local/lib/python3.10/dist-packages (from opencv-python-headless) (1.23.5)\n",
            "Collecting Augmentor\n",
            "  Downloading Augmentor-0.2.12-py2.py3-none-any.whl (38 kB)\n",
            "Requirement already satisfied: Pillow>=5.2.0 in /usr/local/lib/python3.10/dist-packages (from Augmentor) (9.4.0)\n",
            "Requirement already satisfied: tqdm>=4.9.0 in /usr/local/lib/python3.10/dist-packages (from Augmentor) (4.66.1)\n",
            "Requirement already satisfied: numpy>=1.11.0 in /usr/local/lib/python3.10/dist-packages (from Augmentor) (1.23.5)\n",
            "Installing collected packages: Augmentor\n",
            "Successfully installed Augmentor-0.2.12\n"
          ]
        }
      ],
      "source": [
        "!pip install opencv-python-headless\n",
        "!pip install Augmentor"
      ]
    },
    {
      "cell_type": "code",
      "execution_count": null,
      "metadata": {
        "colab": {
          "background_save": true,
          "base_uri": "https://localhost:8080/"
        },
        "id": "2f7wffHgQi7a",
        "outputId": "562eaa1d-3e38-48c0-9c7e-c674d8ad3e40"
      },
      "outputs": [
        {
          "name": "stdout",
          "output_type": "stream",
          "text": [
            "Initialised with 60 image(s) found.\n",
            "Output directory set to /content/aug/040."
          ]
        },
        {
          "name": "stderr",
          "output_type": "stream",
          "text": [
            "Processing <PIL.Image.Image image mode=RGB size=200x200 at 0x7A7328D87940>: 100%|██████████| 150/150 [00:03<00:00, 42.05 Samples/s]\n"
          ]
        },
        {
          "name": "stdout",
          "output_type": "stream",
          "text": [
            "Initialised with 13 image(s) found.\n",
            "Output directory set to /content/aug/074."
          ]
        },
        {
          "name": "stderr",
          "output_type": "stream",
          "text": [
            "Processing <PIL.Image.Image image mode=RGB size=200x200 at 0x7A7328D69C60>: 100%|██████████| 150/150 [00:05<00:00, 26.00 Samples/s]\n"
          ]
        },
        {
          "name": "stdout",
          "output_type": "stream",
          "text": [
            "Initialised with 85 image(s) found.\n",
            "Output directory set to /content/aug/049."
          ]
        },
        {
          "name": "stderr",
          "output_type": "stream",
          "text": [
            "Processing <PIL.Image.Image image mode=RGB size=200x200 at 0x7A7328D9F5B0>: 100%|██████████| 150/150 [00:04<00:00, 36.95 Samples/s]\n"
          ]
        },
        {
          "name": "stdout",
          "output_type": "stream",
          "text": [
            "Initialised with 77 image(s) found.\n",
            "Output directory set to /content/aug/050."
          ]
        },
        {
          "name": "stderr",
          "output_type": "stream",
          "text": [
            "Processing <PIL.Image.Image image mode=RGB size=200x200 at 0x7A7328EB5ED0>: 100%|██████████| 150/150 [00:03<00:00, 40.12 Samples/s]\n"
          ]
        },
        {
          "name": "stdout",
          "output_type": "stream",
          "text": [
            "Initialised with 105 image(s) found.\n",
            "Output directory set to /content/aug/014."
          ]
        },
        {
          "name": "stderr",
          "output_type": "stream",
          "text": [
            "Processing <PIL.Image.Image image mode=RGB size=200x200 at 0x7A7328D9E440>: 100%|██████████| 150/150 [00:03<00:00, 39.11 Samples/s]\n"
          ]
        },
        {
          "name": "stdout",
          "output_type": "stream",
          "text": [
            "Initialised with 31 image(s) found.\n",
            "Output directory set to /content/aug/076."
          ]
        },
        {
          "name": "stderr",
          "output_type": "stream",
          "text": [
            "Processing <PIL.Image.Image image mode=RGB size=200x200 at 0x7A7338F17910>: 100%|██████████| 150/150 [00:05<00:00, 28.45 Samples/s]\n"
          ]
        },
        {
          "name": "stdout",
          "output_type": "stream",
          "text": [
            "Initialised with 108 image(s) found.\n",
            "Output directory set to /content/aug/052."
          ]
        },
        {
          "name": "stderr",
          "output_type": "stream",
          "text": [
            "Processing <PIL.Image.Image image mode=RGB size=200x200 at 0x7A7328DCBE20>: 100%|██████████| 150/150 [00:03<00:00, 41.72 Samples/s]\n"
          ]
        },
        {
          "name": "stdout",
          "output_type": "stream",
          "text": [
            "Initialised with 102 image(s) found.\n",
            "Output directory set to /content/aug/007."
          ]
        },
        {
          "name": "stderr",
          "output_type": "stream",
          "text": [
            "Processing <PIL.Image.Image image mode=RGB size=200x200 at 0x7A7328D69060>: 100%|██████████| 150/150 [00:03<00:00, 41.54 Samples/s]\n"
          ]
        },
        {
          "name": "stdout",
          "output_type": "stream",
          "text": [
            "Initialised with 37 image(s) found.\n",
            "Output directory set to /content/aug/066."
          ]
        },
        {
          "name": "stderr",
          "output_type": "stream",
          "text": [
            "Processing <PIL.Image.Image image mode=RGB size=200x200 at 0x7A7328D84C40>: 100%|██████████| 150/150 [00:04<00:00, 30.89 Samples/s]\n"
          ]
        },
        {
          "name": "stdout",
          "output_type": "stream",
          "text": [
            "Initialised with 23 image(s) found.\n",
            "Output directory set to /content/aug/082."
          ]
        },
        {
          "name": "stderr",
          "output_type": "stream",
          "text": [
            "Processing <PIL.Image.Image image mode=RGB size=200x200 at 0x7A7328D9C520>: 100%|██████████| 150/150 [00:04<00:00, 33.00 Samples/s]\n"
          ]
        },
        {
          "name": "stdout",
          "output_type": "stream",
          "text": [
            "Initialised with 141 image(s) found.\n",
            "Output directory set to /content/aug/018."
          ]
        },
        {
          "name": "stderr",
          "output_type": "stream",
          "text": [
            "Processing <PIL.Image.Image image mode=RGB size=200x200 at 0x7A7328D2BE80>: 100%|██████████| 150/150 [00:03<00:00, 39.51 Samples/s]\n"
          ]
        },
        {
          "name": "stdout",
          "output_type": "stream",
          "text": [
            "Initialised with 44 image(s) found.\n",
            "Output directory set to /content/aug/041."
          ]
        },
        {
          "name": "stderr",
          "output_type": "stream",
          "text": [
            "Processing <PIL.Image.Image image mode=RGB size=200x200 at 0x7A7328DEBEB0>: 100%|██████████| 150/150 [00:03<00:00, 40.05 Samples/s]\n"
          ]
        },
        {
          "name": "stdout",
          "output_type": "stream",
          "text": [
            "Initialised with 48 image(s) found.\n",
            "Output directory set to /content/aug/057."
          ]
        },
        {
          "name": "stderr",
          "output_type": "stream",
          "text": [
            "Processing <PIL.Image.Image image mode=RGB size=200x200 at 0x7A7328D9D150>: 100%|██████████| 150/150 [00:05<00:00, 26.71 Samples/s]\n"
          ]
        },
        {
          "name": "stdout",
          "output_type": "stream",
          "text": [
            "Initialised with 60 image(s) found.\n",
            "Output directory set to /content/aug/080."
          ]
        },
        {
          "name": "stderr",
          "output_type": "stream",
          "text": [
            "Processing <PIL.Image.Image image mode=RGB size=200x200 at 0x7A7328D2BD60>: 100%|██████████| 150/150 [00:02<00:00, 53.04 Samples/s]\n"
          ]
        },
        {
          "name": "stdout",
          "output_type": "stream",
          "text": [
            "Initialised with 113 image(s) found.\n",
            "Output directory set to /content/aug/060."
          ]
        },
        {
          "name": "stderr",
          "output_type": "stream",
          "text": [
            "Processing <PIL.Image.Image image mode=RGB size=200x200 at 0x7A7328D84A60>: 100%|██████████| 150/150 [00:02<00:00, 54.49 Samples/s]\n"
          ]
        },
        {
          "name": "stdout",
          "output_type": "stream",
          "text": [
            "Initialised with 68 image(s) found.\n",
            "Output directory set to /content/aug/042."
          ]
        },
        {
          "name": "stderr",
          "output_type": "stream",
          "text": [
            "Processing <PIL.Image.Image image mode=RGB size=200x200 at 0x7A7328D6AB00>: 100%|██████████| 150/150 [00:02<00:00, 53.46 Samples/s]\n"
          ]
        },
        {
          "name": "stdout",
          "output_type": "stream",
          "text": [
            "Initialised with 108 image(s) found.\n",
            "Output directory set to /content/aug/010."
          ]
        },
        {
          "name": "stderr",
          "output_type": "stream",
          "text": [
            "Processing <PIL.Image.Image image mode=RGB size=200x200 at 0x7A7328DC9420>: 100%|██████████| 150/150 [00:04<00:00, 34.63 Samples/s]\n"
          ]
        },
        {
          "name": "stdout",
          "output_type": "stream",
          "text": [
            "Initialised with 1 image(s) found.\n",
            "Output directory set to /content/aug/091."
          ]
        },
        {
          "name": "stderr",
          "output_type": "stream",
          "text": [
            "Processing <PIL.Image.Image image mode=RGB size=200x200 at 0x7A7328D2BF40>: 100%|██████████| 150/150 [00:03<00:00, 47.74 Samples/s]\n"
          ]
        },
        {
          "name": "stdout",
          "output_type": "stream",
          "text": [
            "Initialised with 134 image(s) found.\n",
            "Output directory set to /content/aug/009."
          ]
        },
        {
          "name": "stderr",
          "output_type": "stream",
          "text": [
            "Processing <PIL.Image.Image image mode=RGB size=200x200 at 0x7A7328DC92A0>: 100%|██████████| 150/150 [00:02<00:00, 54.33 Samples/s]\n"
          ]
        },
        {
          "name": "stdout",
          "output_type": "stream",
          "text": [
            "Initialised with 44 image(s) found.\n",
            "Output directory set to /content/aug/043."
          ]
        },
        {
          "name": "stderr",
          "output_type": "stream",
          "text": [
            "Processing <PIL.PngImagePlugin.PngImageFile image mode=RGB size=200x200 at 0x7A732840BF40>: 100%|██████████| 150/150 [00:02<00:00, 52.25 Samples/s]\n"
          ]
        },
        {
          "name": "stdout",
          "output_type": "stream",
          "text": [
            "Initialised with 884 image(s) found.\n",
            "Output directory set to /content/aug/001."
          ]
        },
        {
          "name": "stderr",
          "output_type": "stream",
          "text": [
            "Processing <PIL.Image.Image image mode=RGB size=200x200 at 0x7A732845A890>: 100%|██████████| 150/150 [00:03<00:00, 46.92 Samples/s]\n"
          ]
        },
        {
          "name": "stdout",
          "output_type": "stream",
          "text": [
            "Initialised with 1 image(s) found.\n",
            "Output directory set to /content/aug/095."
          ]
        },
        {
          "name": "stderr",
          "output_type": "stream",
          "text": [
            "Processing <PIL.Image.Image image mode=RGB size=200x200 at 0x7A7328D2BE20>: 100%|██████████| 150/150 [00:04<00:00, 34.79 Samples/s]\n"
          ]
        },
        {
          "name": "stdout",
          "output_type": "stream",
          "text": [
            "Initialised with 172 image(s) found.\n",
            "Output directory set to /content/aug/016."
          ]
        },
        {
          "name": "stderr",
          "output_type": "stream",
          "text": [
            "Processing <PIL.Image.Image image mode=RGB size=200x200 at 0x7A73284584C0>: 100%|██████████| 150/150 [00:02<00:00, 53.60 Samples/s]\n"
          ]
        },
        {
          "name": "stdout",
          "output_type": "stream",
          "text": [
            "Initialised with 13 image(s) found.\n",
            "Output directory set to /content/aug/089."
          ]
        },
        {
          "name": "stderr",
          "output_type": "stream",
          "text": [
            "Processing <PIL.Image.Image image mode=RGB size=200x200 at 0x7A7328D84AC0>: 100%|██████████| 150/150 [00:02<00:00, 53.41 Samples/s]\n"
          ]
        },
        {
          "name": "stdout",
          "output_type": "stream",
          "text": [
            "Initialised with 66 image(s) found.\n",
            "Output directory set to /content/aug/075."
          ]
        },
        {
          "name": "stderr",
          "output_type": "stream",
          "text": [
            "Processing <PIL.Image.Image image mode=RGB size=200x200 at 0x7A7328DEB310>: 100%|██████████| 150/150 [00:02<00:00, 53.82 Samples/s]\n"
          ]
        },
        {
          "name": "stdout",
          "output_type": "stream",
          "text": [
            "Initialised with 36 image(s) found.\n",
            "Output directory set to /content/aug/069."
          ]
        },
        {
          "name": "stderr",
          "output_type": "stream",
          "text": [
            "Processing <PIL.Image.Image image mode=RGB size=200x200 at 0x7A7328458910>: 100%|██████████| 150/150 [00:03<00:00, 39.59 Samples/s]\n"
          ]
        },
        {
          "name": "stdout",
          "output_type": "stream",
          "text": [
            "Initialised with 73 image(s) found.\n",
            "Output directory set to /content/aug/037."
          ]
        },
        {
          "name": "stderr",
          "output_type": "stream",
          "text": [
            "Processing <PIL.Image.Image image mode=RGB size=200x200 at 0x7A7328DC9420>: 100%|██████████| 150/150 [00:04<00:00, 35.04 Samples/s]\n"
          ]
        },
        {
          "name": "stdout",
          "output_type": "stream",
          "text": [
            "Initialised with 69 image(s) found.\n",
            "Output directory set to /content/aug/034."
          ]
        },
        {
          "name": "stderr",
          "output_type": "stream",
          "text": [
            "Processing <PIL.Image.Image image mode=RGB size=200x200 at 0x7A7328D9FAC0>: 100%|██████████| 150/150 [00:03<00:00, 38.96 Samples/s]\n"
          ]
        },
        {
          "name": "stdout",
          "output_type": "stream",
          "text": [
            "Initialised with 106 image(s) found.\n",
            "Output directory set to /content/aug/015."
          ]
        },
        {
          "name": "stderr",
          "output_type": "stream",
          "text": [
            "Processing <PIL.Image.Image image mode=RGB size=200x200 at 0x7A7328D2BF10>: 100%|██████████| 150/150 [00:03<00:00, 49.85 Samples/s]\n"
          ]
        },
        {
          "name": "stdout",
          "output_type": "stream",
          "text": [
            "Initialised with 4 image(s) found.\n",
            "Output directory set to /content/aug/087."
          ]
        },
        {
          "name": "stderr",
          "output_type": "stream",
          "text": [
            "Processing <PIL.Image.Image image mode=RGB size=200x200 at 0x7A73284089D0>: 100%|██████████| 150/150 [00:05<00:00, 28.25 Samples/s]\n"
          ]
        },
        {
          "name": "stdout",
          "output_type": "stream",
          "text": [
            "Initialised with 89 image(s) found.\n",
            "Output directory set to /content/aug/054."
          ]
        },
        {
          "name": "stderr",
          "output_type": "stream",
          "text": [
            "Processing <PIL.Image.Image image mode=RGB size=200x200 at 0x7A7328D2BE80>: 100%|██████████| 150/150 [00:04<00:00, 36.95 Samples/s]\n"
          ]
        },
        {
          "name": "stdout",
          "output_type": "stream",
          "text": [
            "Initialised with 11 image(s) found.\n",
            "Output directory set to /content/aug/092."
          ]
        },
        {
          "name": "stderr",
          "output_type": "stream",
          "text": [
            "Processing <PIL.Image.Image image mode=RGB size=200x200 at 0x7A732840AC80>: 100%|██████████| 150/150 [00:03<00:00, 42.59 Samples/s]\n"
          ]
        },
        {
          "name": "stdout",
          "output_type": "stream",
          "text": [
            "Initialised with 107 image(s) found.\n",
            "Output directory set to /content/aug/056."
          ]
        },
        {
          "name": "stderr",
          "output_type": "stream",
          "text": [
            "Processing <PIL.Image.Image image mode=RGB size=200x200 at 0x7A7328446950>: 100%|██████████| 150/150 [00:04<00:00, 34.89 Samples/s]\n"
          ]
        },
        {
          "name": "stdout",
          "output_type": "stream",
          "text": [
            "Initialised with 115 image(s) found.\n",
            "Output directory set to /content/aug/029."
          ]
        },
        {
          "name": "stderr",
          "output_type": "stream",
          "text": [
            "Processing <PIL.Image.Image image mode=RGB size=200x200 at 0x7A7328DC9570>: 100%|██████████| 150/150 [00:05<00:00, 29.83 Samples/s]\n"
          ]
        },
        {
          "name": "stdout",
          "output_type": "stream",
          "text": [
            "Initialised with 7 image(s) found.\n",
            "Output directory set to /content/aug/084."
          ]
        },
        {
          "name": "stderr",
          "output_type": "stream",
          "text": [
            "Processing <PIL.Image.Image image mode=RGB size=200x200 at 0x7A732840A3E0>: 100%|██████████| 150/150 [00:03<00:00, 40.94 Samples/s]\n"
          ]
        },
        {
          "name": "stdout",
          "output_type": "stream",
          "text": [
            "Initialised with 124 image(s) found.\n",
            "Output directory set to /content/aug/025."
          ]
        },
        {
          "name": "stderr",
          "output_type": "stream",
          "text": [
            "Processing <PIL.Image.Image image mode=RGB size=200x200 at 0x7A7328DC9BD0>: 100%|██████████| 150/150 [00:03<00:00, 45.97 Samples/s]\n"
          ]
        },
        {
          "name": "stdout",
          "output_type": "stream",
          "text": [
            "Initialised with 46 image(s) found.\n",
            "Output directory set to /content/aug/090."
          ]
        },
        {
          "name": "stderr",
          "output_type": "stream",
          "text": [
            "Processing <PIL.Image.Image image mode=RGB size=200x200 at 0x7A7328DEB220>: 100%|██████████| 150/150 [00:04<00:00, 33.55 Samples/s]\n"
          ]
        },
        {
          "name": "stdout",
          "output_type": "stream",
          "text": [
            "Initialised with 126 image(s) found.\n",
            "Output directory set to /content/aug/028."
          ]
        },
        {
          "name": "stderr",
          "output_type": "stream",
          "text": [
            "Processing <PIL.Image.Image image mode=RGB size=200x200 at 0x7A732842F1F0>: 100%|██████████| 150/150 [00:03<00:00, 38.91 Samples/s]\n"
          ]
        },
        {
          "name": "stdout",
          "output_type": "stream",
          "text": [
            "Initialised with 10 image(s) found.\n",
            "Output directory set to /content/aug/088."
          ]
        },
        {
          "name": "stderr",
          "output_type": "stream",
          "text": [
            "Processing <PIL.Image.Image image mode=RGB size=200x200 at 0x7A7328EF3CA0>: 100%|██████████| 150/150 [00:03<00:00, 41.02 Samples/s]\n"
          ]
        },
        {
          "name": "stdout",
          "output_type": "stream",
          "text": [
            "Initialised with 102 image(s) found.\n",
            "Output directory set to /content/aug/022."
          ]
        },
        {
          "name": "stderr",
          "output_type": "stream",
          "text": [
            "Processing <PIL.Image.Image image mode=RGB size=200x200 at 0x7A7328445810>: 100%|██████████| 150/150 [00:03<00:00, 43.45 Samples/s]\n"
          ]
        },
        {
          "name": "stdout",
          "output_type": "stream",
          "text": [
            "Initialised with 14 image(s) found.\n",
            "Output directory set to /content/aug/077."
          ]
        },
        {
          "name": "stderr",
          "output_type": "stream",
          "text": [
            "Processing <PIL.Image.Image image mode=RGB size=200x200 at 0x7A7328DE8D90>: 100%|██████████| 150/150 [00:04<00:00, 33.91 Samples/s]\n"
          ]
        },
        {
          "name": "stdout",
          "output_type": "stream",
          "text": [
            "Initialised with 28 image(s) found.\n",
            "Output directory set to /content/aug/073."
          ]
        },
        {
          "name": "stderr",
          "output_type": "stream",
          "text": [
            "Processing <PIL.Image.Image image mode=RGB size=200x200 at 0x7A7328408A00>: 100%|██████████| 150/150 [00:04<00:00, 36.03 Samples/s]\n"
          ]
        },
        {
          "name": "stdout",
          "output_type": "stream",
          "text": [
            "Initialised with 48 image(s) found.\n",
            "Output directory set to /content/aug/059."
          ]
        },
        {
          "name": "stderr",
          "output_type": "stream",
          "text": [
            "Processing <PIL.Image.Image image mode=RGB size=200x200 at 0x7A732842EAD0>: 100%|██████████| 150/150 [00:03<00:00, 42.76 Samples/s]\n"
          ]
        },
        {
          "name": "stdout",
          "output_type": "stream",
          "text": [
            "Initialised with 39 image(s) found.\n",
            "Output directory set to /content/aug/070."
          ]
        },
        {
          "name": "stderr",
          "output_type": "stream",
          "text": [
            "Processing <PIL.Image.Image image mode=RGB size=200x200 at 0x7A7328458670>: 100%|██████████| 150/150 [00:03<00:00, 45.07 Samples/s]\n"
          ]
        },
        {
          "name": "stdout",
          "output_type": "stream",
          "text": [
            "Initialised with 48 image(s) found.\n",
            "Output directory set to /content/aug/019."
          ]
        },
        {
          "name": "stderr",
          "output_type": "stream",
          "text": [
            "Processing <PIL.Image.Image image mode=RGB size=200x200 at 0x7A732842E6B0>: 100%|██████████| 150/150 [00:04<00:00, 32.23 Samples/s]\n"
          ]
        },
        {
          "name": "stdout",
          "output_type": "stream",
          "text": [
            "Initialised with 89 image(s) found.\n",
            "Output directory set to /content/aug/030."
          ]
        },
        {
          "name": "stderr",
          "output_type": "stream",
          "text": [
            "Processing <PIL.Image.Image image mode=RGB size=200x200 at 0x7A732846B4F0>: 100%|██████████| 150/150 [00:05<00:00, 27.54 Samples/s]\n"
          ]
        },
        {
          "name": "stdout",
          "output_type": "stream",
          "text": [
            "Initialised with 149 image(s) found.\n",
            "Output directory set to /content/aug/005."
          ]
        },
        {
          "name": "stderr",
          "output_type": "stream",
          "text": [
            "Processing <PIL.Image.Image image mode=RGB size=200x200 at 0x7A7328409E40>: 100%|██████████| 150/150 [00:04<00:00, 35.05 Samples/s]\n"
          ]
        },
        {
          "name": "stdout",
          "output_type": "stream",
          "text": [
            "Initialised with 232 image(s) found.\n",
            "Output directory set to /content/aug/003."
          ]
        },
        {
          "name": "stderr",
          "output_type": "stream",
          "text": [
            "Processing <PIL.Image.Image image mode=RGB size=200x200 at 0x7A7328469330>: 100%|██████████| 150/150 [00:03<00:00, 42.26 Samples/s]\n"
          ]
        },
        {
          "name": "stdout",
          "output_type": "stream",
          "text": [
            "Initialised with 214 image(s) found.\n",
            "Output directory set to /content/aug/026."
          ]
        },
        {
          "name": "stderr",
          "output_type": "stream",
          "text": [
            "Processing <PIL.Image.Image image mode=RGB size=200x200 at 0x7A73284306D0>: 100%|██████████| 150/150 [00:04<00:00, 33.77 Samples/s]\n"
          ]
        },
        {
          "name": "stdout",
          "output_type": "stream",
          "text": [
            "Initialised with 92 image(s) found.\n",
            "Output directory set to /content/aug/027."
          ]
        },
        {
          "name": "stderr",
          "output_type": "stream",
          "text": [
            "Processing <PIL.Image.Image image mode=RGB size=200x200 at 0x7A7328459A50>: 100%|██████████| 150/150 [00:03<00:00, 44.20 Samples/s]\n"
          ]
        },
        {
          "name": "stdout",
          "output_type": "stream",
          "text": [
            "Initialised with 11 image(s) found.\n",
            "Output directory set to /content/aug/079."
          ]
        },
        {
          "name": "stderr",
          "output_type": "stream",
          "text": [
            "Processing <PIL.Image.Image image mode=RGB size=200x200 at 0x7A7328D86D70>: 100%|██████████| 150/150 [00:03<00:00, 49.67 Samples/s]\n"
          ]
        },
        {
          "name": "stdout",
          "output_type": "stream",
          "text": [
            "Initialised with 373 image(s) found.\n",
            "Output directory set to /content/aug/002."
          ]
        },
        {
          "name": "stderr",
          "output_type": "stream",
          "text": [
            "Processing <PIL.Image.Image image mode=RGB size=200x200 at 0x7A7328EB5AB0>: 100%|██████████| 150/150 [00:03<00:00, 40.58 Samples/s]\n"
          ]
        },
        {
          "name": "stdout",
          "output_type": "stream",
          "text": [
            "Initialised with 40 image(s) found.\n",
            "Output directory set to /content/aug/067."
          ]
        },
        {
          "name": "stderr",
          "output_type": "stream",
          "text": [
            "Processing <PIL.Image.Image image mode=RGB size=200x200 at 0x7A7328432B30>: 100%|██████████| 150/150 [00:05<00:00, 27.40 Samples/s]\n"
          ]
        },
        {
          "name": "stdout",
          "output_type": "stream",
          "text": [
            "Initialised with 214 image(s) found.\n",
            "Output directory set to /content/aug/004."
          ]
        },
        {
          "name": "stderr",
          "output_type": "stream",
          "text": [
            "Processing <PIL.Image.Image image mode=RGB size=200x200 at 0x7A7328D2BA00>: 100%|██████████| 150/150 [00:03<00:00, 39.88 Samples/s]\n"
          ]
        },
        {
          "name": "stdout",
          "output_type": "stream",
          "text": [
            "Initialised with 39 image(s) found.\n",
            "Output directory set to /content/aug/061."
          ]
        },
        {
          "name": "stderr",
          "output_type": "stream",
          "text": [
            "Processing <PIL.Image.Image image mode=RGB size=200x200 at 0x7A7328447B80>: 100%|██████████| 150/150 [00:03<00:00, 38.42 Samples/s]\n"
          ]
        },
        {
          "name": "stdout",
          "output_type": "stream",
          "text": [
            "Initialised with 32 image(s) found.\n",
            "Output directory set to /content/aug/055."
          ]
        },
        {
          "name": "stderr",
          "output_type": "stream",
          "text": [
            "Processing <PIL.Image.Image image mode=RGB size=200x200 at 0x7A732842E8C0>: 100%|██████████| 150/150 [00:05<00:00, 26.46 Samples/s]\n"
          ]
        },
        {
          "name": "stdout",
          "output_type": "stream",
          "text": [
            "Initialised with 106 image(s) found.\n",
            "Output directory set to /content/aug/085."
          ]
        },
        {
          "name": "stderr",
          "output_type": "stream",
          "text": [
            "Processing <PIL.Image.Image image mode=RGB size=200x200 at 0x7A732845FC70>: 100%|██████████| 150/150 [00:04<00:00, 35.39 Samples/s]\n"
          ]
        },
        {
          "name": "stdout",
          "output_type": "stream",
          "text": [
            "Initialised with 100 image(s) found.\n",
            "Output directory set to /content/aug/035."
          ]
        },
        {
          "name": "stderr",
          "output_type": "stream",
          "text": [
            "Processing <PIL.Image.Image image mode=RGB size=200x200 at 0x7A732846A050>: 100%|██████████| 150/150 [00:04<00:00, 37.34 Samples/s]\n"
          ]
        },
        {
          "name": "stdout",
          "output_type": "stream",
          "text": [
            "Initialised with 87 image(s) found.\n",
            "Output directory set to /content/aug/036."
          ]
        },
        {
          "name": "stderr",
          "output_type": "stream",
          "text": [
            "Processing <PIL.Image.Image image mode=RGB size=200x200 at 0x7A732840AFE0>: 100%|██████████| 150/150 [00:04<00:00, 32.18 Samples/s]\n"
          ]
        },
        {
          "name": "stdout",
          "output_type": "stream",
          "text": [
            "Initialised with 81 image(s) found.\n",
            "Output directory set to /content/aug/012."
          ]
        },
        {
          "name": "stderr",
          "output_type": "stream",
          "text": [
            "Processing <PIL.Image.Image image mode=RGB size=200x200 at 0x7A7328D2BA00>: 100%|██████████| 150/150 [00:04<00:00, 33.75 Samples/s]\n"
          ]
        },
        {
          "name": "stdout",
          "output_type": "stream",
          "text": [
            "Initialised with 69 image(s) found.\n",
            "Output directory set to /content/aug/038."
          ]
        },
        {
          "name": "stderr",
          "output_type": "stream",
          "text": [
            "Processing <PIL.Image.Image image mode=RGB size=200x200 at 0x7A7328D9EB00>: 100%|██████████| 150/150 [00:03<00:00, 47.06 Samples/s]\n"
          ]
        },
        {
          "name": "stdout",
          "output_type": "stream",
          "text": [
            "Initialised with 105 image(s) found.\n",
            "Output directory set to /content/aug/039."
          ]
        },
        {
          "name": "stderr",
          "output_type": "stream",
          "text": [
            "Processing <PIL.Image.Image image mode=RGB size=200x200 at 0x7A732842E890>: 100%|██████████| 150/150 [00:02<00:00, 51.88 Samples/s]\n"
          ]
        },
        {
          "name": "stdout",
          "output_type": "stream",
          "text": [
            "Initialised with 9 image(s) found.\n",
            "Output directory set to /content/aug/081."
          ]
        },
        {
          "name": "stderr",
          "output_type": "stream",
          "text": [
            "Processing <PIL.Image.Image image mode=RGB size=200x200 at 0x7A7328D86380>: 100%|██████████| 150/150 [00:04<00:00, 36.29 Samples/s]\n"
          ]
        },
        {
          "name": "stdout",
          "output_type": "stream",
          "text": [
            "Initialised with 150 image(s) found.\n",
            "Output directory set to /content/aug/024."
          ]
        },
        {
          "name": "stderr",
          "output_type": "stream",
          "text": [
            "Processing <PIL.Image.Image image mode=RGB size=200x200 at 0x7A7328493940>: 100%|██████████| 150/150 [00:04<00:00, 30.66 Samples/s]\n"
          ]
        },
        {
          "name": "stdout",
          "output_type": "stream",
          "text": [
            "Initialised with 22 image(s) found.\n",
            "Output directory set to /content/aug/078."
          ]
        },
        {
          "name": "stderr",
          "output_type": "stream",
          "text": [
            "Processing <PIL.Image.Image image mode=RGB size=200x200 at 0x7A732842C5B0>: 100%|██████████| 150/150 [00:03<00:00, 43.31 Samples/s]\n"
          ]
        },
        {
          "name": "stdout",
          "output_type": "stream",
          "text": [
            "Initialised with 53 image(s) found.\n",
            "Output directory set to /content/aug/072."
          ]
        },
        {
          "name": "stderr",
          "output_type": "stream",
          "text": [
            "Processing <PIL.Image.Image image mode=RGB size=200x200 at 0x7A7328408310>: 100%|██████████| 150/150 [00:03<00:00, 38.79 Samples/s]\n"
          ]
        },
        {
          "name": "stdout",
          "output_type": "stream",
          "text": [
            "Initialised with 83 image(s) found.\n",
            "Output directory set to /content/aug/058."
          ]
        },
        {
          "name": "stderr",
          "output_type": "stream",
          "text": [
            "Processing <PIL.Image.Image image mode=RGB size=200x200 at 0x7A7328D87640>: 100%|██████████| 150/150 [00:05<00:00, 27.83 Samples/s]\n"
          ]
        },
        {
          "name": "stdout",
          "output_type": "stream",
          "text": [
            "Initialised with 59 image(s) found.\n",
            "Output directory set to /content/aug/062."
          ]
        },
        {
          "name": "stderr",
          "output_type": "stream",
          "text": [
            "Processing <PIL.Image.Image image mode=RGB size=200x200 at 0x7A732845D3F0>: 100%|██████████| 150/150 [00:03<00:00, 47.41 Samples/s]\n"
          ]
        },
        {
          "name": "stdout",
          "output_type": "stream",
          "text": [
            "Initialised with 3 image(s) found.\n",
            "Output directory set to /content/aug/083."
          ]
        },
        {
          "name": "stderr",
          "output_type": "stream",
          "text": [
            "Processing <PIL.Image.Image image mode=RGB size=200x200 at 0x7A7328445780>: 100%|██████████| 150/150 [00:02<00:00, 50.06 Samples/s]\n"
          ]
        },
        {
          "name": "stdout",
          "output_type": "stream",
          "text": [
            "Initialised with 80 image(s) found.\n",
            "Output directory set to /content/aug/031."
          ]
        },
        {
          "name": "stderr",
          "output_type": "stream",
          "text": [
            "Processing <PIL.Image.Image image mode=RGB size=200x200 at 0x7A7328DEBD90>: 100%|██████████| 150/150 [00:03<00:00, 46.81 Samples/s]\n"
          ]
        },
        {
          "name": "stdout",
          "output_type": "stream",
          "text": [
            "Initialised with 90 image(s) found.\n",
            "Output directory set to /content/aug/020."
          ]
        },
        {
          "name": "stderr",
          "output_type": "stream",
          "text": [
            "Processing <PIL.Image.Image image mode=RGB size=200x200 at 0x7A73284A0310>: 100%|██████████| 150/150 [00:05<00:00, 26.93 Samples/s]\n"
          ]
        },
        {
          "name": "stdout",
          "output_type": "stream",
          "text": [
            "Initialised with 45 image(s) found.\n",
            "Output directory set to /content/aug/046."
          ]
        },
        {
          "name": "stderr",
          "output_type": "stream",
          "text": [
            "Processing <PIL.Image.Image image mode=RGB size=200x200 at 0x7A73284903D0>: 100%|██████████| 150/150 [00:03<00:00, 44.49 Samples/s]\n"
          ]
        },
        {
          "name": "stdout",
          "output_type": "stream",
          "text": [
            "Initialised with 61 image(s) found.\n",
            "Output directory set to /content/aug/045."
          ]
        },
        {
          "name": "stderr",
          "output_type": "stream",
          "text": [
            "Processing <PIL.Image.Image image mode=RGB size=200x200 at 0x7A73284683D0>: 100%|██████████| 150/150 [00:02<00:00, 50.50 Samples/s]\n"
          ]
        },
        {
          "name": "stdout",
          "output_type": "stream",
          "text": [
            "Initialised with 21 image(s) found.\n",
            "Output directory set to /content/aug/064."
          ]
        },
        {
          "name": "stderr",
          "output_type": "stream",
          "text": [
            "Processing <PIL.Image.Image image mode=RGB size=200x200 at 0x7A7328430670>: 100%|██████████| 150/150 [00:02<00:00, 50.11 Samples/s]\n"
          ]
        },
        {
          "name": "stdout",
          "output_type": "stream",
          "text": [
            "Initialised with 53 image(s) found.\n",
            "Output directory set to /content/aug/051."
          ]
        },
        {
          "name": "stderr",
          "output_type": "stream",
          "text": [
            "Processing <PIL.Image.Image image mode=RGB size=200x200 at 0x7A73284917B0>: 100%|██████████| 150/150 [00:04<00:00, 36.81 Samples/s]\n"
          ]
        },
        {
          "name": "stdout",
          "output_type": "stream",
          "text": [
            "Initialised with 105 image(s) found.\n",
            "Output directory set to /content/aug/032."
          ]
        },
        {
          "name": "stderr",
          "output_type": "stream",
          "text": [
            "Processing <PIL.Image.Image image mode=RGB size=200x200 at 0x7A73284BFF40>: 100%|██████████| 150/150 [00:04<00:00, 36.01 Samples/s]\n"
          ]
        },
        {
          "name": "stdout",
          "output_type": "stream",
          "text": [
            "Initialised with 85 image(s) found.\n",
            "Output directory set to /content/aug/017."
          ]
        },
        {
          "name": "stderr",
          "output_type": "stream",
          "text": [
            "Processing <PIL.Image.Image image mode=RGB size=200x200 at 0x7A73284A0FA0>: 100%|██████████| 150/150 [00:03<00:00, 47.57 Samples/s]\n"
          ]
        },
        {
          "name": "stdout",
          "output_type": "stream",
          "text": [
            "Initialised with 101 image(s) found.\n",
            "Output directory set to /content/aug/021."
          ]
        },
        {
          "name": "stderr",
          "output_type": "stream",
          "text": [
            "Processing <PIL.Image.Image image mode=RGB size=200x200 at 0x7A732840AEC0>: 100%|██████████| 150/150 [00:03<00:00, 46.91 Samples/s]\n"
          ]
        },
        {
          "name": "stdout",
          "output_type": "stream",
          "text": [
            "Initialised with 47 image(s) found.\n",
            "Output directory set to /content/aug/011."
          ]
        },
        {
          "name": "stderr",
          "output_type": "stream",
          "text": [
            "Processing <PIL.Image.Image image mode=RGB size=200x200 at 0x7A7328430280>: 100%|██████████| 150/150 [00:03<00:00, 42.71 Samples/s]\n"
          ]
        },
        {
          "name": "stdout",
          "output_type": "stream",
          "text": [
            "Initialised with 72 image(s) found.\n",
            "Output directory set to /content/aug/023."
          ]
        },
        {
          "name": "stderr",
          "output_type": "stream",
          "text": [
            "Processing <PIL.PngImagePlugin.PngImageFile image mode=RGB size=200x200 at 0x7A732840AEC0>: 100%|██████████| 150/150 [00:04<00:00, 34.82 Samples/s]\n"
          ]
        },
        {
          "name": "stdout",
          "output_type": "stream",
          "text": [
            "Initialised with 24 image(s) found.\n",
            "Output directory set to /content/aug/044."
          ]
        },
        {
          "name": "stderr",
          "output_type": "stream",
          "text": [
            "Processing <PIL.Image.Image image mode=RGB size=200x200 at 0x7A73284A3550>: 100%|██████████| 150/150 [00:02<00:00, 53.38 Samples/s]\n"
          ]
        },
        {
          "name": "stdout",
          "output_type": "stream",
          "text": [
            "Initialised with 41 image(s) found.\n",
            "Output directory set to /content/aug/068."
          ]
        },
        {
          "name": "stderr",
          "output_type": "stream",
          "text": [
            "Processing <PIL.Image.Image image mode=RGB size=200x200 at 0x7A73284BDF30>: 100%|██████████| 150/150 [00:03<00:00, 49.45 Samples/s]\n"
          ]
        },
        {
          "name": "stdout",
          "output_type": "stream",
          "text": [
            "Initialised with 117 image(s) found.\n",
            "Output directory set to /content/aug/053."
          ]
        },
        {
          "name": "stderr",
          "output_type": "stream",
          "text": [
            "Processing <PIL.Image.Image image mode=RGB size=200x200 at 0x7A73284B7CA0>: 100%|██████████| 150/150 [00:02<00:00, 53.37 Samples/s]\n"
          ]
        },
        {
          "name": "stdout",
          "output_type": "stream",
          "text": [
            "Initialised with 57 image(s) found.\n",
            "Output directory set to /content/aug/047."
          ]
        },
        {
          "name": "stderr",
          "output_type": "stream",
          "text": [
            "Processing <PIL.Image.Image image mode=RGB size=200x200 at 0x7A7328433760>: 100%|██████████| 150/150 [00:04<00:00, 36.84 Samples/s]\n"
          ]
        },
        {
          "name": "stdout",
          "output_type": "stream",
          "text": [
            "Initialised with 60 image(s) found.\n",
            "Output directory set to /content/aug/013."
          ]
        },
        {
          "name": "stderr",
          "output_type": "stream",
          "text": [
            "Processing <PIL.Image.Image image mode=RGB size=200x200 at 0x7A73284BF7C0>: 100%|██████████| 150/150 [00:03<00:00, 42.93 Samples/s]\n"
          ]
        },
        {
          "name": "stdout",
          "output_type": "stream",
          "text": [
            "Initialised with 1 image(s) found.\n",
            "Output directory set to /content/aug/093."
          ]
        },
        {
          "name": "stderr",
          "output_type": "stream",
          "text": [
            "Processing <PIL.Image.Image image mode=RGB size=200x200 at 0x7A7328491F90>: 100%|██████████| 150/150 [00:03<00:00, 48.54 Samples/s]\n"
          ]
        },
        {
          "name": "stdout",
          "output_type": "stream",
          "text": [
            "Initialised with 35 image(s) found.\n",
            "Output directory set to /content/aug/033."
          ]
        },
        {
          "name": "stderr",
          "output_type": "stream",
          "text": [
            "Processing <PIL.Image.Image image mode=RGB size=200x200 at 0x7A7328493D00>: 100%|██████████| 150/150 [00:02<00:00, 52.61 Samples/s]\n"
          ]
        },
        {
          "name": "stdout",
          "output_type": "stream",
          "text": [
            "Initialised with 50 image(s) found.\n",
            "Output directory set to /content/aug/048."
          ]
        },
        {
          "name": "stderr",
          "output_type": "stream",
          "text": [
            "Processing <PIL.Image.Image image mode=RGB size=200x200 at 0x7A732845BC70>: 100%|██████████| 150/150 [00:02<00:00, 50.28 Samples/s]\n"
          ]
        },
        {
          "name": "stdout",
          "output_type": "stream",
          "text": [
            "Initialised with 90 image(s) found.\n",
            "Output directory set to /content/aug/065."
          ]
        },
        {
          "name": "stderr",
          "output_type": "stream",
          "text": [
            "Processing <PIL.Image.Image image mode=RGB size=200x200 at 0x7A73284913C0>: 100%|██████████| 150/150 [00:04<00:00, 33.43 Samples/s]\n"
          ]
        },
        {
          "name": "stdout",
          "output_type": "stream",
          "text": [
            "Initialised with 194 image(s) found.\n",
            "Output directory set to /content/aug/008."
          ]
        },
        {
          "name": "stderr",
          "output_type": "stream",
          "text": [
            "Processing <PIL.Image.Image image mode=RGB size=200x200 at 0x7A73284D2B90>: 100%|██████████| 150/150 [00:02<00:00, 51.69 Samples/s]\n"
          ]
        },
        {
          "name": "stdout",
          "output_type": "stream",
          "text": [
            "Initialised with 94 image(s) found.\n",
            "Output directory set to /content/aug/006."
          ]
        },
        {
          "name": "stderr",
          "output_type": "stream",
          "text": [
            "Processing <PIL.Image.Image image mode=RGB size=200x200 at 0x7A7328491A50>: 100%|██████████| 150/150 [00:02<00:00, 53.24 Samples/s]\n"
          ]
        },
        {
          "name": "stdout",
          "output_type": "stream",
          "text": [
            "Initialised with 16 image(s) found.\n",
            "Output directory set to /content/aug/086."
          ]
        },
        {
          "name": "stderr",
          "output_type": "stream",
          "text": [
            "Processing <PIL.Image.Image image mode=RGB size=200x200 at 0x7A73284A2CB0>: 100%|██████████| 150/150 [00:02<00:00, 51.68 Samples/s]\n"
          ]
        },
        {
          "name": "stdout",
          "output_type": "stream",
          "text": [
            "Initialised with 17 image(s) found.\n",
            "Output directory set to /content/aug/071."
          ]
        },
        {
          "name": "stderr",
          "output_type": "stream",
          "text": [
            "Processing <PIL.Image.Image image mode=RGB size=200x200 at 0x7A7328458100>: 100%|██████████| 150/150 [00:03<00:00, 39.56 Samples/s]\n"
          ]
        },
        {
          "name": "stdout",
          "output_type": "stream",
          "text": [
            "Initialised with 38 image(s) found.\n",
            "Output directory set to /content/aug/063."
          ]
        },
        {
          "name": "stderr",
          "output_type": "stream",
          "text": [
            "Processing <PIL.PngImagePlugin.PngImageFile image mode=RGB size=200x200 at 0x7A73284B7B80>: 100%|██████████| 150/150 [00:03<00:00, 38.59 Samples/s]\n"
          ]
        }
      ],
      "source": [
        "import os\n",
        "import random\n",
        "import shutil\n",
        "import Augmentor\n",
        "\n",
        "# Define the input directory containing subdirectories for each class\n",
        "input_directory = \"/content/train\"\n",
        "output_root_directory = \"/content/aug\"\n",
        "target_num_images_per_class = 150  # Desired number of images per class\n",
        "\n",
        "# Create the output root directory if it doesn't exist\n",
        "os.makedirs(output_root_directory, exist_ok=True)\n",
        "\n",
        "# List all class directories in the input directory\n",
        "class_directories = os.listdir(input_directory)\n",
        "\n",
        "# Iterate through each class directory\n",
        "for class_dir in class_directories:\n",
        "    class_path = os.path.join(input_directory, class_dir)\n",
        "\n",
        "    # List all image files in the class directory\n",
        "    image_files = [os.path.join(class_path, filename) for filename in os.listdir(class_path) if filename.endswith(\".jpg\")]\n",
        "\n",
        "    # Calculate the number of images in this class\n",
        "    num_images_in_class = len(image_files)\n",
        "\n",
        "    # Determine how many images to sample or augment to reach the target count\n",
        "    if num_images_in_class < target_num_images_per_class:\n",
        "        # Create an Augmentor pipeline for this class\n",
        "        p = Augmentor.Pipeline(class_path, output_directory=os.path.join(output_root_directory, class_dir))\n",
        "\n",
        "        # Define your augmentation operations here\n",
        "        p.rotate(probability=0.7, max_left_rotation=25, max_right_rotation=25)\n",
        "        p.flip_left_right(probability=0.5)\n",
        "        p.zoom_random(probability=0.5, percentage_area=0.8)\n",
        "        p.random_contrast(probability=0.5, min_factor=0.7, max_factor=1.3)\n",
        "\n",
        "        # Calculate how many augmented images are needed\n",
        "        num_augmented_images = target_num_images_per_class - num_images_in_class\n",
        "\n",
        "        # Sample from the pipeline to generate augmented images\n",
        "        p.sample(num_augmented_images)\n"
      ]
    },
    {
      "cell_type": "code",
      "execution_count": null,
      "metadata": {
        "colab": {
          "background_save": true
        },
        "id": "okZ9pU91Oz_o",
        "outputId": "43ae4adc-2d8d-4269-c3d4-9ac2dd991d33"
      },
      "outputs": [
        {
          "name": "stdout",
          "output_type": "stream",
          "text": [
            "Dataset organization completed.\n"
          ]
        }
      ],
      "source": [
        "import os\n",
        "import shutil\n",
        "\n",
        "# Define the source directory containing your dataset\n",
        "source_directory = \"/content/aug\"\n",
        "\n",
        "# Define the target directory where you want to organize the data into subdirectories\n",
        "target_directory = \"/content/aug_new\"\n",
        "\n",
        "# Create subdirectories for different age ranges\n",
        "for start_age in range(1, 95, 5):\n",
        "    end_age = start_age + 4\n",
        "    age_range_directory = os.path.join(target_directory, f\"Age_{start_age:03d}_{end_age:03d}\")\n",
        "\n",
        "    # Create the subdirectory if it doesn't exist\n",
        "    if not os.path.exists(age_range_directory):\n",
        "        os.makedirs(age_range_directory)\n",
        "\n",
        "# Loop through the class directories in the source directory\n",
        "for class_label in os.listdir(source_directory):\n",
        "    class_source_directory = os.path.join(source_directory, class_label)\n",
        "\n",
        "    # Check if the class label is a valid three-digit string (e.g., \"001\" to \"094\")\n",
        "    if len(class_label) == 3 and class_label.isdigit() and \"001\" <= class_label <= \"095\":\n",
        "        # Determine the age range subdirectory dynamically\n",
        "        class_age = int(class_label)\n",
        "        start_age = ((class_age - 1) // 5) * 5 + 1\n",
        "        end_age = start_age + 4\n",
        "        age_range_directory = os.path.join(target_directory, f\"Age_{start_age:03d}_{end_age:03d}\")\n",
        "\n",
        "        if os.path.exists(class_source_directory):\n",
        "            # Move the images from the source class directory to the target age range directory\n",
        "            for file in os.listdir(class_source_directory):\n",
        "                if file.lower().endswith(('.jpg', '.jpeg', '.png', '.gif', '.bmp')):\n",
        "                    source_file = os.path.join(class_source_directory, file)\n",
        "                    target_file = os.path.join(age_range_directory, file)\n",
        "                    shutil.move(source_file, target_file)\n",
        "\n",
        "print(\"Dataset organization completed.\")\n"
      ]
    },
    {
      "cell_type": "code",
      "execution_count": null,
      "metadata": {
        "colab": {
          "background_save": true
        },
        "id": "IxiFiihiWbaf",
        "outputId": "cc6e1820-5e18-49e9-d076-a3bbc08d4d90"
      },
      "outputs": [
        {
          "name": "stdout",
          "output_type": "stream",
          "text": [
            "Dataset organization completed.\n"
          ]
        }
      ],
      "source": [
        "import os\n",
        "import shutil\n",
        "\n",
        "# Define the source directory containing your dataset\n",
        "source_directory = \"/content/test\"\n",
        "\n",
        "# Define the target directory where you want to organize the data into subdirectories\n",
        "target_directory = \"/content/test_new\"\n",
        "\n",
        "# Create subdirectories for different age ranges\n",
        "for start_age in range(1, 95, 5):\n",
        "    end_age = start_age + 4\n",
        "    age_range_directory = os.path.join(target_directory, f\"Age_{start_age:03d}_{end_age:03d}\")\n",
        "\n",
        "    # Create the subdirectory if it doesn't exist\n",
        "    if not os.path.exists(age_range_directory):\n",
        "        os.makedirs(age_range_directory)\n",
        "\n",
        "# Loop through the class directories in the source directory\n",
        "for class_label in os.listdir(source_directory):\n",
        "    class_source_directory = os.path.join(source_directory, class_label)\n",
        "\n",
        "    # Check if the class label is a valid three-digit string (e.g., \"001\" to \"094\")\n",
        "    if len(class_label) == 3 and class_label.isdigit() and \"001\" <= class_label <= \"095\":\n",
        "        # Determine the age range subdirectory dynamically\n",
        "        class_age = int(class_label)\n",
        "        start_age = ((class_age - 1) // 5) * 5 + 1\n",
        "        end_age = start_age + 4\n",
        "        age_range_directory = os.path.join(target_directory, f\"Age_{start_age:03d}_{end_age:03d}\")\n",
        "\n",
        "        if os.path.exists(class_source_directory):\n",
        "            # Move the images from the source class directory to the target age range directory\n",
        "            for file in os.listdir(class_source_directory):\n",
        "                if file.lower().endswith(('.jpg', '.jpeg', '.png', '.gif', '.bmp')):\n",
        "                    source_file = os.path.join(class_source_directory, file)\n",
        "                    target_file = os.path.join(age_range_directory, file)\n",
        "                    shutil.move(source_file, target_file)\n",
        "\n",
        "print(\"Dataset organization completed.\")\n"
      ]
    },
    {
      "cell_type": "code",
      "execution_count": null,
      "metadata": {
        "colab": {
          "background_save": true
        },
        "id": "kX5Cd_fxdYKv",
        "outputId": "5e6d063b-bc50-49f2-b67b-18f2cce28984"
      },
      "outputs": [
        {
          "name": "stdout",
          "output_type": "stream",
          "text": [
            "There are 7 directories and 0 in aug_new\n",
            "There are 19 directories and 750 in aug_new/Age_066_070\n",
            "There are 19 directories and 750 in aug_new/Age_076_080\n",
            "There are 19 directories and 750 in aug_new/Age_011_015\n",
            "There are 19 directories and 750 in aug_new/Age_026_030\n",
            "There are 19 directories and 600 in aug_new/Age_091_095\n",
            "There are 19 directories and 750 in aug_new/Age_001_005\n",
            "There are 19 directories and 750 in aug_new/Age_061_065\n",
            "There are 19 directories and 750 in aug_new/Age_016_020\n",
            "There are 19 directories and 750 in aug_new/Age_006_010\n",
            "There are 19 directories and 750 in aug_new/Age_086_090\n",
            "There are 19 directories and 750 in aug_new/Age_051_055\n",
            "There are 19 directories and 750 in aug_new/Age_081_085\n",
            "There are 19 directories and 750 in aug_new/Age_041_045\n",
            "There are 19 directories and 750 in aug_new/Age_036_040\n",
            "There are 19 directories and 750 in aug_new/Age_046_050\n",
            "There are 19 directories and 750 in aug_new/Age_031_035\n",
            "There are 19 directories and 750 in aug_new/Age_071_075\n",
            "There are 19 directories and 750 in aug_new/Age_056_060\n",
            "There are 19 directories and 750 in aug_new/Age_021_025\n"
          ]
        }
      ],
      "source": [
        "for dirpath,dirnames,filenames in os.walk(\"aug_new\"):\n",
        "  print(f\"There are {len(dirpath)} directories and {len(filenames)} in {dirpath}\")"
      ]
    },
    {
      "cell_type": "code",
      "execution_count": null,
      "metadata": {
        "colab": {
          "background_save": true
        },
        "id": "dCSIT8sLfSPf"
      },
      "outputs": [],
      "source": [
        "train_dir = \"aug_new\"\n",
        "test_dir = \"test_new\""
      ]
    },
    {
      "cell_type": "code",
      "execution_count": null,
      "metadata": {
        "colab": {
          "background_save": true
        },
        "id": "woSlZUFZftBj",
        "outputId": "0cd533d4-a7bc-495b-b4c2-e4813309a669"
      },
      "outputs": [
        {
          "name": "stdout",
          "output_type": "stream",
          "text": [
            "Found 14100 files belonging to 19 classes.\n",
            "Found 2009 files belonging to 19 classes.\n"
          ]
        }
      ],
      "source": [
        "import tensorflow as tf\n",
        "IMG_SIZE = (200, 200) # define image size\n",
        "train_data = tf.keras.preprocessing.image_dataset_from_directory(directory=train_dir,\n",
        "                                                                            image_size=IMG_SIZE,\n",
        "                                                                            label_mode=\"categorical\", # what type are the labels?\n",
        "                                                                            batch_size=32) # batch_size is 32 by default, this is generally a good number\n",
        "test_data = tf.keras.preprocessing.image_dataset_from_directory(directory=test_dir,\n",
        "                                                                           image_size=IMG_SIZE,\n",
        "                                                                           label_mode=\"categorical\")\n"
      ]
    },
    {
      "cell_type": "code",
      "execution_count": null,
      "metadata": {
        "colab": {
          "background_save": true
        },
        "id": "b0r8ixUaf1g-",
        "outputId": "b7cbc23f-89a2-445f-8802-607665c0150f"
      },
      "outputs": [
        {
          "name": "stdout",
          "output_type": "stream",
          "text": [
            "Downloading data from https://storage.googleapis.com/tensorflow/keras-applications/efficientnet_v2/efficientnetv2-b0_notop.h5\n",
            "24274472/24274472 [==============================] - 0s 0us/step\n",
            "Shape after base_model: (None, 7, 7, 1280)\n",
            "After GlobalAveragePooling2D(): (None, 1280)\n",
            "Epoch 1/5\n",
            "441/441 [==============================] - 45s 69ms/step - loss: 2.3974 - accuracy: 0.2278 - val_loss: 1.9767 - val_accuracy: 0.3583\n",
            "Epoch 2/5\n",
            "441/441 [==============================] - 28s 63ms/step - loss: 2.1046 - accuracy: 0.3093 - val_loss: 1.8709 - val_accuracy: 0.3688\n",
            "Epoch 3/5\n",
            "441/441 [==============================] - 27s 60ms/step - loss: 1.9872 - accuracy: 0.3436 - val_loss: 1.8372 - val_accuracy: 0.3583\n",
            "Epoch 4/5\n",
            "227/441 [==============>...............] - ETA: 12s - loss: 1.9186 - accuracy: 0.3684"
          ]
        }
      ],
      "source": [
        "base_model = tf.keras.applications.efficientnet_v2.EfficientNetV2B0(include_top=False)\n",
        "base_model.trainable = False\n",
        "inputs = tf.keras.layers.Input(shape=(200, 200, 3), name=\"input_layer\")\n",
        "x = base_model(inputs)\n",
        "\n",
        "# Average pool the outputs of the base model (aggregate all the most important information, reduce number of computations)\n",
        "x = tf.keras.layers.GlobalAveragePooling2D(name=\"global_average_pooling_layer\")(x)\n",
        "\n",
        "outputs = tf.keras.layers.Dense(19, activation=\"softmax\", name=\"output_layer\")(x)\n",
        "\n",
        "model_0 = tf.keras.Model(inputs, outputs)\n",
        "model_0.compile(loss='categorical_crossentropy',\n",
        "              optimizer=tf.keras.optimizers.Adam(),\n",
        "              metrics=[\"accuracy\"])\n",
        "history = model_0.fit(train_data,\n",
        "                                 epochs=5,\n",
        "                                 steps_per_epoch=len(train_data),\n",
        "                                 validation_data=test_data,\n",
        "                                 validation_steps=int(0.25 * len(test_data)),\n",
        ")\n"
      ]
    },
    {
      "cell_type": "code",
      "execution_count": null,
      "metadata": {
        "id": "J57PAA0ilfe6"
      },
      "outputs": [],
      "source": []
    }
  ],
  "metadata": {
    "accelerator": "GPU",
    "colab": {
      "provenance": []
    },
    "kernelspec": {
      "display_name": "Python 3",
      "name": "python3"
    },
    "language_info": {
      "name": "python"
    }
  },
  "nbformat": 4,
  "nbformat_minor": 0
}