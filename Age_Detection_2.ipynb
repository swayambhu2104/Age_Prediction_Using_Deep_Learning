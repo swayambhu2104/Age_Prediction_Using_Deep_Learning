{
  "nbformat": 4,
  "nbformat_minor": 0,
  "metadata": {
    "colab": {
      "provenance": [],
      "gpuType": "T4"
    },
    "kernelspec": {
      "name": "python3",
      "display_name": "Python 3"
    },
    "language_info": {
      "name": "python"
    },
    "accelerator": "GPU"
  },
  "cells": [
    {
      "cell_type": "markdown",
      "source": [
        "# Age Detection Using Deep Neural Networks - 2 ( Using Computer Vision & Transfer Learning)\n",
        "\n"
      ],
      "metadata": {
        "id": "MKZTp9yo_qRz"
      }
    },
    {
      "cell_type": "markdown",
      "source": [
        "Import the required libraries"
      ],
      "metadata": {
        "id": "oG8yZGJmAFNl"
      }
    },
    {
      "cell_type": "code",
      "source": [
        "import zipfile\n",
        "import pathlib\n",
        "import os\n",
        "import random\n",
        "import numpy as np\n",
        "import pandas as pd\n",
        "import matplotlib.pyplot as plt\n",
        "import matplotlib.image as mpimg\n",
        "import tensorflow as tf\n",
        "from tensorflow.keras.layers import Dense, Conv2D, Flatten, MaxPool2D\n",
        "from tensorflow.keras.models import Sequential\n",
        "from tensorflow.keras.preprocessing.image import ImageDataGenerator\n",
        "from imblearn.over_sampling import RandomOverSampler"
      ],
      "metadata": {
        "id": "pDJzcDWAANts"
      },
      "execution_count": null,
      "outputs": []
    },
    {
      "cell_type": "markdown",
      "source": [
        "## 1. Import Data"
      ],
      "metadata": {
        "id": "8UPVV7r2AcnW"
      }
    },
    {
      "cell_type": "code",
      "source": [
        "# Let's unzip the file\n",
        "zip_ref = zipfile.ZipFile(\"/content/drive/MyDrive/split_dataset.zip\",\"r\")\n",
        "zip_ref.extractall()\n",
        "zip_ref.close()"
      ],
      "metadata": {
        "id": "fc4rcrgzAS-p"
      },
      "execution_count": null,
      "outputs": []
    },
    {
      "cell_type": "code",
      "source": [
        "# Walk through train directory and list number of files\n",
        "for dirpath, dirnames, filenames in os.walk(\"train\"):\n",
        "  print(f\"There are {len(dirnames)} directories and {len(filenames)} images in '{dirpath}'.\")"
      ],
      "metadata": {
        "colab": {
          "base_uri": "https://localhost:8080/"
        },
        "id": "aVtdjvYVAUbq",
        "outputId": "bd3742df-f3eb-4ab4-ae0b-b4d036ae9d61"
      },
      "execution_count": null,
      "outputs": [
        {
          "output_type": "stream",
          "name": "stdout",
          "text": [
            "There are 94 directories and 0 images in 'train'.\n",
            "There are 0 directories and 146 images in 'train/005'.\n",
            "There are 0 directories and 4 images in 'train/087'.\n",
            "There are 0 directories and 102 images in 'train/039'.\n",
            "There are 0 directories and 24 images in 'train/078'.\n",
            "There are 0 directories and 101 images in 'train/056'.\n",
            "There are 0 directories and 85 images in 'train/020'.\n",
            "There are 0 directories and 12 images in 'train/092'.\n",
            "There are 0 directories and 133 images in 'train/009'.\n",
            "There are 0 directories and 58 images in 'train/062'.\n",
            "There are 0 directories and 137 images in 'train/018'.\n",
            "There are 0 directories and 76 images in 'train/058'.\n",
            "There are 0 directories and 78 images in 'train/037'.\n",
            "There are 0 directories and 218 images in 'train/003'.\n",
            "There are 0 directories and 39 images in 'train/043'.\n",
            "There are 0 directories and 888 images in 'train/001'.\n",
            "There are 0 directories and 83 images in 'train/017'.\n",
            "There are 0 directories and 6 images in 'train/083'.\n",
            "There are 0 directories and 100 images in 'train/065'.\n",
            "There are 0 directories and 58 images in 'train/047'.\n",
            "There are 0 directories and 76 images in 'train/038'.\n",
            "There are 0 directories and 46 images in 'train/059'.\n",
            "There are 0 directories and 72 images in 'train/040'.\n",
            "There are 0 directories and 121 images in 'train/032'.\n",
            "There are 0 directories and 44 images in 'train/019'.\n",
            "There are 0 directories and 228 images in 'train/026'.\n",
            "There are 0 directories and 85 images in 'train/050'.\n",
            "There are 0 directories and 25 images in 'train/064'.\n",
            "There are 0 directories and 109 images in 'train/010'.\n",
            "There are 0 directories and 113 images in 'train/022'.\n",
            "There are 0 directories and 37 images in 'train/070'.\n",
            "There are 0 directories and 51 images in 'train/046'.\n",
            "There are 0 directories and 17 images in 'train/086'.\n",
            "There are 0 directories and 50 images in 'train/051'.\n",
            "There are 0 directories and 69 images in 'train/042'.\n",
            "There are 0 directories and 13 images in 'train/089'.\n",
            "There are 0 directories and 62 images in 'train/045'.\n",
            "There are 0 directories and 106 images in 'train/060'.\n",
            "There are 0 directories and 42 images in 'train/066'.\n",
            "There are 0 directories and 43 images in 'train/063'.\n",
            "There are 0 directories and 31 images in 'train/067'.\n",
            "There are 0 directories and 105 images in 'train/053'.\n",
            "There are 0 directories and 85 images in 'train/006'.\n",
            "There are 0 directories and 16 images in 'train/088'.\n",
            "There are 0 directories and 108 images in 'train/052'.\n",
            "There are 0 directories and 16 images in 'train/074'.\n",
            "There are 0 directories and 75 images in 'train/023'.\n",
            "There are 0 directories and 118 images in 'train/021'.\n",
            "There are 0 directories and 3 images in 'train/095'.\n",
            "There are 0 directories and 85 images in 'train/012'.\n",
            "There are 0 directories and 115 images in 'train/015'.\n",
            "There are 0 directories and 370 images in 'train/002'.\n",
            "There are 0 directories and 194 images in 'train/008'.\n",
            "There are 0 directories and 1 images in 'train/091'.\n",
            "There are 0 directories and 84 images in 'train/049'.\n",
            "There are 0 directories and 124 images in 'train/025'.\n",
            "There are 0 directories and 93 images in 'train/030'.\n",
            "There are 0 directories and 3 images in 'train/093'.\n",
            "There are 0 directories and 50 images in 'train/090'.\n",
            "There are 0 directories and 9 images in 'train/081'.\n",
            "There are 0 directories and 26 images in 'train/073'.\n",
            "There are 0 directories and 111 images in 'train/028'.\n",
            "There are 0 directories and 60 images in 'train/013'.\n",
            "There are 0 directories and 50 images in 'train/048'.\n",
            "There are 0 directories and 108 images in 'train/029'.\n",
            "There are 0 directories and 101 images in 'train/007'.\n",
            "There are 0 directories and 24 images in 'train/082'.\n",
            "There are 0 directories and 14 images in 'train/079'.\n",
            "There are 0 directories and 211 images in 'train/004'.\n",
            "There are 0 directories and 69 images in 'train/034'.\n",
            "There are 0 directories and 80 images in 'train/054'.\n",
            "There are 0 directories and 71 images in 'train/075'.\n",
            "There are 0 directories and 52 images in 'train/011'.\n",
            "There are 0 directories and 57 images in 'train/072'.\n",
            "There are 0 directories and 58 images in 'train/080'.\n",
            "There are 0 directories and 20 images in 'train/044'.\n",
            "There are 0 directories and 46 images in 'train/041'.\n",
            "There are 0 directories and 43 images in 'train/061'.\n",
            "There are 0 directories and 89 images in 'train/036'.\n",
            "There are 0 directories and 46 images in 'train/055'.\n",
            "There are 0 directories and 37 images in 'train/069'.\n",
            "There are 0 directories and 96 images in 'train/027'.\n",
            "There are 0 directories and 14 images in 'train/077'.\n",
            "There are 0 directories and 96 images in 'train/035'.\n",
            "There are 0 directories and 78 images in 'train/031'.\n",
            "There are 0 directories and 24 images in 'train/076'.\n",
            "There are 0 directories and 18 images in 'train/071'.\n",
            "There are 0 directories and 149 images in 'train/024'.\n",
            "There are 0 directories and 163 images in 'train/016'.\n",
            "There are 0 directories and 43 images in 'train/057'.\n",
            "There are 0 directories and 117 images in 'train/085'.\n",
            "There are 0 directories and 110 images in 'train/014'.\n",
            "There are 0 directories and 36 images in 'train/033'.\n",
            "There are 0 directories and 10 images in 'train/084'.\n",
            "There are 0 directories and 44 images in 'train/068'.\n"
          ]
        }
      ]
    },
    {
      "cell_type": "code",
      "source": [
        "# Walk through test directory and list number of files\n",
        "for dirpath, dirnames, filenames in os.walk(\"test\"):\n",
        "  print(f\"There are {len(dirnames)} directories and {len(filenames)} images in '{dirpath}'.\")"
      ],
      "metadata": {
        "colab": {
          "base_uri": "https://localhost:8080/"
        },
        "id": "FLkR71TGAaPh",
        "outputId": "b3cb3e32-336f-4e56-d258-289a29a4a6d6"
      },
      "execution_count": null,
      "outputs": [
        {
          "output_type": "stream",
          "name": "stdout",
          "text": [
            "There are 94 directories and 0 images in 'test'.\n",
            "There are 0 directories and 34 images in 'test/005'.\n",
            "There are 0 directories and 0 images in 'test/087'.\n",
            "There are 0 directories and 34 images in 'test/039'.\n",
            "There are 0 directories and 6 images in 'test/078'.\n",
            "There are 0 directories and 31 images in 'test/056'.\n",
            "There are 0 directories and 18 images in 'test/020'.\n",
            "There are 0 directories and 1 images in 'test/092'.\n",
            "There are 0 directories and 26 images in 'test/009'.\n",
            "There are 0 directories and 18 images in 'test/062'.\n",
            "There are 0 directories and 44 images in 'test/018'.\n",
            "There are 0 directories and 20 images in 'test/058'.\n",
            "There are 0 directories and 16 images in 'test/037'.\n",
            "There are 0 directories and 66 images in 'test/003'.\n",
            "There are 0 directories and 13 images in 'test/043'.\n",
            "There are 0 directories and 224 images in 'test/001'.\n",
            "There are 0 directories and 20 images in 'test/017'.\n",
            "There are 0 directories and 1 images in 'test/083'.\n",
            "There are 0 directories and 13 images in 'test/065'.\n",
            "There are 0 directories and 12 images in 'test/047'.\n",
            "There are 0 directories and 15 images in 'test/038'.\n",
            "There are 0 directories and 13 images in 'test/059'.\n",
            "There are 0 directories and 13 images in 'test/040'.\n",
            "There are 0 directories and 20 images in 'test/032'.\n",
            "There are 0 directories and 14 images in 'test/019'.\n",
            "There are 0 directories and 51 images in 'test/026'.\n",
            "There are 0 directories and 20 images in 'test/050'.\n",
            "There are 0 directories and 4 images in 'test/064'.\n",
            "There are 0 directories and 31 images in 'test/010'.\n",
            "There are 0 directories and 26 images in 'test/022'.\n",
            "There are 0 directories and 16 images in 'test/070'.\n",
            "There are 0 directories and 10 images in 'test/046'.\n",
            "There are 0 directories and 5 images in 'test/086'.\n",
            "There are 0 directories and 12 images in 'test/051'.\n",
            "There are 0 directories and 15 images in 'test/042'.\n",
            "There are 0 directories and 3 images in 'test/089'.\n",
            "There are 0 directories and 15 images in 'test/045'.\n",
            "There are 0 directories and 31 images in 'test/060'.\n",
            "There are 0 directories and 12 images in 'test/066'.\n",
            "There are 0 directories and 4 images in 'test/063'.\n",
            "There are 0 directories and 16 images in 'test/067'.\n",
            "There are 0 directories and 28 images in 'test/053'.\n",
            "There are 0 directories and 29 images in 'test/006'.\n",
            "There are 0 directories and 1 images in 'test/088'.\n",
            "There are 0 directories and 25 images in 'test/052'.\n",
            "There are 0 directories and 0 images in 'test/074'.\n",
            "There are 0 directories and 17 images in 'test/023'.\n",
            "There are 0 directories and 18 images in 'test/021'.\n",
            "There are 0 directories and 0 images in 'test/095'.\n",
            "There are 0 directories and 21 images in 'test/012'.\n",
            "There are 0 directories and 28 images in 'test/015'.\n",
            "There are 0 directories and 105 images in 'test/002'.\n",
            "There are 0 directories and 42 images in 'test/008'.\n",
            "There are 0 directories and 0 images in 'test/091'.\n",
            "There are 0 directories and 15 images in 'test/049'.\n",
            "There are 0 directories and 32 images in 'test/025'.\n",
            "There are 0 directories and 16 images in 'test/030'.\n",
            "There are 0 directories and 0 images in 'test/093'.\n",
            "There are 0 directories and 5 images in 'test/090'.\n",
            "There are 0 directories and 1 images in 'test/081'.\n",
            "There are 0 directories and 5 images in 'test/073'.\n",
            "There are 0 directories and 34 images in 'test/028'.\n",
            "There are 0 directories and 15 images in 'test/013'.\n",
            "There are 0 directories and 14 images in 'test/048'.\n",
            "There are 0 directories and 42 images in 'test/029'.\n",
            "There are 0 directories and 25 images in 'test/007'.\n",
            "There are 0 directories and 5 images in 'test/082'.\n",
            "There are 0 directories and 2 images in 'test/079'.\n",
            "There are 0 directories and 49 images in 'test/004'.\n",
            "There are 0 directories and 18 images in 'test/034'.\n",
            "There are 0 directories and 26 images in 'test/054'.\n",
            "There are 0 directories and 16 images in 'test/075'.\n",
            "There are 0 directories and 11 images in 'test/011'.\n",
            "There are 0 directories and 13 images in 'test/072'.\n",
            "There are 0 directories and 13 images in 'test/080'.\n",
            "There are 0 directories and 7 images in 'test/044'.\n",
            "There are 0 directories and 10 images in 'test/041'.\n",
            "There are 0 directories and 7 images in 'test/061'.\n",
            "There are 0 directories and 23 images in 'test/036'.\n",
            "There are 0 directories and 6 images in 'test/055'.\n",
            "There are 0 directories and 8 images in 'test/069'.\n",
            "There are 0 directories and 30 images in 'test/027'.\n",
            "There are 0 directories and 5 images in 'test/077'.\n",
            "There are 0 directories and 25 images in 'test/035'.\n",
            "There are 0 directories and 19 images in 'test/031'.\n",
            "There are 0 directories and 11 images in 'test/076'.\n",
            "There are 0 directories and 4 images in 'test/071'.\n",
            "There are 0 directories and 42 images in 'test/024'.\n",
            "There are 0 directories and 49 images in 'test/016'.\n",
            "There are 0 directories and 17 images in 'test/057'.\n",
            "There are 0 directories and 13 images in 'test/085'.\n",
            "There are 0 directories and 27 images in 'test/014'.\n",
            "There are 0 directories and 10 images in 'test/033'.\n",
            "There are 0 directories and 1 images in 'test/084'.\n",
            "There are 0 directories and 14 images in 'test/068'.\n"
          ]
        }
      ]
    },
    {
      "cell_type": "code",
      "source": [
        "# Setup train and test dirs\n",
        "train_dir = \"train\"\n",
        "test_dir = \"test\""
      ],
      "metadata": {
        "id": "2O3QajkpAnBf"
      },
      "execution_count": null,
      "outputs": []
    },
    {
      "cell_type": "code",
      "source": [
        "# Checking the classes\n",
        "data_dir = pathlib.Path(train_dir)\n",
        "class_names = np.array(sorted([item.name for item in data_dir.glob('*')]))\n",
        "print(class_names)"
      ],
      "metadata": {
        "colab": {
          "base_uri": "https://localhost:8080/"
        },
        "id": "St3zoAPwAtRJ",
        "outputId": "f81af057-eee3-4ad5-ad52-87364dd823df"
      },
      "execution_count": null,
      "outputs": [
        {
          "output_type": "stream",
          "name": "stdout",
          "text": [
            "['001' '002' '003' '004' '005' '006' '007' '008' '009' '010' '011' '012'\n",
            " '013' '014' '015' '016' '017' '018' '019' '020' '021' '022' '023' '024'\n",
            " '025' '026' '027' '028' '029' '030' '031' '032' '033' '034' '035' '036'\n",
            " '037' '038' '039' '040' '041' '042' '043' '044' '045' '046' '047' '048'\n",
            " '049' '050' '051' '052' '053' '054' '055' '056' '057' '058' '059' '060'\n",
            " '061' '062' '063' '064' '065' '066' '067' '068' '069' '070' '071' '072'\n",
            " '073' '074' '075' '076' '077' '078' '079' '080' '081' '082' '083' '084'\n",
            " '085' '086' '087' '088' '089' '090' '091' '092' '093' '095']\n"
          ]
        }
      ]
    },
    {
      "cell_type": "code",
      "source": [
        "len(class_names)"
      ],
      "metadata": {
        "colab": {
          "base_uri": "https://localhost:8080/"
        },
        "id": "Z7ZNKpq3AzlD",
        "outputId": "8b7951cd-709f-4278-a574-8952ab7eeaae"
      },
      "execution_count": null,
      "outputs": [
        {
          "output_type": "execute_result",
          "data": {
            "text/plain": [
              "94"
            ]
          },
          "metadata": {},
          "execution_count": 7
        }
      ]
    },
    {
      "cell_type": "code",
      "source": [
        "# Let's view some random images of our image dataset\n",
        "def view_random_image(target_dir, target_class):\n",
        "  # Setup target directory\n",
        "  target_folder = target_dir + '/' + target_class\n",
        "\n",
        "  # Get a random image path\n",
        "  random_image = random.sample(os.listdir(target_folder), 1)\n",
        "\n",
        "  # Read in the image and plot it using matplotlib\n",
        "  img = mpimg.imread(target_folder + \"/\" + random_image[0])\n",
        "  plt.imshow(img)\n",
        "  plt.title(target_class)\n",
        "  plt.axis(\"off\");\n",
        "\n",
        "  print(f\"Image shape: {img.shape}\") # show the shape of the image\n",
        "\n",
        "  return img"
      ],
      "metadata": {
        "id": "xgTiRcRdA1gd"
      },
      "execution_count": null,
      "outputs": []
    },
    {
      "cell_type": "code",
      "source": [
        "img = view_random_image(target_dir=\"train\",\n",
        "                  target_class=random.choice(class_names))\n"
      ],
      "metadata": {
        "colab": {
          "base_uri": "https://localhost:8080/",
          "height": 445
        },
        "id": "QVEByBjJBAZw",
        "outputId": "599635c6-42d2-4396-a107-2c9dd3063f68"
      },
      "execution_count": null,
      "outputs": [
        {
          "output_type": "stream",
          "name": "stdout",
          "text": [
            "Image shape: (200, 200, 3)\n"
          ]
        },
        {
          "output_type": "display_data",
          "data": {
            "text/plain": [
              "<Figure size 640x480 with 1 Axes>"
            ],
            "image/png": "[encoded data removed]"
          },
          "metadata": {}
        }
      ]
    },
    {
      "cell_type": "markdown",
      "source": [
        "## 2. Preprocess the data"
      ],
      "metadata": {
        "id": "YGD6AhYpBB0X"
      }
    },
    {
      "cell_type": "code",
      "source": [
        "# Setting up data generators\n",
        "train_datagen = ImageDataGenerator(rescale=1/255.)\n",
        "test_datagen = ImageDataGenerator(rescale=1/255.)\n",
        "\n",
        "# Creating train and test data for our model\n",
        "train_data = train_datagen.flow_from_directory(train_dir,\n",
        "                                               target_size=(200, 200),\n",
        "                                               batch_size=16,\n",
        "                                               class_mode='categorical')\n",
        "\n",
        "test_data = train_datagen.flow_from_directory(test_dir,\n",
        "                                              target_size=(200, 200),\n",
        "                                              batch_size=16,\n",
        "                                              class_mode='categorical')"
      ],
      "metadata": {
        "colab": {
          "base_uri": "https://localhost:8080/"
        },
        "id": "wIgOQaEbBHiI",
        "outputId": "3c7d38bd-a3f4-4c5f-be21-42b84b729503"
      },
      "execution_count": null,
      "outputs": [
        {
          "output_type": "stream",
          "name": "stdout",
          "text": [
            "Found 7813 images belonging to 94 classes.\n",
            "Found 1942 images belonging to 94 classes.\n"
          ]
        }
      ]
    },
    {
      "cell_type": "markdown",
      "source": [
        "## Create Model"
      ],
      "metadata": {
        "id": "fKZ1OH2TJPTx"
      }
    },
    {
      "cell_type": "code",
      "source": [
        "# Let's create a baseline model\n",
        "# Create a model\n",
        "model_1 = Sequential([\n",
        "    Conv2D(64,5,activation=\"relu\",input_shape=(200,200,3)),\n",
        "    Conv2D(64,5,activation=\"relu\"),\n",
        "    MaxPool2D(),\n",
        "    Conv2D(64,5,activation=\"relu\"),\n",
        "    Conv2D(64,5,activation=\"relu\"),\n",
        "    MaxPool2D(),\n",
        "    Flatten(),\n",
        "    Dense(94,activation = \"softmax\")\n",
        "])\n",
        "\n",
        "# Compile the model\n",
        "model_1.compile(loss=\"categorical_crossentropy\",\n",
        "                optimizer=tf.keras.optimizers.Adam(),\n",
        "                metrics=[\"accuracy\"])\n",
        "\n",
        "# Fit the model\n",
        "model_1.fit(train_data,\n",
        "            epochs=5,\n",
        "            steps_per_epoch=len(train_data),\n",
        "            validation_data=test_data,\n",
        "            validation_steps=len(test_data))\n"
      ],
      "metadata": {
        "colab": {
          "base_uri": "https://localhost:8080/"
        },
        "id": "sMdhdetdBRKw",
        "outputId": "8ba30172-7c1c-401e-b1f3-29c19d26790e"
      },
      "execution_count": null,
      "outputs": [
        {
          "output_type": "stream",
          "name": "stdout",
          "text": [
            "Epoch 1/5\n",
            "489/489 [==============================] - 75s 111ms/step - loss: 4.1618 - accuracy: 0.1124 - val_loss: 4.0393 - val_accuracy: 0.1246\n",
            "Epoch 2/5\n",
            "489/489 [==============================] - 49s 100ms/step - loss: 3.9010 - accuracy: 0.1327 - val_loss: 3.7752 - val_accuracy: 0.1359\n",
            "Epoch 3/5\n",
            "489/489 [==============================] - 51s 105ms/step - loss: 3.4229 - accuracy: 0.1801 - val_loss: 3.6855 - val_accuracy: 0.1514\n",
            "Epoch 4/5\n",
            "489/489 [==============================] - 46s 94ms/step - loss: 2.7547 - accuracy: 0.2949 - val_loss: 3.8918 - val_accuracy: 0.1416\n",
            "Epoch 5/5\n",
            "489/489 [==============================] - 51s 104ms/step - loss: 1.9018 - accuracy: 0.4906 - val_loss: 4.7928 - val_accuracy: 0.1607\n"
          ]
        },
        {
          "output_type": "execute_result",
          "data": {
            "text/plain": [
              "<keras.src.callbacks.History at 0x7a1b5278b100>"
            ]
          },
          "metadata": {},
          "execution_count": 11
        }
      ]
    },
    {
      "cell_type": "markdown",
      "source": [
        "The model is overfitting the data too much....Let's reduce the overfitting by decreasing the number of filters and augmenting the data"
      ],
      "metadata": {
        "id": "yJybmkZeBrlY"
      }
    },
    {
      "cell_type": "markdown",
      "source": [
        "## Data Augmentation"
      ],
      "metadata": {
        "id": "FboxEQNVJSBC"
      }
    },
    {
      "cell_type": "code",
      "source": [
        "train_datagen_augmented = ImageDataGenerator(rescale=1/255.,\n",
        "                                             rotation_range=20, # note: this is an int not a float\n",
        "                                             width_shift_range=0.2,\n",
        "                                             height_shift_range=0.2,\n",
        "                                             zoom_range=0.2,\n",
        "                                             horizontal_flip=True)\n",
        "\n",
        "train_data_augmented = train_datagen_augmented.flow_from_directory(train_dir,\n",
        "                                              target_size=(200, 200),\n",
        "                                              batch_size=16,\n",
        "                                              class_mode='categorical')"
      ],
      "metadata": {
        "colab": {
          "base_uri": "https://localhost:8080/"
        },
        "id": "Bi7nT1h_Bsgh",
        "outputId": "ea16f067-1a00-4615-b9ff-20557eed8313"
      },
      "execution_count": null,
      "outputs": [
        {
          "output_type": "stream",
          "name": "stdout",
          "text": [
            "Found 7813 images belonging to 94 classes.\n"
          ]
        }
      ]
    },
    {
      "cell_type": "code",
      "source": [
        "# Create a model\n",
        "model_2 = Sequential([\n",
        "    Conv2D(32,3,activation=\"relu\",input_shape=(200,200,3)),\n",
        "    Conv2D(32,3,activation=\"relu\"),\n",
        "    MaxPool2D(),\n",
        "    Conv2D(32,3,activation=\"relu\"),\n",
        "    Conv2D(32,3,activation=\"relu\"),\n",
        "    MaxPool2D(),\n",
        "    Flatten(),\n",
        "    Dense(94,activation = \"softmax\")\n",
        "])\n",
        "\n",
        "# Compile the model\n",
        "model_2.compile(loss=\"categorical_crossentropy\",\n",
        "                optimizer=tf.keras.optimizers.Adam(),\n",
        "                metrics=[\"accuracy\"])\n",
        "\n",
        "# Fit the model\n",
        "history_2 = model_2.fit(train_data_augmented,\n",
        "            epochs=5,\n",
        "            steps_per_epoch=len(train_data_augmented),\n",
        "            validation_data=test_data,\n",
        "            validation_steps=len(test_data))\n"
      ],
      "metadata": {
        "colab": {
          "base_uri": "https://localhost:8080/"
        },
        "id": "YSSQXjNuBvs2",
        "outputId": "85a6b8d4-4eb5-441c-9311-edc73354064d"
      },
      "execution_count": null,
      "outputs": [
        {
          "output_type": "stream",
          "name": "stdout",
          "text": [
            "Epoch 1/5\n",
            "489/489 [==============================] - 127s 253ms/step - loss: 4.1416 - accuracy: 0.1154 - val_loss: 3.9941 - val_accuracy: 0.1251\n",
            "Epoch 2/5\n",
            "489/489 [==============================] - 106s 218ms/step - loss: 4.0383 - accuracy: 0.1206 - val_loss: 4.0466 - val_accuracy: 0.1210\n",
            "Epoch 3/5\n",
            "489/489 [==============================] - 111s 227ms/step - loss: 4.0230 - accuracy: 0.1216 - val_loss: 3.9252 - val_accuracy: 0.1236\n",
            "Epoch 4/5\n",
            "489/489 [==============================] - 114s 234ms/step - loss: 3.9992 - accuracy: 0.1258 - val_loss: 3.9506 - val_accuracy: 0.1292\n",
            "Epoch 5/5\n",
            "489/489 [==============================] - 115s 234ms/step - loss: 3.9708 - accuracy: 0.1257 - val_loss: 3.8903 - val_accuracy: 0.1298\n"
          ]
        }
      ]
    },
    {
      "cell_type": "code",
      "source": [
        "def plot_loss_curves(history):\n",
        "\n",
        "  loss = history.history['loss']\n",
        "  val_loss = history.history['val_loss']\n",
        "\n",
        "  accuracy = history.history['accuracy']\n",
        "  val_accuracy = history.history['val_accuracy']\n",
        "\n",
        "  epochs = range(len(history.history['loss']))\n",
        "\n",
        "  # Plot loss\n",
        "  plt.plot(epochs, loss, label='training_loss')\n",
        "  plt.plot(epochs, val_loss, label='val_loss')\n",
        "  plt.title('Loss')\n",
        "  plt.xlabel('Epochs')\n",
        "  plt.legend()\n",
        "\n",
        "  # Plot accuracy\n",
        "  plt.figure()\n",
        "  plt.plot(epochs, accuracy, label='training_accuracy')\n",
        "  plt.plot(epochs, val_accuracy, label='val_accuracy')\n",
        "  plt.title('Accuracy')\n",
        "  plt.xlabel('Epochs')\n",
        "  plt.legend();\n"
      ],
      "metadata": {
        "id": "6PdaZSLDDS6z"
      },
      "execution_count": null,
      "outputs": []
    },
    {
      "cell_type": "code",
      "source": [
        "# Check out the loss curves\n",
        "plot_loss_curves(history_2)"
      ],
      "metadata": {
        "colab": {
          "base_uri": "https://localhost:8080/",
          "height": 927
        },
        "id": "e21k98sLDUXc",
        "outputId": "636d4875-3210-4ec3-c9b9-b3b48b791556"
      },
      "execution_count": null,
      "outputs": [
        {
          "output_type": "display_data",
          "data": {
            "text/plain": [
              "<Figure size 640x480 with 1 Axes>"
            ],
            "image/png": "[encoded data removed]"
          },
          "metadata": {}
        },
        {
          "output_type": "display_data",
          "data": {
            "text/plain": [
              "<Figure size 640x480 with 1 Axes>"
            ],
            "image/png": "[encoded data removed]"
          },
          "metadata": {}
        }
      ]
    },
    {
      "cell_type": "markdown",
      "source": [
        "Even after augmenting the data, the model is performing poorly. Let's review the data"
      ],
      "metadata": {
        "id": "dvfLYR20B1Mk"
      }
    },
    {
      "cell_type": "code",
      "source": [
        "# Walk through train directory and list number of files\n",
        "for dirpath, dirnames, filenames in os.walk(\"train\"):\n",
        "  print(f\"There are {len(dirnames)} directories and {len(filenames)} images in '{dirpath}'.\")"
      ],
      "metadata": {
        "colab": {
          "base_uri": "https://localhost:8080/"
        },
        "id": "xt57PwSPCE-j",
        "outputId": "5d1cabd0-a921-475c-f7eb-e294fbd8155a"
      },
      "execution_count": null,
      "outputs": [
        {
          "output_type": "stream",
          "name": "stdout",
          "text": [
            "There are 94 directories and 0 images in 'train'.\n",
            "There are 0 directories and 146 images in 'train/005'.\n",
            "There are 0 directories and 4 images in 'train/087'.\n",
            "There are 0 directories and 102 images in 'train/039'.\n",
            "There are 0 directories and 24 images in 'train/078'.\n",
            "There are 0 directories and 101 images in 'train/056'.\n",
            "There are 0 directories and 85 images in 'train/020'.\n",
            "There are 0 directories and 12 images in 'train/092'.\n",
            "There are 0 directories and 133 images in 'train/009'.\n",
            "There are 0 directories and 58 images in 'train/062'.\n",
            "There are 0 directories and 137 images in 'train/018'.\n",
            "There are 0 directories and 76 images in 'train/058'.\n",
            "There are 0 directories and 78 images in 'train/037'.\n",
            "There are 0 directories and 218 images in 'train/003'.\n",
            "There are 0 directories and 39 images in 'train/043'.\n",
            "There are 0 directories and 888 images in 'train/001'.\n",
            "There are 0 directories and 83 images in 'train/017'.\n",
            "There are 0 directories and 6 images in 'train/083'.\n",
            "There are 0 directories and 100 images in 'train/065'.\n",
            "There are 0 directories and 58 images in 'train/047'.\n",
            "There are 0 directories and 76 images in 'train/038'.\n",
            "There are 0 directories and 46 images in 'train/059'.\n",
            "There are 0 directories and 72 images in 'train/040'.\n",
            "There are 0 directories and 121 images in 'train/032'.\n",
            "There are 0 directories and 44 images in 'train/019'.\n",
            "There are 0 directories and 228 images in 'train/026'.\n",
            "There are 0 directories and 85 images in 'train/050'.\n",
            "There are 0 directories and 25 images in 'train/064'.\n",
            "There are 0 directories and 109 images in 'train/010'.\n",
            "There are 0 directories and 113 images in 'train/022'.\n",
            "There are 0 directories and 37 images in 'train/070'.\n",
            "There are 0 directories and 51 images in 'train/046'.\n",
            "There are 0 directories and 17 images in 'train/086'.\n",
            "There are 0 directories and 50 images in 'train/051'.\n",
            "There are 0 directories and 69 images in 'train/042'.\n",
            "There are 0 directories and 13 images in 'train/089'.\n",
            "There are 0 directories and 62 images in 'train/045'.\n",
            "There are 0 directories and 106 images in 'train/060'.\n",
            "There are 0 directories and 42 images in 'train/066'.\n",
            "There are 0 directories and 43 images in 'train/063'.\n",
            "There are 0 directories and 31 images in 'train/067'.\n",
            "There are 0 directories and 105 images in 'train/053'.\n",
            "There are 0 directories and 85 images in 'train/006'.\n",
            "There are 0 directories and 16 images in 'train/088'.\n",
            "There are 0 directories and 108 images in 'train/052'.\n",
            "There are 0 directories and 16 images in 'train/074'.\n",
            "There are 0 directories and 75 images in 'train/023'.\n",
            "There are 0 directories and 118 images in 'train/021'.\n",
            "There are 0 directories and 3 images in 'train/095'.\n",
            "There are 0 directories and 85 images in 'train/012'.\n",
            "There are 0 directories and 115 images in 'train/015'.\n",
            "There are 0 directories and 370 images in 'train/002'.\n",
            "There are 0 directories and 194 images in 'train/008'.\n",
            "There are 0 directories and 1 images in 'train/091'.\n",
            "There are 0 directories and 84 images in 'train/049'.\n",
            "There are 0 directories and 124 images in 'train/025'.\n",
            "There are 0 directories and 93 images in 'train/030'.\n",
            "There are 0 directories and 3 images in 'train/093'.\n",
            "There are 0 directories and 50 images in 'train/090'.\n",
            "There are 0 directories and 9 images in 'train/081'.\n",
            "There are 0 directories and 26 images in 'train/073'.\n",
            "There are 0 directories and 111 images in 'train/028'.\n",
            "There are 0 directories and 60 images in 'train/013'.\n",
            "There are 0 directories and 50 images in 'train/048'.\n",
            "There are 0 directories and 108 images in 'train/029'.\n",
            "There are 0 directories and 101 images in 'train/007'.\n",
            "There are 0 directories and 24 images in 'train/082'.\n",
            "There are 0 directories and 14 images in 'train/079'.\n",
            "There are 0 directories and 211 images in 'train/004'.\n",
            "There are 0 directories and 69 images in 'train/034'.\n",
            "There are 0 directories and 80 images in 'train/054'.\n",
            "There are 0 directories and 71 images in 'train/075'.\n",
            "There are 0 directories and 52 images in 'train/011'.\n",
            "There are 0 directories and 57 images in 'train/072'.\n",
            "There are 0 directories and 58 images in 'train/080'.\n",
            "There are 0 directories and 20 images in 'train/044'.\n",
            "There are 0 directories and 46 images in 'train/041'.\n",
            "There are 0 directories and 43 images in 'train/061'.\n",
            "There are 0 directories and 89 images in 'train/036'.\n",
            "There are 0 directories and 46 images in 'train/055'.\n",
            "There are 0 directories and 37 images in 'train/069'.\n",
            "There are 0 directories and 96 images in 'train/027'.\n",
            "There are 0 directories and 14 images in 'train/077'.\n",
            "There are 0 directories and 96 images in 'train/035'.\n",
            "There are 0 directories and 78 images in 'train/031'.\n",
            "There are 0 directories and 24 images in 'train/076'.\n",
            "There are 0 directories and 18 images in 'train/071'.\n",
            "There are 0 directories and 149 images in 'train/024'.\n",
            "There are 0 directories and 163 images in 'train/016'.\n",
            "There are 0 directories and 43 images in 'train/057'.\n",
            "There are 0 directories and 117 images in 'train/085'.\n",
            "There are 0 directories and 110 images in 'train/014'.\n",
            "There are 0 directories and 36 images in 'train/033'.\n",
            "There are 0 directories and 10 images in 'train/084'.\n",
            "There are 0 directories and 44 images in 'train/068'.\n"
          ]
        }
      ]
    },
    {
      "cell_type": "markdown",
      "source": [
        "As we can see we have a lot of class imbalance. Some classes have more than 500 images while some have less than 10. Let's try to eliminate this class difference by oversampling and undersampling"
      ],
      "metadata": {
        "id": "BtVllk96CIHY"
      }
    },
    {
      "cell_type": "markdown",
      "source": [
        "## Undersampling and Oversampling data to remove class imbalance"
      ],
      "metadata": {
        "id": "CBhrgnpWETSd"
      }
    },
    {
      "cell_type": "code",
      "source": [
        "!pip install opencv-python-headless\n",
        "!pip install Augmentor"
      ],
      "metadata": {
        "colab": {
          "base_uri": "https://localhost:8080/"
        },
        "id": "RfaFxWiuEoGz",
        "outputId": "5775e716-5eda-4906-8a7a-e45ca166c344"
      },
      "execution_count": null,
      "outputs": [
        {
          "output_type": "stream",
          "name": "stdout",
          "text": [
            "Requirement already satisfied: opencv-python-headless in /usr/local/lib/python3.10/dist-packages (4.8.1.78)\n",
            "Requirement already satisfied: numpy>=1.21.2 in /usr/local/lib/python3.10/dist-packages (from opencv-python-headless) (1.23.5)\n",
            "Collecting Augmentor\n",
            "  Downloading Augmentor-0.2.12-py2.py3-none-any.whl (38 kB)\n",
            "Requirement already satisfied: Pillow>=5.2.0 in /usr/local/lib/python3.10/dist-packages (from Augmentor) (9.4.0)\n",
            "Requirement already satisfied: tqdm>=4.9.0 in /usr/local/lib/python3.10/dist-packages (from Augmentor) (4.66.1)\n",
            "Requirement already satisfied: numpy>=1.11.0 in /usr/local/lib/python3.10/dist-packages (from Augmentor) (1.23.5)\n",
            "Installing collected packages: Augmentor\n",
            "Successfully installed Augmentor-0.2.12\n"
          ]
        }
      ]
    },
    {
      "cell_type": "code",
      "source": [
        "import Augmentor\n",
        "\n",
        "# Creating data dirs\n",
        "input_directory = \"/content/train\"\n",
        "output_root_directory = \"/content/augmented_dataset\"\n",
        "target_num_images_per_class = 150  # Desired number of images per class\n",
        "\n",
        "# Creating the output root directory\n",
        "os.makedirs(output_root_directory, exist_ok=True)\n",
        "\n",
        "class_directories = os.listdir(input_directory)\n",
        "\n",
        "# Iterating through each class directory\n",
        "for class_dir in class_directories:\n",
        "    class_path = os.path.join(input_directory, class_dir)\n",
        "\n",
        "    image_files = [os.path.join(class_path, filename) for filename in os.listdir(class_path) if filename.endswith(\".jpg\")]\n",
        "\n",
        "    # Calculate the number of images in this class\n",
        "    num_images_in_class = len(image_files)\n",
        "\n",
        "    # Determine how many images to sample or augment to reach the target count\n",
        "    if num_images_in_class < target_num_images_per_class:\n",
        "        # Create an Augmentor pipeline for this class\n",
        "        p = Augmentor.Pipeline(class_path, output_directory=os.path.join(output_root_directory, class_dir))\n",
        "\n",
        "        # Define your augmentation operations here\n",
        "        p.rotate(probability=0.7, max_left_rotation=25, max_right_rotation=25)\n",
        "        p.flip_left_right(probability=0.5)\n",
        "        p.zoom_random(probability=0.5, percentage_area=0.8)\n",
        "        p.random_contrast(probability=0.5, min_factor=0.7, max_factor=1.3)\n",
        "\n",
        "        # Calculate how many augmented images are needed\n",
        "        num_augmented_images = target_num_images_per_class - num_images_in_class\n",
        "\n",
        "        # Sample from the pipeline to generate augmented images\n",
        "        p.sample(num_augmented_images)"
      ],
      "metadata": {
        "colab": {
          "base_uri": "https://localhost:8080/"
        },
        "id": "5ZnfGRzICcxZ",
        "outputId": "26875c1a-9100-43b5-c878-d671810ff931"
      },
      "execution_count": null,
      "outputs": [
        {
          "output_type": "stream",
          "name": "stdout",
          "text": [
            "Initialised with 146 image(s) found.\n",
            "Output directory set to /content/augmented_dataset/005."
          ]
        },
        {
          "output_type": "stream",
          "name": "stderr",
          "text": [
            "Processing <PIL.Image.Image image mode=RGB size=200x200 at 0x7A1A88354370>: 100%|██████████| 150/150 [00:03<00:00, 49.86 Samples/s]\n"
          ]
        },
        {
          "output_type": "stream",
          "name": "stdout",
          "text": [
            "Initialised with 4 image(s) found.\n",
            "Output directory set to /content/augmented_dataset/087."
          ]
        },
        {
          "output_type": "stream",
          "name": "stderr",
          "text": [
            "Processing <PIL.Image.Image image mode=RGB size=200x200 at 0x7A1A8866E0B0>: 100%|██████████| 150/150 [00:04<00:00, 32.19 Samples/s]\n"
          ]
        },
        {
          "output_type": "stream",
          "name": "stdout",
          "text": [
            "Initialised with 102 image(s) found.\n",
            "Output directory set to /content/augmented_dataset/039."
          ]
        },
        {
          "output_type": "stream",
          "name": "stderr",
          "text": [
            "Processing <PIL.Image.Image image mode=RGB size=200x200 at 0x7A1A882D7250>: 100%|██████████| 150/150 [00:03<00:00, 47.24 Samples/s]\n"
          ]
        },
        {
          "output_type": "stream",
          "name": "stdout",
          "text": [
            "Initialised with 24 image(s) found.\n",
            "Output directory set to /content/augmented_dataset/078."
          ]
        },
        {
          "output_type": "stream",
          "name": "stderr",
          "text": [
            "Processing <PIL.Image.Image image mode=RGB size=200x200 at 0x7A1A88325930>: 100%|██████████| 150/150 [00:03<00:00, 42.50 Samples/s]\n"
          ]
        },
        {
          "output_type": "stream",
          "name": "stdout",
          "text": [
            "Initialised with 101 image(s) found.\n",
            "Output directory set to /content/augmented_dataset/056."
          ]
        },
        {
          "output_type": "stream",
          "name": "stderr",
          "text": [
            "Processing <PIL.Image.Image image mode=RGB size=200x200 at 0x7A1AA63FAC50>: 100%|██████████| 150/150 [00:04<00:00, 36.97 Samples/s]\n"
          ]
        },
        {
          "output_type": "stream",
          "name": "stdout",
          "text": [
            "Initialised with 85 image(s) found.\n",
            "Output directory set to /content/augmented_dataset/020."
          ]
        },
        {
          "output_type": "stream",
          "name": "stderr",
          "text": [
            "Processing <PIL.Image.Image image mode=RGB size=200x200 at 0x7A1A88589720>: 100%|██████████| 150/150 [00:05<00:00, 29.34 Samples/s]\n"
          ]
        },
        {
          "output_type": "stream",
          "name": "stdout",
          "text": [
            "Initialised with 12 image(s) found.\n",
            "Output directory set to /content/augmented_dataset/092."
          ]
        },
        {
          "output_type": "stream",
          "name": "stderr",
          "text": [
            "Processing <PIL.Image.Image image mode=RGB size=200x200 at 0x7A1AA61C9D80>: 100%|██████████| 150/150 [00:03<00:00, 42.20 Samples/s]\n"
          ]
        },
        {
          "output_type": "stream",
          "name": "stdout",
          "text": [
            "Initialised with 133 image(s) found.\n",
            "Output directory set to /content/augmented_dataset/009."
          ]
        },
        {
          "output_type": "stream",
          "name": "stderr",
          "text": [
            "Processing <PIL.Image.Image image mode=RGB size=200x200 at 0x7A1B4822A470>: 100%|██████████| 150/150 [00:03<00:00, 46.38 Samples/s]\n"
          ]
        },
        {
          "output_type": "stream",
          "name": "stdout",
          "text": [
            "Initialised with 58 image(s) found.\n",
            "Output directory set to /content/augmented_dataset/062."
          ]
        },
        {
          "output_type": "stream",
          "name": "stderr",
          "text": [
            "Processing <PIL.Image.Image image mode=RGB size=200x200 at 0x7A1A884387F0>: 100%|██████████| 150/150 [00:02<00:00, 50.71 Samples/s]\n"
          ]
        },
        {
          "output_type": "stream",
          "name": "stdout",
          "text": [
            "Initialised with 137 image(s) found.\n",
            "Output directory set to /content/augmented_dataset/018."
          ]
        },
        {
          "output_type": "stream",
          "name": "stderr",
          "text": [
            "Processing <PIL.Image.Image image mode=RGB size=200x200 at 0x7A1AAE0F1C00>: 100%|██████████| 150/150 [00:04<00:00, 31.80 Samples/s]\n"
          ]
        },
        {
          "output_type": "stream",
          "name": "stdout",
          "text": [
            "Initialised with 76 image(s) found.\n",
            "Output directory set to /content/augmented_dataset/058."
          ]
        },
        {
          "output_type": "stream",
          "name": "stderr",
          "text": [
            "Processing <PIL.Image.Image image mode=RGB size=200x200 at 0x7A1AA63FBF40>: 100%|██████████| 150/150 [00:02<00:00, 50.12 Samples/s]\n"
          ]
        },
        {
          "output_type": "stream",
          "name": "stdout",
          "text": [
            "Initialised with 78 image(s) found.\n",
            "Output directory set to /content/augmented_dataset/037."
          ]
        },
        {
          "output_type": "stream",
          "name": "stderr",
          "text": [
            "Processing <PIL.Image.Image image mode=RGB size=200x200 at 0x7A1A4449E890>: 100%|██████████| 150/150 [00:02<00:00, 54.43 Samples/s]\n"
          ]
        },
        {
          "output_type": "stream",
          "name": "stdout",
          "text": [
            "Initialised with 218 image(s) found.\n",
            "Output directory set to /content/augmented_dataset/003."
          ]
        },
        {
          "output_type": "stream",
          "name": "stderr",
          "text": [
            "Processing <PIL.Image.Image image mode=RGB size=200x200 at 0x7A1A886E9A80>: 100%|██████████| 150/150 [00:02<00:00, 54.72 Samples/s]\n"
          ]
        },
        {
          "output_type": "stream",
          "name": "stdout",
          "text": [
            "Initialised with 39 image(s) found.\n",
            "Output directory set to /content/augmented_dataset/043."
          ]
        },
        {
          "output_type": "stream",
          "name": "stderr",
          "text": [
            "Processing <PIL.Image.Image image mode=RGB size=200x200 at 0x7A1A8824DC00>: 100%|██████████| 150/150 [00:03<00:00, 42.89 Samples/s]\n"
          ]
        },
        {
          "output_type": "stream",
          "name": "stdout",
          "text": [
            "Initialised with 888 image(s) found.\n",
            "Output directory set to /content/augmented_dataset/001."
          ]
        },
        {
          "output_type": "stream",
          "name": "stderr",
          "text": [
            "Processing <PIL.Image.Image image mode=RGB size=200x200 at 0x7A1AAE26C220>: 100%|██████████| 150/150 [00:03<00:00, 39.38 Samples/s]\n"
          ]
        },
        {
          "output_type": "stream",
          "name": "stdout",
          "text": [
            "Initialised with 83 image(s) found.\n",
            "Output directory set to /content/augmented_dataset/017."
          ]
        },
        {
          "output_type": "stream",
          "name": "stderr",
          "text": [
            "Processing <PIL.Image.Image image mode=RGB size=200x200 at 0x7A19E8668DF0>: 100%|██████████| 150/150 [00:02<00:00, 54.35 Samples/s]\n"
          ]
        },
        {
          "output_type": "stream",
          "name": "stdout",
          "text": [
            "Initialised with 6 image(s) found.\n",
            "Output directory set to /content/augmented_dataset/083."
          ]
        },
        {
          "output_type": "stream",
          "name": "stderr",
          "text": [
            "Processing <PIL.Image.Image image mode=RGB size=200x200 at 0x7A1A8843A590>: 100%|██████████| 150/150 [00:02<00:00, 52.50 Samples/s]\n"
          ]
        },
        {
          "output_type": "stream",
          "name": "stdout",
          "text": [
            "Initialised with 100 image(s) found.\n",
            "Output directory set to /content/augmented_dataset/065."
          ]
        },
        {
          "output_type": "stream",
          "name": "stderr",
          "text": [
            "Processing <PIL.Image.Image image mode=RGB size=200x200 at 0x7A1A886E82B0>: 100%|██████████| 150/150 [00:02<00:00, 51.35 Samples/s]\n"
          ]
        },
        {
          "output_type": "stream",
          "name": "stdout",
          "text": [
            "Initialised with 58 image(s) found.\n",
            "Output directory set to /content/augmented_dataset/047."
          ]
        },
        {
          "output_type": "stream",
          "name": "stderr",
          "text": [
            "Processing <PIL.Image.Image image mode=RGB size=200x200 at 0x7A1A88327370>: 100%|██████████| 150/150 [00:04<00:00, 33.07 Samples/s]\n"
          ]
        },
        {
          "output_type": "stream",
          "name": "stdout",
          "text": [
            "Initialised with 76 image(s) found.\n",
            "Output directory set to /content/augmented_dataset/038."
          ]
        },
        {
          "output_type": "stream",
          "name": "stderr",
          "text": [
            "Processing <PIL.Image.Image image mode=RGB size=200x200 at 0x7A1A8843BE50>: 100%|██████████| 150/150 [00:03<00:00, 46.45 Samples/s]\n"
          ]
        },
        {
          "output_type": "stream",
          "name": "stdout",
          "text": [
            "Initialised with 46 image(s) found.\n",
            "Output directory set to /content/augmented_dataset/059."
          ]
        },
        {
          "output_type": "stream",
          "name": "stderr",
          "text": [
            "Processing <PIL.Image.Image image mode=RGB size=200x200 at 0x7A19E866B370>: 100%|██████████| 150/150 [00:02<00:00, 52.37 Samples/s]\n"
          ]
        },
        {
          "output_type": "stream",
          "name": "stdout",
          "text": [
            "Initialised with 72 image(s) found.\n",
            "Output directory set to /content/augmented_dataset/040."
          ]
        },
        {
          "output_type": "stream",
          "name": "stderr",
          "text": [
            "Processing <PIL.Image.Image image mode=RGB size=200x200 at 0x7A1B482E5EA0>: 100%|██████████| 150/150 [00:02<00:00, 55.07 Samples/s]\n"
          ]
        },
        {
          "output_type": "stream",
          "name": "stdout",
          "text": [
            "Initialised with 121 image(s) found.\n",
            "Output directory set to /content/augmented_dataset/032."
          ]
        },
        {
          "output_type": "stream",
          "name": "stderr",
          "text": [
            "Processing <PIL.Image.Image image mode=RGB size=200x200 at 0x7A1A8858B280>: 100%|██████████| 150/150 [00:03<00:00, 46.40 Samples/s]\n"
          ]
        },
        {
          "output_type": "stream",
          "name": "stdout",
          "text": [
            "Initialised with 44 image(s) found.\n",
            "Output directory set to /content/augmented_dataset/019."
          ]
        },
        {
          "output_type": "stream",
          "name": "stderr",
          "text": [
            "Processing <PIL.Image.Image image mode=RGB size=200x200 at 0x7A1A88746C80>: 100%|██████████| 150/150 [00:04<00:00, 35.07 Samples/s]\n"
          ]
        },
        {
          "output_type": "stream",
          "name": "stdout",
          "text": [
            "Initialised with 228 image(s) found.\n",
            "Output directory set to /content/augmented_dataset/026."
          ]
        },
        {
          "output_type": "stream",
          "name": "stderr",
          "text": [
            "Processing <PIL.Image.Image image mode=RGB size=200x200 at 0x7A1AA63FA500>: 100%|██████████| 150/150 [00:02<00:00, 52.45 Samples/s]\n"
          ]
        },
        {
          "output_type": "stream",
          "name": "stdout",
          "text": [
            "Initialised with 85 image(s) found.\n",
            "Output directory set to /content/augmented_dataset/050."
          ]
        },
        {
          "output_type": "stream",
          "name": "stderr",
          "text": [
            "Processing <PIL.Image.Image image mode=RGB size=200x200 at 0x7A1A8843B100>: 100%|██████████| 150/150 [00:02<00:00, 52.79 Samples/s]\n"
          ]
        },
        {
          "output_type": "stream",
          "name": "stdout",
          "text": [
            "Initialised with 25 image(s) found.\n",
            "Output directory set to /content/augmented_dataset/064."
          ]
        },
        {
          "output_type": "stream",
          "name": "stderr",
          "text": [
            "Processing <PIL.Image.Image image mode=RGB size=200x200 at 0x7A1AE3F05390>: 100%|██████████| 150/150 [00:02<00:00, 52.51 Samples/s]\n"
          ]
        },
        {
          "output_type": "stream",
          "name": "stdout",
          "text": [
            "Initialised with 109 image(s) found.\n",
            "Output directory set to /content/augmented_dataset/010."
          ]
        },
        {
          "output_type": "stream",
          "name": "stderr",
          "text": [
            "Processing <PIL.Image.Image image mode=RGB size=200x200 at 0x7A1AA611B7F0>: 100%|██████████| 150/150 [00:03<00:00, 38.54 Samples/s]\n"
          ]
        },
        {
          "output_type": "stream",
          "name": "stdout",
          "text": [
            "Initialised with 113 image(s) found.\n",
            "Output directory set to /content/augmented_dataset/022."
          ]
        },
        {
          "output_type": "stream",
          "name": "stderr",
          "text": [
            "Processing <PIL.Image.Image image mode=RGB size=200x200 at 0x7A1AAE26C700>: 100%|██████████| 150/150 [00:03<00:00, 39.69 Samples/s]\n"
          ]
        },
        {
          "output_type": "stream",
          "name": "stdout",
          "text": [
            "Initialised with 37 image(s) found.\n",
            "Output directory set to /content/augmented_dataset/070."
          ]
        },
        {
          "output_type": "stream",
          "name": "stderr",
          "text": [
            "Processing <PIL.Image.Image image mode=RGB size=200x200 at 0x7A1A88327790>: 100%|██████████| 150/150 [00:02<00:00, 53.15 Samples/s]\n"
          ]
        },
        {
          "output_type": "stream",
          "name": "stdout",
          "text": [
            "Initialised with 51 image(s) found.\n",
            "Output directory set to /content/augmented_dataset/046."
          ]
        },
        {
          "output_type": "stream",
          "name": "stderr",
          "text": [
            "Processing <PIL.Image.Image image mode=RGB size=200x200 at 0x7A1AAE0F3940>: 100%|██████████| 150/150 [00:02<00:00, 53.95 Samples/s]\n"
          ]
        },
        {
          "output_type": "stream",
          "name": "stdout",
          "text": [
            "Initialised with 17 image(s) found.\n",
            "Output directory set to /content/augmented_dataset/086."
          ]
        },
        {
          "output_type": "stream",
          "name": "stderr",
          "text": [
            "Processing <PIL.Image.Image image mode=RGB size=200x200 at 0x7A1AA627D5D0>: 100%|██████████| 150/150 [00:02<00:00, 51.08 Samples/s]\n"
          ]
        },
        {
          "output_type": "stream",
          "name": "stdout",
          "text": [
            "Initialised with 50 image(s) found.\n",
            "Output directory set to /content/augmented_dataset/051."
          ]
        },
        {
          "output_type": "stream",
          "name": "stderr",
          "text": [
            "Processing <PIL.Image.Image image mode=RGB size=200x200 at 0x7A1A20B62410>: 100%|██████████| 150/150 [00:04<00:00, 33.32 Samples/s]\n"
          ]
        },
        {
          "output_type": "stream",
          "name": "stdout",
          "text": [
            "Initialised with 69 image(s) found.\n",
            "Output directory set to /content/augmented_dataset/042."
          ]
        },
        {
          "output_type": "stream",
          "name": "stderr",
          "text": [
            "Processing <PIL.Image.Image image mode=RGB size=200x200 at 0x7A1AAE26E8F0>: 100%|██████████| 150/150 [00:02<00:00, 50.30 Samples/s]\n"
          ]
        },
        {
          "output_type": "stream",
          "name": "stdout",
          "text": [
            "Initialised with 13 image(s) found.\n",
            "Output directory set to /content/augmented_dataset/089."
          ]
        },
        {
          "output_type": "stream",
          "name": "stderr",
          "text": [
            "Processing <PIL.Image.Image image mode=RGB size=200x200 at 0x7A1A882D7250>: 100%|██████████| 150/150 [00:02<00:00, 50.35 Samples/s]\n"
          ]
        },
        {
          "output_type": "stream",
          "name": "stdout",
          "text": [
            "Initialised with 62 image(s) found.\n",
            "Output directory set to /content/augmented_dataset/045."
          ]
        },
        {
          "output_type": "stream",
          "name": "stderr",
          "text": [
            "Processing <PIL.Image.Image image mode=RGB size=200x200 at 0x7A1AA63FA770>: 100%|██████████| 150/150 [00:02<00:00, 52.02 Samples/s]\n"
          ]
        },
        {
          "output_type": "stream",
          "name": "stdout",
          "text": [
            "Initialised with 106 image(s) found.\n",
            "Output directory set to /content/augmented_dataset/060."
          ]
        },
        {
          "output_type": "stream",
          "name": "stderr",
          "text": [
            "Processing <PIL.Image.Image image mode=RGB size=200x200 at 0x7A1A88588850>: 100%|██████████| 150/150 [00:03<00:00, 42.42 Samples/s]\n"
          ]
        },
        {
          "output_type": "stream",
          "name": "stdout",
          "text": [
            "Initialised with 42 image(s) found.\n",
            "Output directory set to /content/augmented_dataset/066."
          ]
        },
        {
          "output_type": "stream",
          "name": "stderr",
          "text": [
            "Processing <PIL.Image.Image image mode=RGB size=200x200 at 0x7A1AAE2395A0>: 100%|██████████| 150/150 [00:04<00:00, 32.76 Samples/s]\n"
          ]
        },
        {
          "output_type": "stream",
          "name": "stdout",
          "text": [
            "Initialised with 43 image(s) found.\n",
            "Output directory set to /content/augmented_dataset/063."
          ]
        },
        {
          "output_type": "stream",
          "name": "stderr",
          "text": [
            "Processing <PIL.Image.Image image mode=RGB size=200x200 at 0x7A1AA6119090>: 100%|██████████| 150/150 [00:02<00:00, 52.57 Samples/s]\n"
          ]
        },
        {
          "output_type": "stream",
          "name": "stdout",
          "text": [
            "Initialised with 31 image(s) found.\n",
            "Output directory set to /content/augmented_dataset/067."
          ]
        },
        {
          "output_type": "stream",
          "name": "stderr",
          "text": [
            "Processing <PIL.Image.Image image mode=RGB size=200x200 at 0x7A1AAE238460>: 100%|██████████| 150/150 [00:03<00:00, 38.56 Samples/s]\n"
          ]
        },
        {
          "output_type": "stream",
          "name": "stdout",
          "text": [
            "Initialised with 105 image(s) found.\n",
            "Output directory set to /content/augmented_dataset/053."
          ]
        },
        {
          "output_type": "stream",
          "name": "stderr",
          "text": [
            "Processing <PIL.Image.Image image mode=RGB size=200x200 at 0x7A19EE1D0E80>: 100%|██████████| 150/150 [00:04<00:00, 33.91 Samples/s]\n"
          ]
        },
        {
          "output_type": "stream",
          "name": "stdout",
          "text": [
            "Initialised with 85 image(s) found.\n",
            "Output directory set to /content/augmented_dataset/006."
          ]
        },
        {
          "output_type": "stream",
          "name": "stderr",
          "text": [
            "Processing <PIL.Image.Image image mode=RGB size=200x200 at 0x7A1A88721540>: 100%|██████████| 150/150 [00:03<00:00, 38.70 Samples/s]\n"
          ]
        },
        {
          "output_type": "stream",
          "name": "stdout",
          "text": [
            "Initialised with 16 image(s) found.\n",
            "Output directory set to /content/augmented_dataset/088."
          ]
        },
        {
          "output_type": "stream",
          "name": "stderr",
          "text": [
            "Processing <PIL.Image.Image image mode=RGB size=200x200 at 0x7A1AAE238370>: 100%|██████████| 150/150 [00:03<00:00, 49.83 Samples/s]\n"
          ]
        },
        {
          "output_type": "stream",
          "name": "stdout",
          "text": [
            "Initialised with 108 image(s) found.\n",
            "Output directory set to /content/augmented_dataset/052."
          ]
        },
        {
          "output_type": "stream",
          "name": "stderr",
          "text": [
            "Processing <PIL.Image.Image image mode=RGB size=200x200 at 0x7A1A883267A0>: 100%|██████████| 150/150 [00:02<00:00, 51.19 Samples/s]\n"
          ]
        },
        {
          "output_type": "stream",
          "name": "stdout",
          "text": [
            "Initialised with 16 image(s) found.\n",
            "Output directory set to /content/augmented_dataset/074."
          ]
        },
        {
          "output_type": "stream",
          "name": "stderr",
          "text": [
            "Processing <PIL.Image.Image image mode=RGB size=200x200 at 0x7A1A8843BAC0>: 100%|██████████| 150/150 [00:02<00:00, 52.67 Samples/s]\n"
          ]
        },
        {
          "output_type": "stream",
          "name": "stdout",
          "text": [
            "Initialised with 75 image(s) found.\n",
            "Output directory set to /content/augmented_dataset/023."
          ]
        },
        {
          "output_type": "stream",
          "name": "stderr",
          "text": [
            "Processing <PIL.Image.Image image mode=RGB size=200x200 at 0x7A1AA6211E10>: 100%|██████████| 150/150 [00:04<00:00, 33.11 Samples/s]\n"
          ]
        },
        {
          "output_type": "stream",
          "name": "stdout",
          "text": [
            "Initialised with 118 image(s) found.\n",
            "Output directory set to /content/augmented_dataset/021."
          ]
        },
        {
          "output_type": "stream",
          "name": "stderr",
          "text": [
            "Processing <PIL.Image.Image image mode=RGB size=200x200 at 0x7A1A88779D20>: 100%|██████████| 150/150 [00:04<00:00, 31.25 Samples/s]\n"
          ]
        },
        {
          "output_type": "stream",
          "name": "stdout",
          "text": [
            "Initialised with 3 image(s) found.\n",
            "Output directory set to /content/augmented_dataset/095."
          ]
        },
        {
          "output_type": "stream",
          "name": "stderr",
          "text": [
            "Processing <PIL.Image.Image image mode=RGB size=200x200 at 0x7A19E866B280>: 100%|██████████| 150/150 [00:03<00:00, 47.38 Samples/s]\n"
          ]
        },
        {
          "output_type": "stream",
          "name": "stdout",
          "text": [
            "Initialised with 85 image(s) found.\n",
            "Output directory set to /content/augmented_dataset/012."
          ]
        },
        {
          "output_type": "stream",
          "name": "stderr",
          "text": [
            "Processing <PIL.Image.Image image mode=RGB size=200x200 at 0x7A1AAE3022F0>: 100%|██████████| 150/150 [00:02<00:00, 53.21 Samples/s]\n"
          ]
        },
        {
          "output_type": "stream",
          "name": "stdout",
          "text": [
            "Initialised with 115 image(s) found.\n",
            "Output directory set to /content/augmented_dataset/015."
          ]
        },
        {
          "output_type": "stream",
          "name": "stderr",
          "text": [
            "Processing <PIL.Image.Image image mode=RGB size=200x200 at 0x7A1AAE356D70>: 100%|██████████| 150/150 [00:02<00:00, 52.70 Samples/s]\n"
          ]
        },
        {
          "output_type": "stream",
          "name": "stdout",
          "text": [
            "Initialised with 370 image(s) found.\n",
            "Output directory set to /content/augmented_dataset/002."
          ]
        },
        {
          "output_type": "stream",
          "name": "stderr",
          "text": [
            "Processing <PIL.Image.Image image mode=RGB size=200x200 at 0x7A1A88327790>: 100%|██████████| 150/150 [00:03<00:00, 41.64 Samples/s]\n"
          ]
        },
        {
          "output_type": "stream",
          "name": "stdout",
          "text": [
            "Initialised with 194 image(s) found.\n",
            "Output directory set to /content/augmented_dataset/008."
          ]
        },
        {
          "output_type": "stream",
          "name": "stderr",
          "text": [
            "Processing <PIL.Image.Image image mode=RGB size=200x200 at 0x7A1AA61C9D80>: 100%|██████████| 150/150 [00:03<00:00, 38.52 Samples/s]\n"
          ]
        },
        {
          "output_type": "stream",
          "name": "stdout",
          "text": [
            "Initialised with 1 image(s) found.\n",
            "Output directory set to /content/augmented_dataset/091."
          ]
        },
        {
          "output_type": "stream",
          "name": "stderr",
          "text": [
            "Processing <PIL.Image.Image image mode=RGB size=200x200 at 0x7A1A8858BFD0>: 100%|██████████| 150/150 [00:02<00:00, 51.36 Samples/s]\n"
          ]
        },
        {
          "output_type": "stream",
          "name": "stdout",
          "text": [
            "Initialised with 84 image(s) found.\n",
            "Output directory set to /content/augmented_dataset/049."
          ]
        },
        {
          "output_type": "stream",
          "name": "stderr",
          "text": [
            "Processing <PIL.PngImagePlugin.PngImageFile image mode=RGB size=200x200 at 0x7A1A88721B40>: 100%|██████████| 150/150 [00:02<00:00, 52.38 Samples/s]\n"
          ]
        },
        {
          "output_type": "stream",
          "name": "stdout",
          "text": [
            "Initialised with 124 image(s) found.\n",
            "Output directory set to /content/augmented_dataset/025."
          ]
        },
        {
          "output_type": "stream",
          "name": "stderr",
          "text": [
            "Processing <PIL.Image.Image image mode=RGB size=200x200 at 0x7A1A13F88070>: 100%|██████████| 150/150 [00:02<00:00, 53.80 Samples/s]\n"
          ]
        },
        {
          "output_type": "stream",
          "name": "stdout",
          "text": [
            "Initialised with 93 image(s) found.\n",
            "Output directory set to /content/augmented_dataset/030."
          ]
        },
        {
          "output_type": "stream",
          "name": "stderr",
          "text": [
            "Processing <PIL.Image.Image image mode=RGB size=200x200 at 0x7A1AA6193A00>: 100%|██████████| 150/150 [00:04<00:00, 33.31 Samples/s]\n"
          ]
        },
        {
          "output_type": "stream",
          "name": "stdout",
          "text": [
            "Initialised with 3 image(s) found.\n",
            "Output directory set to /content/augmented_dataset/093."
          ]
        },
        {
          "output_type": "stream",
          "name": "stderr",
          "text": [
            "Processing <PIL.Image.Image image mode=RGB size=200x200 at 0x7A1A8858A9E0>: 100%|██████████| 150/150 [00:02<00:00, 56.01 Samples/s]\n"
          ]
        },
        {
          "output_type": "stream",
          "name": "stdout",
          "text": [
            "Initialised with 50 image(s) found.\n",
            "Output directory set to /content/augmented_dataset/090."
          ]
        },
        {
          "output_type": "stream",
          "name": "stderr",
          "text": [
            "Processing <PIL.Image.Image image mode=RGB size=200x200 at 0x7A1AA61933A0>: 100%|██████████| 150/150 [00:02<00:00, 53.88 Samples/s]\n"
          ]
        },
        {
          "output_type": "stream",
          "name": "stdout",
          "text": [
            "Initialised with 9 image(s) found.\n",
            "Output directory set to /content/augmented_dataset/081."
          ]
        },
        {
          "output_type": "stream",
          "name": "stderr",
          "text": [
            "Processing <PIL.Image.Image image mode=RGB size=200x200 at 0x7A1A88327370>: 100%|██████████| 150/150 [00:02<00:00, 52.64 Samples/s]\n"
          ]
        },
        {
          "output_type": "stream",
          "name": "stdout",
          "text": [
            "Initialised with 26 image(s) found.\n",
            "Output directory set to /content/augmented_dataset/073."
          ]
        },
        {
          "output_type": "stream",
          "name": "stderr",
          "text": [
            "Processing <PIL.Image.Image image mode=RGB size=200x200 at 0x7A1A8843B3D0>: 100%|██████████| 150/150 [00:03<00:00, 45.59 Samples/s]\n"
          ]
        },
        {
          "output_type": "stream",
          "name": "stdout",
          "text": [
            "Initialised with 111 image(s) found.\n",
            "Output directory set to /content/augmented_dataset/028."
          ]
        },
        {
          "output_type": "stream",
          "name": "stderr",
          "text": [
            "Processing <PIL.Image.Image image mode=RGB size=200x200 at 0x7A1AAE397040>: 100%|██████████| 150/150 [00:04<00:00, 34.04 Samples/s]\n"
          ]
        },
        {
          "output_type": "stream",
          "name": "stdout",
          "text": [
            "Initialised with 60 image(s) found.\n",
            "Output directory set to /content/augmented_dataset/013."
          ]
        },
        {
          "output_type": "stream",
          "name": "stderr",
          "text": [
            "Processing <PIL.Image.Image image mode=RGB size=200x200 at 0x7A19EE1D2DA0>: 100%|██████████| 150/150 [00:02<00:00, 54.30 Samples/s]\n"
          ]
        },
        {
          "output_type": "stream",
          "name": "stdout",
          "text": [
            "Initialised with 50 image(s) found.\n",
            "Output directory set to /content/augmented_dataset/048."
          ]
        },
        {
          "output_type": "stream",
          "name": "stderr",
          "text": [
            "Processing <PIL.Image.Image image mode=RGB size=200x200 at 0x7A1AA627E860>: 100%|██████████| 150/150 [00:02<00:00, 51.90 Samples/s]\n"
          ]
        },
        {
          "output_type": "stream",
          "name": "stdout",
          "text": [
            "Initialised with 108 image(s) found.\n",
            "Output directory set to /content/augmented_dataset/029."
          ]
        },
        {
          "output_type": "stream",
          "name": "stderr",
          "text": [
            "Processing <PIL.Image.Image image mode=RGB size=200x200 at 0x7A1B483476D0>: 100%|██████████| 150/150 [00:03<00:00, 49.96 Samples/s]\n"
          ]
        },
        {
          "output_type": "stream",
          "name": "stdout",
          "text": [
            "Initialised with 101 image(s) found.\n",
            "Output directory set to /content/augmented_dataset/007."
          ]
        },
        {
          "output_type": "stream",
          "name": "stderr",
          "text": [
            "Processing <PIL.Image.Image image mode=RGB size=200x200 at 0x7A1A8858B040>: 100%|██████████| 150/150 [00:04<00:00, 34.39 Samples/s]\n"
          ]
        },
        {
          "output_type": "stream",
          "name": "stdout",
          "text": [
            "Initialised with 24 image(s) found.\n",
            "Output directory set to /content/augmented_dataset/082."
          ]
        },
        {
          "output_type": "stream",
          "name": "stderr",
          "text": [
            "Processing <PIL.Image.Image image mode=RGB size=200x200 at 0x7A1A8B5CC310>: 100%|██████████| 150/150 [00:03<00:00, 40.90 Samples/s]\n"
          ]
        },
        {
          "output_type": "stream",
          "name": "stdout",
          "text": [
            "Initialised with 14 image(s) found.\n",
            "Output directory set to /content/augmented_dataset/079."
          ]
        },
        {
          "output_type": "stream",
          "name": "stderr",
          "text": [
            "Processing <PIL.Image.Image image mode=RGB size=200x200 at 0x7A1AE3FB2950>: 100%|██████████| 150/150 [00:02<00:00, 51.48 Samples/s]\n"
          ]
        },
        {
          "output_type": "stream",
          "name": "stdout",
          "text": [
            "Initialised with 211 image(s) found.\n",
            "Output directory set to /content/augmented_dataset/004."
          ]
        },
        {
          "output_type": "stream",
          "name": "stderr",
          "text": [
            "Processing <PIL.Image.Image image mode=RGB size=200x200 at 0x7A19E853F5B0>: 100%|██████████| 150/150 [00:02<00:00, 53.49 Samples/s]\n"
          ]
        },
        {
          "output_type": "stream",
          "name": "stdout",
          "text": [
            "Initialised with 69 image(s) found.\n",
            "Output directory set to /content/augmented_dataset/034."
          ]
        },
        {
          "output_type": "stream",
          "name": "stderr",
          "text": [
            "Processing <PIL.Image.Image image mode=RGB size=200x200 at 0x7A1AAE397B20>: 100%|██████████| 150/150 [00:03<00:00, 42.62 Samples/s]\n"
          ]
        },
        {
          "output_type": "stream",
          "name": "stdout",
          "text": [
            "Initialised with 80 image(s) found.\n",
            "Output directory set to /content/augmented_dataset/054."
          ]
        },
        {
          "output_type": "stream",
          "name": "stderr",
          "text": [
            "Processing <PIL.Image.Image image mode=RGB size=200x200 at 0x7A1AAE357AC0>: 100%|██████████| 150/150 [00:04<00:00, 35.63 Samples/s]\n"
          ]
        },
        {
          "output_type": "stream",
          "name": "stdout",
          "text": [
            "Initialised with 71 image(s) found.\n",
            "Output directory set to /content/augmented_dataset/075."
          ]
        },
        {
          "output_type": "stream",
          "name": "stderr",
          "text": [
            "Processing <PIL.Image.Image image mode=RGB size=200x200 at 0x7A1B4822B460>: 100%|██████████| 150/150 [00:02<00:00, 52.13 Samples/s]\n"
          ]
        },
        {
          "output_type": "stream",
          "name": "stdout",
          "text": [
            "Initialised with 52 image(s) found.\n",
            "Output directory set to /content/augmented_dataset/011."
          ]
        },
        {
          "output_type": "stream",
          "name": "stderr",
          "text": [
            "Processing <PIL.Image.Image image mode=RGB size=200x200 at 0x7A19EF368220>: 100%|██████████| 150/150 [00:02<00:00, 52.08 Samples/s]\n"
          ]
        },
        {
          "output_type": "stream",
          "name": "stdout",
          "text": [
            "Initialised with 57 image(s) found.\n",
            "Output directory set to /content/augmented_dataset/072."
          ]
        },
        {
          "output_type": "stream",
          "name": "stderr",
          "text": [
            "Processing <PIL.Image.Image image mode=RGB size=200x200 at 0x7A19E853F100>: 100%|██████████| 150/150 [00:02<00:00, 50.04 Samples/s]\n"
          ]
        },
        {
          "output_type": "stream",
          "name": "stdout",
          "text": [
            "Initialised with 58 image(s) found.\n",
            "Output directory set to /content/augmented_dataset/080."
          ]
        },
        {
          "output_type": "stream",
          "name": "stderr",
          "text": [
            "Processing <PIL.Image.Image image mode=RGB size=200x200 at 0x7A19EF3691B0>: 100%|██████████| 150/150 [00:04<00:00, 31.35 Samples/s]\n"
          ]
        },
        {
          "output_type": "stream",
          "name": "stdout",
          "text": [
            "Initialised with 20 image(s) found.\n",
            "Output directory set to /content/augmented_dataset/044."
          ]
        },
        {
          "output_type": "stream",
          "name": "stderr",
          "text": [
            "Processing <PIL.Image.Image image mode=RGB size=200x200 at 0x7A1AAE0F3490>: 100%|██████████| 150/150 [00:03<00:00, 49.55 Samples/s]\n"
          ]
        },
        {
          "output_type": "stream",
          "name": "stdout",
          "text": [
            "Initialised with 46 image(s) found.\n",
            "Output directory set to /content/augmented_dataset/041."
          ]
        },
        {
          "output_type": "stream",
          "name": "stderr",
          "text": [
            "Processing <PIL.Image.Image image mode=RGB size=200x200 at 0x7A19EF4FC850>: 100%|██████████| 150/150 [00:02<00:00, 51.93 Samples/s]\n"
          ]
        },
        {
          "output_type": "stream",
          "name": "stdout",
          "text": [
            "Initialised with 43 image(s) found.\n",
            "Output directory set to /content/augmented_dataset/061."
          ]
        },
        {
          "output_type": "stream",
          "name": "stderr",
          "text": [
            "Processing <PIL.Image.Image image mode=RGB size=200x200 at 0x7A1A886EB3D0>: 100%|██████████| 150/150 [00:02<00:00, 51.24 Samples/s]\n"
          ]
        },
        {
          "output_type": "stream",
          "name": "stdout",
          "text": [
            "Initialised with 89 image(s) found.\n",
            "Output directory set to /content/augmented_dataset/036."
          ]
        },
        {
          "output_type": "stream",
          "name": "stderr",
          "text": [
            "Processing <PIL.Image.Image image mode=RGB size=200x200 at 0x7A1A13F88070>: 100%|██████████| 150/150 [00:03<00:00, 40.59 Samples/s]\n"
          ]
        },
        {
          "output_type": "stream",
          "name": "stdout",
          "text": [
            "Initialised with 46 image(s) found.\n",
            "Output directory set to /content/augmented_dataset/055."
          ]
        },
        {
          "output_type": "stream",
          "name": "stderr",
          "text": [
            "Processing <PIL.Image.Image image mode=RGB size=200x200 at 0x7A1A8824DED0>: 100%|██████████| 150/150 [00:03<00:00, 38.09 Samples/s]\n"
          ]
        },
        {
          "output_type": "stream",
          "name": "stdout",
          "text": [
            "Initialised with 37 image(s) found.\n",
            "Output directory set to /content/augmented_dataset/069."
          ]
        },
        {
          "output_type": "stream",
          "name": "stderr",
          "text": [
            "Processing <PIL.Image.Image image mode=RGB size=200x200 at 0x7A1AE3F93A60>: 100%|██████████| 150/150 [00:02<00:00, 51.82 Samples/s]\n"
          ]
        },
        {
          "output_type": "stream",
          "name": "stdout",
          "text": [
            "Initialised with 96 image(s) found.\n",
            "Output directory set to /content/augmented_dataset/027."
          ]
        },
        {
          "output_type": "stream",
          "name": "stderr",
          "text": [
            "Processing <PIL.Image.Image image mode=RGB size=200x200 at 0x7A19E840B340>: 100%|██████████| 150/150 [00:03<00:00, 48.87 Samples/s]\n"
          ]
        },
        {
          "output_type": "stream",
          "name": "stdout",
          "text": [
            "Initialised with 14 image(s) found.\n",
            "Output directory set to /content/augmented_dataset/077."
          ]
        },
        {
          "output_type": "stream",
          "name": "stderr",
          "text": [
            "Processing <PIL.Image.Image image mode=RGB size=200x200 at 0x7A1AA6193940>: 100%|██████████| 150/150 [00:03<00:00, 45.00 Samples/s]\n"
          ]
        },
        {
          "output_type": "stream",
          "name": "stdout",
          "text": [
            "Initialised with 96 image(s) found.\n",
            "Output directory set to /content/augmented_dataset/035."
          ]
        },
        {
          "output_type": "stream",
          "name": "stderr",
          "text": [
            "Processing <PIL.Image.Image image mode=RGB size=200x200 at 0x7A1AAE1CE650>: 100%|██████████| 150/150 [00:04<00:00, 31.81 Samples/s]\n"
          ]
        },
        {
          "output_type": "stream",
          "name": "stdout",
          "text": [
            "Initialised with 78 image(s) found.\n",
            "Output directory set to /content/augmented_dataset/031."
          ]
        },
        {
          "output_type": "stream",
          "name": "stderr",
          "text": [
            "Processing <PIL.Image.Image image mode=RGB size=200x200 at 0x7A1AA6257CA0>: 100%|██████████| 150/150 [00:02<00:00, 50.58 Samples/s]\n"
          ]
        },
        {
          "output_type": "stream",
          "name": "stdout",
          "text": [
            "Initialised with 24 image(s) found.\n",
            "Output directory set to /content/augmented_dataset/076."
          ]
        },
        {
          "output_type": "stream",
          "name": "stderr",
          "text": [
            "Processing <PIL.Image.Image image mode=RGB size=200x200 at 0x7A19E853C640>: 100%|██████████| 150/150 [00:02<00:00, 50.82 Samples/s]\n"
          ]
        },
        {
          "output_type": "stream",
          "name": "stdout",
          "text": [
            "Initialised with 18 image(s) found.\n",
            "Output directory set to /content/augmented_dataset/071."
          ]
        },
        {
          "output_type": "stream",
          "name": "stderr",
          "text": [
            "Processing <PIL.Image.Image image mode=RGB size=200x200 at 0x7A1AB2B37940>: 100%|██████████| 150/150 [00:02<00:00, 51.96 Samples/s]\n"
          ]
        },
        {
          "output_type": "stream",
          "name": "stdout",
          "text": [
            "Initialised with 149 image(s) found.\n",
            "Output directory set to /content/augmented_dataset/024."
          ]
        },
        {
          "output_type": "stream",
          "name": "stderr",
          "text": [
            "Processing <PIL.Image.Image image mode=RGB size=200x200 at 0x7A19EE232290>: 100%|██████████| 150/150 [00:04<00:00, 36.05 Samples/s]\n"
          ]
        },
        {
          "output_type": "stream",
          "name": "stdout",
          "text": [
            "Initialised with 163 image(s) found.\n",
            "Output directory set to /content/augmented_dataset/016."
          ]
        },
        {
          "output_type": "stream",
          "name": "stderr",
          "text": [
            "Processing <PIL.Image.Image image mode=RGB size=200x200 at 0x7A1AAE239F00>: 100%|██████████| 150/150 [00:03<00:00, 43.80 Samples/s]\n"
          ]
        },
        {
          "output_type": "stream",
          "name": "stdout",
          "text": [
            "Initialised with 43 image(s) found.\n",
            "Output directory set to /content/augmented_dataset/057."
          ]
        },
        {
          "output_type": "stream",
          "name": "stderr",
          "text": [
            "Processing <PIL.Image.Image image mode=RGB size=200x200 at 0x7A1AB2B36710>: 100%|██████████| 150/150 [00:02<00:00, 50.39 Samples/s]\n"
          ]
        },
        {
          "output_type": "stream",
          "name": "stdout",
          "text": [
            "Initialised with 117 image(s) found.\n",
            "Output directory set to /content/augmented_dataset/085."
          ]
        },
        {
          "output_type": "stream",
          "name": "stderr",
          "text": [
            "Processing <PIL.Image.Image image mode=RGB size=200x200 at 0x7A1AAE0F37F0>: 100%|██████████| 150/150 [00:03<00:00, 49.07 Samples/s]\n"
          ]
        },
        {
          "output_type": "stream",
          "name": "stdout",
          "text": [
            "Initialised with 110 image(s) found.\n",
            "Output directory set to /content/augmented_dataset/014."
          ]
        },
        {
          "output_type": "stream",
          "name": "stderr",
          "text": [
            "Processing <PIL.Image.Image image mode=RGB size=200x200 at 0x7A1AAE302B30>: 100%|██████████| 150/150 [00:04<00:00, 35.61 Samples/s]\n"
          ]
        },
        {
          "output_type": "stream",
          "name": "stdout",
          "text": [
            "Initialised with 36 image(s) found.\n",
            "Output directory set to /content/augmented_dataset/033."
          ]
        },
        {
          "output_type": "stream",
          "name": "stderr",
          "text": [
            "Processing <PIL.Image.Image image mode=RGB size=200x200 at 0x7A19EF4FD1E0>: 100%|██████████| 150/150 [00:03<00:00, 38.07 Samples/s]\n"
          ]
        },
        {
          "output_type": "stream",
          "name": "stdout",
          "text": [
            "Initialised with 10 image(s) found.\n",
            "Output directory set to /content/augmented_dataset/084."
          ]
        },
        {
          "output_type": "stream",
          "name": "stderr",
          "text": [
            "Processing <PIL.Image.Image image mode=RGB size=200x200 at 0x7A1A88720AF0>: 100%|██████████| 150/150 [00:02<00:00, 50.13 Samples/s]\n"
          ]
        },
        {
          "output_type": "stream",
          "name": "stdout",
          "text": [
            "Initialised with 44 image(s) found.\n",
            "Output directory set to /content/augmented_dataset/068."
          ]
        },
        {
          "output_type": "stream",
          "name": "stderr",
          "text": [
            "Processing <PIL.Image.Image image mode=RGB size=200x200 at 0x7A1AA6193610>: 100%|██████████| 150/150 [00:03<00:00, 39.90 Samples/s]\n"
          ]
        }
      ]
    },
    {
      "cell_type": "markdown",
      "source": [
        "Now all of our classes have same number of images. Let's begin preprocessing them for model testing"
      ],
      "metadata": {
        "id": "Nkm9DJTcHDI8"
      }
    },
    {
      "cell_type": "code",
      "source": [
        "train_data_new = train_datagen.flow_from_directory(train_dir,\n",
        "                                               target_size=(200, 200),\n",
        "                                               batch_size=16,\n",
        "                                               class_mode='categorical')\n",
        "\n",
        "test_data_new = train_datagen.flow_from_directory(test_dir,\n",
        "                                              target_size=(200, 200),\n",
        "                                              batch_size=16,\n",
        "                                              class_mode='categorical')"
      ],
      "metadata": {
        "colab": {
          "base_uri": "https://localhost:8080/"
        },
        "id": "QwwdOjFqHHW2",
        "outputId": "f24069b2-afb5-442f-f61a-63d49cc222ce"
      },
      "execution_count": null,
      "outputs": [
        {
          "output_type": "stream",
          "name": "stdout",
          "text": [
            "Found 14170 images belonging to 94 classes.\n",
            "Found 1942 images belonging to 94 classes.\n"
          ]
        }
      ]
    },
    {
      "cell_type": "code",
      "source": [
        "# Create a model\n",
        "model_3 = Sequential([\n",
        "    Conv2D(32,3,activation=\"relu\",input_shape=(200,200,3)),\n",
        "    Conv2D(32,3,activation=\"relu\"),\n",
        "    MaxPool2D(),\n",
        "    Conv2D(32,3,activation=\"relu\"),\n",
        "    Conv2D(32,3,activation=\"relu\"),\n",
        "    MaxPool2D(),\n",
        "    Flatten(),\n",
        "    Dense(94,activation = \"softmax\")\n",
        "])\n",
        "\n",
        "# Compile the model\n",
        "model_3.compile(loss=\"categorical_crossentropy\",\n",
        "                optimizer=tf.keras.optimizers.Adam(),\n",
        "                metrics=[\"accuracy\"])\n",
        "\n",
        "# Fit the model\n",
        "history_3 = model_3.fit(train_data_new,\n",
        "            epochs=5,\n",
        "            steps_per_epoch=len(train_data_new),\n",
        "            validation_data=test_data_new,\n",
        "            validation_steps=len(test_data_new))\n"
      ],
      "metadata": {
        "colab": {
          "base_uri": "https://localhost:8080/"
        },
        "id": "MkH9IVJ4HYij",
        "outputId": "77691bf1-109d-4b47-d44e-c44120716437"
      },
      "execution_count": null,
      "outputs": [
        {
          "output_type": "stream",
          "name": "stdout",
          "text": [
            "Epoch 1/5\n",
            "886/886 [==============================] - 50s 54ms/step - loss: 4.3672 - accuracy: 0.0427 - val_loss: 3.8906 - val_accuracy: 0.0932\n",
            "Epoch 2/5\n",
            "886/886 [==============================] - 53s 60ms/step - loss: 3.1394 - accuracy: 0.2706 - val_loss: 3.9412 - val_accuracy: 0.1251\n",
            "Epoch 3/5\n",
            "886/886 [==============================] - 52s 58ms/step - loss: 1.2713 - accuracy: 0.6869 - val_loss: 6.5133 - val_accuracy: 0.1117\n",
            "Epoch 4/5\n",
            "886/886 [==============================] - 47s 52ms/step - loss: 0.3904 - accuracy: 0.9133 - val_loss: 9.6239 - val_accuracy: 0.1164\n",
            "Epoch 5/5\n",
            "886/886 [==============================] - 45s 51ms/step - loss: 0.2023 - accuracy: 0.9674 - val_loss: 10.1972 - val_accuracy: 0.1097\n"
          ]
        }
      ]
    },
    {
      "cell_type": "code",
      "source": [
        "# Plot the loss curves\n",
        "plot_loss_curves(history_3)"
      ],
      "metadata": {
        "colab": {
          "base_uri": "https://localhost:8080/",
          "height": 927
        },
        "id": "f5U61PdjHjJW",
        "outputId": "98989d7d-a192-4f0f-dda6-40f8ccb0baf5"
      },
      "execution_count": null,
      "outputs": [
        {
          "output_type": "display_data",
          "data": {
            "text/plain": [
              "<Figure size 640x480 with 1 Axes>"
            ],
            "image/png": "[encoded data removed]"
          },
          "metadata": {}
        },
        {
          "output_type": "display_data",
          "data": {
            "text/plain": [
              "<Figure size 640x480 with 1 Axes>"
            ],
            "image/png": "[encoded data removed]"
          },
          "metadata": {}
        }
      ]
    },
    {
      "cell_type": "markdown",
      "source": [
        "Even after eliminating class imbalance the model is still not preforming well. Let's try transfer learning and see if we can make a better model"
      ],
      "metadata": {
        "id": "naXct8rwIOO4"
      }
    },
    {
      "cell_type": "markdown",
      "source": [
        "## Transfer Learning\n",
        "\n",
        "Let's make a transfer learning model using functional API and data augmentation"
      ],
      "metadata": {
        "id": "JYum7KxTJdf9"
      }
    },
    {
      "cell_type": "code",
      "source": [
        "data_augmentation = tf.keras.models.Sequential([\n",
        "    tf.keras.layers.RandomFlip(\"horizontal\"),\n",
        "    tf.keras.layers.RandomRotation(0.2),\n",
        "    tf.keras.layers.RandomHeight(0.2),\n",
        "    tf.keras.layers.RandomWidth(0.2),\n",
        "    tf.keras.layers.RandomZoom(0.1)\n",
        "], name=\"data_augmentation\")"
      ],
      "metadata": {
        "id": "2D4mYSXGRttv"
      },
      "execution_count": null,
      "outputs": []
    },
    {
      "cell_type": "code",
      "source": [
        "# Setup input shape and base model, freezing the base model layers\n",
        "input_shape = (200, 200, 3)\n",
        "base_model = tf.keras.applications.efficientnet_v2.EfficientNetV2B0(include_top=False)\n",
        "base_model.trainable = False\n",
        "\n",
        "# Create input layer\n",
        "inputs = tf.keras.layers.Input(shape=input_shape, name=\"input_layer\")\n",
        "\n",
        "# Add in data augmentation Sequential model as a layer\n",
        "x = data_augmentation(inputs)\n",
        "\n",
        "# Give base_model inputs (after augmentation) and don't train it\n",
        "x = base_model(x, training=False)\n",
        "\n",
        "# Pool output features of base model\n",
        "x = tf.keras.layers.GlobalAveragePooling2D(name=\"global_average_pooling_layer\")(x)\n",
        "\n",
        "# Put a dense layer on as the output\n",
        "outputs = tf.keras.layers.Dense(94, activation=\"softmax\", name=\"output_layer\")(x)\n",
        "\n",
        "# Make a model with inputs and outputs\n",
        "model_4 = tf.keras.Model(inputs, outputs)\n",
        "\n",
        "# Compile the model\n",
        "model_4.compile(loss=\"categorical_crossentropy\",\n",
        "              optimizer=tf.keras.optimizers.Adam(),\n",
        "              metrics=[\"accuracy\"])\n",
        "\n",
        "history_4 = model_4.fit(train_data_new,\n",
        "                    epochs=5,\n",
        "                    steps_per_epoch=len(train_data_new),\n",
        "                    validation_data=test_data,\n",
        "                    validation_steps= len(test_data))"
      ],
      "metadata": {
        "colab": {
          "base_uri": "https://localhost:8080/"
        },
        "id": "HvCIPq4oIgXs",
        "outputId": "905b0b4a-69bd-48e8-c2f5-8d071125c086"
      },
      "execution_count": null,
      "outputs": [
        {
          "output_type": "stream",
          "name": "stdout",
          "text": [
            "Epoch 1/5\n",
            "886/886 [==============================] - 61s 59ms/step - loss: 4.6884 - accuracy: 0.0116 - val_loss: 4.6875 - val_accuracy: 0.0134\n",
            "Epoch 2/5\n",
            "886/886 [==============================] - 53s 60ms/step - loss: 4.6966 - accuracy: 0.0108 - val_loss: 4.5833 - val_accuracy: 0.0154\n",
            "Epoch 3/5\n",
            "886/886 [==============================] - 55s 62ms/step - loss: 4.6899 - accuracy: 0.0101 - val_loss: 4.6909 - val_accuracy: 0.0252\n",
            "Epoch 4/5\n",
            "886/886 [==============================] - 50s 56ms/step - loss: 4.6884 - accuracy: 0.0112 - val_loss: 4.6359 - val_accuracy: 0.0093\n",
            "Epoch 5/5\n",
            "886/886 [==============================] - 58s 65ms/step - loss: 4.6938 - accuracy: 0.0101 - val_loss: 4.6756 - val_accuracy: 0.0062\n"
          ]
        }
      ]
    },
    {
      "cell_type": "code",
      "source": [],
      "metadata": {
        "id": "7Kga_oCkJm4l"
      },
      "execution_count": null,
      "outputs": []
    }
  ]
}